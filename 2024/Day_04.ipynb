{
 "cells": [
  {
   "cell_type": "markdown",
   "metadata": {},
   "source": [
    "--- Day 4: Ceres Search ---\n",
    "\n",
    "\"Looks like the Chief's not here. Next!\" One of The Historians pulls out a device and pushes the only button on it. After a brief flash, you recognize the interior of the Ceres monitoring station!\n",
    "\n",
    "As the search for the Chief continues, a small Elf who lives on the station tugs on your shirt; she'd like to know if you could help her with her word search (your puzzle input). She only has to find one word: XMAS.\n",
    "\n",
    "This word search allows words to be horizontal, vertical, diagonal, written backwards, or even overlapping other words. It's a little unusual, though, as you don't merely need to find one instance of XMAS - you need to find all of them. Here are a few ways XMAS might appear, where irrelevant characters have been replaced with .:\n",
    "\n",
    "```\n",
    "..X...\n",
    ".SAMX.\n",
    ".A..A.\n",
    "XMAS.S\n",
    ".X....\n",
    "```\n",
    "The actual word search will be full of letters instead. For example:\n",
    "\n",
    "```\n",
    "MMMSXXMASM\n",
    "MSAMXMSMSA\n",
    "AMXSXMAAMM\n",
    "MSAMASMSMX\n",
    "XMASAMXAMM\n",
    "XXAMMXXAMA\n",
    "SMSMSASXSS\n",
    "SAXAMASAAA\n",
    "MAMMMXMMMM\n",
    "MXMXAXMASX\n",
    "```\n",
    "\n",
    "In this word search, XMAS occurs a total of 18 times; here's the same word search again, but where letters not involved in any XMAS have been replaced with .:\n",
    "\n",
    "```\n",
    "....XXMAS.\n",
    ".SAMXMS...\n",
    "...S..A...\n",
    "..A.A.MS.X\n",
    "XMASAMX.MM\n",
    "X.....XA.A\n",
    "S.S.S.S.SS\n",
    ".A.A.A.A.A\n",
    "..M.M.M.MM\n",
    ".X.X.XMASX\n",
    "```\n",
    "Take a look at the little Elf's word search. How many times does XMAS appear?"
   ]
  },
  {
   "cell_type": "code",
   "execution_count": 8,
   "metadata": {},
   "outputs": [],
   "source": [
    "with open(\"inputs/day_04.txt\") as file:\n",
    "    my_input = file.read().splitlines()\n",
    "    \n",
    "with open(\"inputs/test_04.txt\") as file:\n",
    "    test_input = file.read().splitlines()"
   ]
  },
  {
   "cell_type": "code",
   "execution_count": 9,
   "metadata": {},
   "outputs": [
    {
     "data": {
      "text/plain": [
       "['MMMSXXMASM',\n",
       " 'MSAMXMSMSA',\n",
       " 'AMXSXMAAMM',\n",
       " 'MSAMASMSMX',\n",
       " 'XMASAMXAMM',\n",
       " 'XXAMMXXAMA',\n",
       " 'SMSMSASXSS',\n",
       " 'SAXAMASAAA',\n",
       " 'MAMMMXMMMM',\n",
       " 'MXMXAXMASX']"
      ]
     },
     "execution_count": 9,
     "metadata": {},
     "output_type": "execute_result"
    }
   ],
   "source": [
    "test_input"
   ]
  },
  {
   "cell_type": "code",
   "execution_count": 10,
   "metadata": {},
   "outputs": [],
   "source": [
    "def count_xmas_in_line(lines: list):\n",
    "    xmas_count = 0\n",
    "    for line in lines:\n",
    "        xmas_count += line.count(\"XMAS\")\n",
    "        xmas_count += line.count(\"SAMX\") # reverse\n",
    "    return xmas_count"
   ]
  },
  {
   "cell_type": "code",
   "execution_count": 11,
   "metadata": {},
   "outputs": [
    {
     "data": {
      "text/plain": [
       "5"
      ]
     },
     "execution_count": 11,
     "metadata": {},
     "output_type": "execute_result"
    }
   ],
   "source": [
    "count_xmas_in_line(test_input)"
   ]
  },
  {
   "cell_type": "code",
   "execution_count": 12,
   "metadata": {},
   "outputs": [],
   "source": [
    "def columns_to_lines(puzzle):\n",
    "    new_lines = []\n",
    "    for col_num in range(len(puzzle)):\n",
    "        new_line = str()\n",
    "        for line in puzzle:\n",
    "            new_line += line[col_num]\n",
    "        new_lines.append(new_line)\n",
    "    return new_lines"
   ]
  },
  {
   "cell_type": "code",
   "execution_count": 13,
   "metadata": {},
   "outputs": [
    {
     "data": {
      "text/plain": [
       "['MMAMXXSSMM',\n",
       " 'MSMSMXMAAX',\n",
       " 'MAXAAASXMM',\n",
       " 'SMSMSMMAMX',\n",
       " 'XXXAAMSMMA',\n",
       " 'XMMSMXAAXX',\n",
       " 'MSAMXXSSMM',\n",
       " 'AMASAAXAMA',\n",
       " 'SSMMMMSAMS',\n",
       " 'MAMXMASAMX']"
      ]
     },
     "execution_count": 13,
     "metadata": {},
     "output_type": "execute_result"
    }
   ],
   "source": [
    "columns_to_lines(test_input)"
   ]
  },
  {
   "cell_type": "code",
   "execution_count": 23,
   "metadata": {},
   "outputs": [],
   "source": [
    "import numpy as np\n",
    "\n",
    "def diagonals_to_lines(puzzle):\n",
    "    puzzle_grid = [list(line) for line in puzzle]\n",
    "    \n",
    "    new_lines = []\n",
    "\n",
    "    for l in range(len(puzzle_grid[0])):\n",
    "        diag = np.diagonal(puzzle_grid, offset=l)\n",
    "        new_lines.append(''.join(diag))\n",
    "\n",
    "    for c in range(-1, -len(puzzle_grid), -1):\n",
    "        diag = np.diagonal(puzzle_grid, offset=c)\n",
    "        new_lines.append(''.join(diag))\n",
    "\n",
    "    return new_lines"
   ]
  },
  {
   "cell_type": "code",
   "execution_count": 15,
   "metadata": {},
   "outputs": [
    {
     "data": {
      "text/plain": [
       "['MSXMAXSAMX',\n",
       " 'MASAMXXAM',\n",
       " 'MMXSXASA',\n",
       " 'SXMMAMS',\n",
       " 'XMASMA',\n",
       " 'XSAMM',\n",
       " 'MMMX',\n",
       " 'ASM',\n",
       " 'SA',\n",
       " 'M',\n",
       " 'MMASMASMS',\n",
       " 'ASAMSAMA',\n",
       " 'MMAMMXM',\n",
       " 'XXSAMX',\n",
       " 'XMXMA',\n",
       " 'SAMX',\n",
       " 'SAM',\n",
       " 'MX',\n",
       " 'M']"
      ]
     },
     "execution_count": 15,
     "metadata": {},
     "output_type": "execute_result"
    }
   ],
   "source": [
    "diagonals_to_lines(test_input)"
   ]
  },
  {
   "cell_type": "code",
   "execution_count": 16,
   "metadata": {},
   "outputs": [],
   "source": [
    "def solve_part_1(puzzle):\n",
    "    xmas_count = 0\n",
    "    # find xmas in rows\n",
    "    xmas_count += count_xmas_in_line(puzzle)\n",
    "    # find xmas in columns\n",
    "    column_wise = columns_to_lines(puzzle)\n",
    "    xmas_count += count_xmas_in_line(column_wise)\n",
    "    # find xmas in left-to-right diagonals\n",
    "    lr_diag_wise = diagonals_to_lines(puzzle)\n",
    "    xmas_count += count_xmas_in_line(lr_diag_wise)\n",
    "    # find xmas in right-to-left diagonals \n",
    "    flipped_puzzle = [line[::-1] for line in puzzle]\n",
    "    rl_diag_wise = diagonals_to_lines(flipped_puzzle)\n",
    "    xmas_count += count_xmas_in_line(rl_diag_wise)\n",
    "\n",
    "    return xmas_count"
   ]
  },
  {
   "cell_type": "code",
   "execution_count": 17,
   "metadata": {},
   "outputs": [
    {
     "data": {
      "text/plain": [
       "18"
      ]
     },
     "execution_count": 17,
     "metadata": {},
     "output_type": "execute_result"
    }
   ],
   "source": [
    "solve_part_1(test_input)"
   ]
  },
  {
   "cell_type": "code",
   "execution_count": 18,
   "metadata": {},
   "outputs": [
    {
     "data": {
      "text/plain": [
       "2591"
      ]
     },
     "execution_count": 18,
     "metadata": {},
     "output_type": "execute_result"
    }
   ],
   "source": [
    "solve_part_1(my_input)"
   ]
  },
  {
   "cell_type": "markdown",
   "metadata": {},
   "source": [
    "--- Part Two ---\n",
    "\n",
    "The Elf looks quizzically at you. Did you misunderstand the assignment?\n",
    "\n",
    "Looking for the instructions, you flip over the word search to find that this isn't actually an XMAS puzzle; it's an X-MAS puzzle in which you're supposed to find two MAS in the shape of an X. One way to achieve that is like this:\n",
    "\n",
    "```\n",
    "M.S\n",
    ".A.\n",
    "M.S\n",
    "```\n",
    "\n",
    "Irrelevant characters have again been replaced with . in the above diagram. Within the X, each MAS can be written forwards or backwards.\n",
    "\n",
    "Here's the same example from before, but this time all of the X-MASes have been kept instead:\n",
    "\n",
    "```\n",
    ".M.S......\n",
    "..A..MSMS.\n",
    ".M.S.MAA..\n",
    "..A.ASMSM.\n",
    ".M.S.M....\n",
    "..........\n",
    "S.S.S.S.S.\n",
    ".A.A.A.A..\n",
    "M.M.M.M.M.\n",
    "..........\n",
    "```\n",
    "\n",
    "In this example, an X-MAS appears 9 times.\n",
    "\n",
    "Flip the word search from the instructions back over to the word search side and try again. How many times does an X-MAS appear?"
   ]
  },
  {
   "cell_type": "code",
   "execution_count": 20,
   "metadata": {},
   "outputs": [
    {
     "data": {
      "text/plain": [
       "[['M', 'M', 'M', 'S', 'X', 'X', 'M', 'A', 'S', 'M'],\n",
       " ['M', 'S', 'A', 'M', 'X', 'M', 'S', 'M', 'S', 'A'],\n",
       " ['A', 'M', 'X', 'S', 'X', 'M', 'A', 'A', 'M', 'M'],\n",
       " ['M', 'S', 'A', 'M', 'A', 'S', 'M', 'S', 'M', 'X'],\n",
       " ['X', 'M', 'A', 'S', 'A', 'M', 'X', 'A', 'M', 'M'],\n",
       " ['X', 'X', 'A', 'M', 'M', 'X', 'X', 'A', 'M', 'A'],\n",
       " ['S', 'M', 'S', 'M', 'S', 'A', 'S', 'X', 'S', 'S'],\n",
       " ['S', 'A', 'X', 'A', 'M', 'A', 'S', 'A', 'A', 'A'],\n",
       " ['M', 'A', 'M', 'M', 'M', 'X', 'M', 'M', 'M', 'M'],\n",
       " ['M', 'X', 'M', 'X', 'A', 'X', 'M', 'A', 'S', 'X']]"
      ]
     },
     "execution_count": 20,
     "metadata": {},
     "output_type": "execute_result"
    }
   ],
   "source": [
    "test_grid = [list(line) for line in test_input]\n",
    "test_grid"
   ]
  },
  {
   "cell_type": "code",
   "execution_count": 24,
   "metadata": {},
   "outputs": [
    {
     "data": {
      "text/plain": [
       "10"
      ]
     },
     "execution_count": 24,
     "metadata": {},
     "output_type": "execute_result"
    }
   ],
   "source": [
    "test_rows, test_columns = np.shape(test_grid)\n",
    "test_rows"
   ]
  },
  {
   "cell_type": "code",
   "execution_count": 39,
   "metadata": {},
   "outputs": [],
   "source": [
    "def generate_subsquares(raw_input):\n",
    "    puzzle_grid = np.array([list(line) for line in raw_input])\n",
    "    rows, columns = np.shape(puzzle_grid)\n",
    "    subsquare_size = 3\n",
    "    row_corners = np.arange(rows - subsquare_size + 1)[:, np.newaxis, np.newaxis, np.newaxis]\n",
    "    col_corners = np.arange(columns - subsquare_size + 1)[np.newaxis, :, np.newaxis, np.newaxis]\n",
    "    corners = puzzle_grid[row_corners, col_corners]\n",
    "    subsquare_row = row_corners + np.arange(subsquare_size)[:, np.newaxis]\n",
    "    subsquare_col = col_corners + np.arange(subsquare_size)\n",
    "    subsquares = puzzle_grid[subsquare_row, subsquare_col]\n",
    "    subsquare_list = subsquares.reshape(-1, subsquare_size, subsquare_size)\n",
    "    return subsquare_list"
   ]
  },
  {
   "cell_type": "markdown",
   "metadata": {},
   "source": [
    "code credit for generating subsquares: https://matthewmcgonagle.github.io/blog/2017/10/13/SelectingSubsquaresWithNumpyIndexing\n",
    "\n",
    "```\n",
    "cornersRow = np.arange(nRows - sidel + 1)[:, np.newaxis, np.newaxis, np.newaxis]\n",
    "cornersCol = np.arange(nCols - sidel + 1)[np.newaxis, :, np.newaxis, np.newaxis]\n",
    "corners = A[cornersRow, cornersCol]\n",
    "subsquareRow = cornersRow + np.arange(sidel)[:, np.newaxis]\n",
    "subsquareCol = cornersCol + np.arange(sidel)\n",
    "subsquares = A[subsquareRow, subsquareCol]\n",
    "subsquareList = subsquares.reshape(-1, sidel, sidel)\n",
    "```"
   ]
  },
  {
   "cell_type": "code",
   "execution_count": 40,
   "metadata": {},
   "outputs": [
    {
     "data": {
      "text/plain": [
       "array([['M', 'M', 'M'],\n",
       "       ['M', 'S', 'A'],\n",
       "       ['A', 'M', 'X']], dtype='<U1')"
      ]
     },
     "execution_count": 40,
     "metadata": {},
     "output_type": "execute_result"
    }
   ],
   "source": [
    "test_subsquares = generate_subsquares(test_input)\n",
    "test_subsquares[0]"
   ]
  },
  {
   "cell_type": "code",
   "execution_count": 50,
   "metadata": {},
   "outputs": [],
   "source": [
    "def count_xmas_subsquares(subsquare_list):\n",
    "    count = 0\n",
    "    for subsquare in subsquare_list:\n",
    "        diag1 = ''.join(str(x) for x in np.diagonal(subsquare))\n",
    "        diag2 = ''.join(str(x) for x in np.fliplr(subsquare).diagonal())\n",
    "        if (diag1 == 'MAS' or diag1 == 'SAM') and (diag2 == 'MAS' or diag2 == 'SAM'):\n",
    "            count += 1\n",
    "    return count"
   ]
  },
  {
   "cell_type": "code",
   "execution_count": 51,
   "metadata": {},
   "outputs": [
    {
     "data": {
      "text/plain": [
       "9"
      ]
     },
     "execution_count": 51,
     "metadata": {},
     "output_type": "execute_result"
    }
   ],
   "source": [
    "count_xmas_subsquares(test_subsquares)"
   ]
  },
  {
   "cell_type": "code",
   "execution_count": 52,
   "metadata": {},
   "outputs": [],
   "source": [
    "def solve_part_2(raw_input):\n",
    "    subsquares = generate_subsquares(raw_input)\n",
    "    count_xmas = count_xmas_subsquares(subsquares)\n",
    "    return count_xmas"
   ]
  },
  {
   "cell_type": "code",
   "execution_count": 53,
   "metadata": {},
   "outputs": [
    {
     "data": {
      "text/plain": [
       "9"
      ]
     },
     "execution_count": 53,
     "metadata": {},
     "output_type": "execute_result"
    }
   ],
   "source": [
    "solve_part_2(test_input)"
   ]
  },
  {
   "cell_type": "code",
   "execution_count": 54,
   "metadata": {},
   "outputs": [
    {
     "data": {
      "text/plain": [
       "1880"
      ]
     },
     "execution_count": 54,
     "metadata": {},
     "output_type": "execute_result"
    }
   ],
   "source": [
    "solve_part_2(my_input)"
   ]
  }
 ],
 "metadata": {
  "kernelspec": {
   "display_name": ".venv",
   "language": "python",
   "name": "python3"
  },
  "language_info": {
   "codemirror_mode": {
    "name": "ipython",
    "version": 3
   },
   "file_extension": ".py",
   "mimetype": "text/x-python",
   "name": "python",
   "nbconvert_exporter": "python",
   "pygments_lexer": "ipython3",
   "version": "3.13.1"
  }
 },
 "nbformat": 4,
 "nbformat_minor": 2
}
