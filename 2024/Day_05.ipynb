{
 "cells": [
  {
   "cell_type": "markdown",
   "metadata": {},
   "source": [
    "--- Day 5: Print Queue ---\n",
    "\n",
    "Satisfied with their search on Ceres, the squadron of scholars suggests subsequently scanning the stationery stacks of sub-basement 17.\n",
    "\n",
    "The North Pole printing department is busier than ever this close to Christmas, and while The Historians continue their search of this historically significant facility, an Elf operating a very familiar printer beckons you over.\n",
    "\n",
    "The Elf must recognize you, because they waste no time explaining that the new sleigh launch safety manual updates won't print correctly. Failure to update the safety manuals would be dire indeed, so you offer your services.\n",
    "\n",
    "Safety protocols clearly indicate that new pages for the safety manuals must be printed in a very specific order. The notation X|Y means that if both page number X and page number Y are to be produced as part of an update, page number X must be printed at some point before page number Y.\n",
    "\n",
    "The Elf has for you both the page ordering rules and the pages to produce in each update (your puzzle input), but can't figure out whether each update has the pages in the right order.\n",
    "\n",
    "For example:\n",
    "\n",
    "```\n",
    "47|53\n",
    "97|13\n",
    "97|61\n",
    "97|47\n",
    "75|29\n",
    "61|13\n",
    "75|53\n",
    "29|13\n",
    "97|29\n",
    "53|29\n",
    "61|53\n",
    "97|53\n",
    "61|29\n",
    "47|13\n",
    "75|47\n",
    "97|75\n",
    "47|61\n",
    "75|61\n",
    "47|29\n",
    "75|13\n",
    "53|13\n",
    "\n",
    "75,47,61,53,29\n",
    "97,61,53,29,13\n",
    "75,29,13\n",
    "75,97,47,61,53\n",
    "61,13,29\n",
    "97,13,75,29,47\n",
    "```\n",
    "\n",
    "The first section specifies the page ordering rules, one per line. The first rule, 47|53, means that if an update includes both page number 47 and page number 53, then page number 47 must be printed at some point before page number 53. (47 doesn't necessarily need to be immediately before 53; other pages are allowed to be between them.)\n",
    "\n",
    "The second section specifies the page numbers of each update. Because most safety manuals are different, the pages needed in the updates are different too. The first update, 75,47,61,53,29, means that the update consists of page numbers 75, 47, 61, 53, and 29.\n",
    "\n",
    "To get the printers going as soon as possible, start by identifying which updates are already in the right order.\n",
    "\n",
    "In the above example, the first update (75,47,61,53,29) is in the right order:\n",
    "\n",
    "- 75 is correctly first because there are rules that put each other page after it: 75|47, 75|61, 75|53, and 75|29.\n",
    "- 47 is correctly second because 75 must be before it (75|47) and every other page must be after it according to 47|61, 47|53, and 47|29.\n",
    "- 61 is correctly in the middle because 75 and 47 are before it (75|61 and 47|61) and 53 and 29 are after it (61|53 and 61|29).\n",
    "- 53 is correctly fourth because it is before page number 29 (53|29).\n",
    "- 29 is the only page left and so is correctly last.\n",
    "- Because the first update does not include some page numbers, the ordering rules involving those missing page numbers are ignored.\n",
    "\n",
    "The second and third updates are also in the correct order according to the rules. Like the first update, they also do not include every page number, and so only some of the ordering rules apply - within each update, the ordering rules that involve missing page numbers are not used.\n",
    "\n",
    "The fourth update, 75,97,47,61,53, is not in the correct order: it would print 75 before 97, which violates the rule 97|75.\n",
    "\n",
    "The fifth update, 61,13,29, is also not in the correct order, since it breaks the rule 29|13.\n",
    "\n",
    "The last update, 97,13,75,29,47, is not in the correct order due to breaking several rules.\n",
    "\n",
    "For some reason, the Elves also need to know the middle page number of each update being printed. Because you are currently only printing the correctly-ordered updates, you will need to find the middle page number of each correctly-ordered update. In the above example, the correctly-ordered updates are:\n",
    "\n",
    "75,47,61,53,29\n",
    "97,61,53,29,13\n",
    "75,29,13\n",
    "These have middle page numbers of 61, 53, and 29 respectively. Adding these page numbers together gives 143.\n",
    "\n",
    "Of course, you'll need to be careful: the actual list of page ordering rules is bigger and more complicated than the above example.\n",
    "\n",
    "Determine which updates are already in the correct order. What do you get if you add up the middle page number from those correctly-ordered updates?"
   ]
  },
  {
   "cell_type": "code",
   "execution_count": 17,
   "metadata": {},
   "outputs": [],
   "source": [
    "with open(\"inputs/day_05.txt\") as file:\n",
    "    my_input = file.read().splitlines()\n",
    "    \n",
    "with open(\"inputs/test_05.txt\") as file:\n",
    "    test_input = file.read().splitlines()"
   ]
  },
  {
   "cell_type": "code",
   "execution_count": 18,
   "metadata": {},
   "outputs": [
    {
     "data": {
      "text/plain": [
       "['47|53',\n",
       " '97|13',\n",
       " '97|61',\n",
       " '97|47',\n",
       " '75|29',\n",
       " '61|13',\n",
       " '75|53',\n",
       " '29|13',\n",
       " '97|29',\n",
       " '53|29',\n",
       " '61|53',\n",
       " '97|53',\n",
       " '61|29',\n",
       " '47|13',\n",
       " '75|47',\n",
       " '97|75',\n",
       " '47|61',\n",
       " '75|61',\n",
       " '47|29',\n",
       " '75|13',\n",
       " '53|13',\n",
       " '',\n",
       " '75,47,61,53,29',\n",
       " '97,61,53,29,13',\n",
       " '75,29,13',\n",
       " '75,97,47,61,53',\n",
       " '61,13,29',\n",
       " '97,13,75,29,47']"
      ]
     },
     "execution_count": 18,
     "metadata": {},
     "output_type": "execute_result"
    }
   ],
   "source": [
    "test_input"
   ]
  },
  {
   "cell_type": "code",
   "execution_count": 19,
   "metadata": {},
   "outputs": [],
   "source": [
    "def get_rules_and_updates(raw_input):\n",
    "    rules_list = raw_input[:raw_input.index('')]\n",
    "    rules = [r.split('|') for r in rules_list]\n",
    "    updates_list = raw_input[raw_input.index('')+1:]\n",
    "    updates = [u.split(',') for u in updates_list]\n",
    "    return rules, updates"
   ]
  },
  {
   "cell_type": "code",
   "execution_count": 20,
   "metadata": {},
   "outputs": [],
   "source": [
    "test_rules, test_updates = get_rules_and_updates(test_input)"
   ]
  },
  {
   "cell_type": "code",
   "execution_count": 21,
   "metadata": {},
   "outputs": [
    {
     "data": {
      "text/plain": [
       "[['47', '53'],\n",
       " ['97', '13'],\n",
       " ['97', '61'],\n",
       " ['97', '47'],\n",
       " ['75', '29'],\n",
       " ['61', '13'],\n",
       " ['75', '53'],\n",
       " ['29', '13'],\n",
       " ['97', '29'],\n",
       " ['53', '29'],\n",
       " ['61', '53'],\n",
       " ['97', '53'],\n",
       " ['61', '29'],\n",
       " ['47', '13'],\n",
       " ['75', '47'],\n",
       " ['97', '75'],\n",
       " ['47', '61'],\n",
       " ['75', '61'],\n",
       " ['47', '29'],\n",
       " ['75', '13'],\n",
       " ['53', '13']]"
      ]
     },
     "execution_count": 21,
     "metadata": {},
     "output_type": "execute_result"
    }
   ],
   "source": [
    "test_rules"
   ]
  },
  {
   "cell_type": "code",
   "execution_count": 22,
   "metadata": {},
   "outputs": [
    {
     "data": {
      "text/plain": [
       "[['75', '47', '61', '53', '29'],\n",
       " ['97', '61', '53', '29', '13'],\n",
       " ['75', '29', '13'],\n",
       " ['75', '97', '47', '61', '53'],\n",
       " ['61', '13', '29'],\n",
       " ['97', '13', '75', '29', '47']]"
      ]
     },
     "execution_count": 22,
     "metadata": {},
     "output_type": "execute_result"
    }
   ],
   "source": [
    "test_updates"
   ]
  },
  {
   "cell_type": "code",
   "execution_count": 23,
   "metadata": {},
   "outputs": [],
   "source": [
    "def generate_proper_page_order(rules, verbose=False):\n",
    "    proper_order = list()\n",
    "\n",
    "    # first, just get all of the numbers in a list\n",
    "    for a, b in rules:\n",
    "        if a not in proper_order:\n",
    "            proper_order.append(a)\n",
    "        if b not in proper_order:\n",
    "            proper_order.append(b)\n",
    "    \n",
    "    if verbose:\n",
    "        print(proper_order)\n",
    "    for a, b in rules:\n",
    "        a_pos = proper_order.index(a)\n",
    "        b_pos = proper_order.index(b)\n",
    "\n",
    "        # if 2nd pg should be before 1st, send 2nd pg to position of 1st in list\n",
    "        if a_pos > b_pos:\n",
    "            proper_order.insert(a_pos, proper_order.pop(b_pos))\n",
    "            if verbose:\n",
    "                print (a, \" should be before \", b)\n",
    "                print(proper_order)\n",
    "    \n",
    "    return proper_order"
   ]
  },
  {
   "cell_type": "code",
   "execution_count": 24,
   "metadata": {},
   "outputs": [
    {
     "name": "stdout",
     "output_type": "stream",
     "text": [
      "['47', '53', '97', '13', '61', '75', '29']\n",
      "97  should be before  47\n",
      "['53', '97', '47', '13', '61', '75', '29']\n",
      "61  should be before  13\n",
      "['53', '97', '47', '61', '13', '75', '29']\n",
      "75  should be before  53\n",
      "['97', '47', '61', '13', '75', '53', '29']\n",
      "29  should be before  13\n",
      "['97', '47', '61', '75', '53', '29', '13']\n",
      "75  should be before  47\n",
      "['97', '61', '75', '47', '53', '29', '13']\n",
      "47  should be before  61\n",
      "['97', '75', '47', '61', '53', '29', '13']\n"
     ]
    },
    {
     "data": {
      "text/plain": [
       "['97', '75', '47', '61', '53', '29', '13']"
      ]
     },
     "execution_count": 24,
     "metadata": {},
     "output_type": "execute_result"
    }
   ],
   "source": [
    "generate_proper_page_order(test_rules, verbose=True)"
   ]
  },
  {
   "cell_type": "code",
   "execution_count": 25,
   "metadata": {},
   "outputs": [],
   "source": [
    "test_proper_order = generate_proper_page_order(test_rules)"
   ]
  },
  {
   "cell_type": "code",
   "execution_count": 26,
   "metadata": {},
   "outputs": [],
   "source": [
    "def check_update_in_proper_order(update, proper_order):\n",
    "    relevant_rules = list()\n",
    "    for page in proper_order:\n",
    "        if page in update:\n",
    "            relevant_rules.append(page)\n",
    "    \n",
    "    if relevant_rules == update:\n",
    "        return True\n",
    "    else:\n",
    "        return False"
   ]
  },
  {
   "cell_type": "code",
   "execution_count": 27,
   "metadata": {},
   "outputs": [
    {
     "data": {
      "text/plain": [
       "False"
      ]
     },
     "execution_count": 27,
     "metadata": {},
     "output_type": "execute_result"
    }
   ],
   "source": [
    "check_update_in_proper_order(test_updates[5], test_proper_order)"
   ]
  },
  {
   "cell_type": "code",
   "execution_count": 28,
   "metadata": {},
   "outputs": [],
   "source": [
    "def get_middle_page_in_update(update):\n",
    "    middle_pos = int((len(update) - 1) / 2)\n",
    "    return int(update[middle_pos])"
   ]
  },
  {
   "cell_type": "code",
   "execution_count": 29,
   "metadata": {},
   "outputs": [
    {
     "name": "stdout",
     "output_type": "stream",
     "text": [
      "['75', '47', '61', '53', '29']\n",
      "61\n"
     ]
    }
   ],
   "source": [
    "print(test_updates[0])\n",
    "print(get_middle_page_in_update(test_updates[0]))"
   ]
  },
  {
   "cell_type": "code",
   "execution_count": 30,
   "metadata": {},
   "outputs": [],
   "source": [
    "def solve_part_1(raw_input):\n",
    "    rules, updates = get_rules_and_updates(raw_input)\n",
    "    proper_order = generate_proper_page_order(rules)\n",
    "    middle_sum = 0\n",
    "    for update in updates:\n",
    "        if check_update_in_proper_order(update, proper_order):\n",
    "            middle_sum += get_middle_page_in_update(update)\n",
    "    return middle_sum"
   ]
  },
  {
   "cell_type": "code",
   "execution_count": 31,
   "metadata": {},
   "outputs": [
    {
     "data": {
      "text/plain": [
       "143"
      ]
     },
     "execution_count": 31,
     "metadata": {},
     "output_type": "execute_result"
    }
   ],
   "source": [
    "solve_part_1(test_input)"
   ]
  },
  {
   "cell_type": "code",
   "execution_count": 32,
   "metadata": {},
   "outputs": [
    {
     "data": {
      "text/plain": [
       "19"
      ]
     },
     "execution_count": 32,
     "metadata": {},
     "output_type": "execute_result"
    }
   ],
   "source": [
    "solve_part_1(my_input)"
   ]
  },
  {
   "cell_type": "markdown",
   "metadata": {},
   "source": [
    "The test answer is correct, but the actual answer for my input is wrong."
   ]
  }
 ],
 "metadata": {
  "kernelspec": {
   "display_name": ".venv",
   "language": "python",
   "name": "python3"
  },
  "language_info": {
   "codemirror_mode": {
    "name": "ipython",
    "version": 3
   },
   "file_extension": ".py",
   "mimetype": "text/x-python",
   "name": "python",
   "nbconvert_exporter": "python",
   "pygments_lexer": "ipython3",
   "version": "3.13.1"
  }
 },
 "nbformat": 4,
 "nbformat_minor": 2
}
