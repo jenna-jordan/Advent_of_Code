{
 "cells": [
  {
   "cell_type": "markdown",
   "metadata": {},
   "source": [
    "--- Day 6: Guard Gallivant ---\n",
    "\n",
    "The Historians use their fancy device again, this time to whisk you all away to the North Pole prototype suit manufacturing lab... in the year 1518! It turns out that having direct access to history is very convenient for a group of historians.\n",
    "\n",
    "You still have to be careful of time paradoxes, and so it will be important to avoid anyone from 1518 while The Historians search for the Chief. Unfortunately, a single guard is patrolling this part of the lab.\n",
    "\n",
    "Maybe you can work out where the guard will go ahead of time so that The Historians can search safely?\n",
    "\n",
    "You start by making a map (your puzzle input) of the situation. For example:\n",
    "\n",
    "```\n",
    "....#.....\n",
    ".........#\n",
    "..........\n",
    "..#.......\n",
    ".......#..\n",
    "..........\n",
    ".#..^.....\n",
    "........#.\n",
    "#.........\n",
    "......#...\n",
    "```\n",
    "\n",
    "The map shows the current position of the guard with ^ (to indicate the guard is currently facing up from the perspective of the map). Any obstructions - crates, desks, alchemical reactors, etc. - are shown as #.\n",
    "\n",
    "Lab guards in 1518 follow a very strict patrol protocol which involves repeatedly following these steps:\n",
    "\n",
    "If there is something directly in front of you, turn right 90 degrees.\n",
    "Otherwise, take a step forward.\n",
    "Following the above protocol, the guard moves up several times until she reaches an obstacle (in this case, a pile of failed suit prototypes):\n",
    "\n",
    "```\n",
    "....#.....\n",
    "....^....#\n",
    "..........\n",
    "..#.......\n",
    ".......#..\n",
    "..........\n",
    ".#........\n",
    "........#.\n",
    "#.........\n",
    "......#...\n",
    "```\n",
    "\n",
    "Because there is now an obstacle in front of the guard, she turns right before continuing straight in her new facing direction:\n",
    "\n",
    "```\n",
    "....#.....\n",
    "........>#\n",
    "..........\n",
    "..#.......\n",
    ".......#..\n",
    "..........\n",
    ".#........\n",
    "........#.\n",
    "#.........\n",
    "......#...\n",
    "```\n",
    "\n",
    "Reaching another obstacle (a spool of several very long polymers), she turns right again and continues downward:\n",
    "\n",
    "```\n",
    "....#.....\n",
    ".........#\n",
    "..........\n",
    "..#.......\n",
    ".......#..\n",
    "..........\n",
    ".#......v.\n",
    "........#.\n",
    "#.........\n",
    "......#...\n",
    "```\n",
    "\n",
    "This process continues for a while, but the guard eventually leaves the mapped area (after walking past a tank of universal solvent):\n",
    "\n",
    "```\n",
    "....#.....\n",
    ".........#\n",
    "..........\n",
    "..#.......\n",
    ".......#..\n",
    "..........\n",
    ".#........\n",
    "........#.\n",
    "#.........\n",
    "......#v..\n",
    "```\n",
    "\n",
    "By predicting the guard's route, you can determine which specific positions in the lab will be in the patrol path. Including the guard's starting position, the positions visited by the guard before leaving the area are marked with an X:\n",
    "\n",
    "```\n",
    "....#.....\n",
    "....XXXXX#\n",
    "....X...X.\n",
    "..#.X...X.\n",
    "..XXXXX#X.\n",
    "..X.X.X.X.\n",
    ".#XXXXXXX.\n",
    ".XXXXXXX#.\n",
    "#XXXXXXX..\n",
    "......#X..\n",
    "```\n",
    "\n",
    "In this example, the guard will visit 41 distinct positions on your map.\n",
    "\n",
    "Predict the path of the guard. How many distinct positions will the guard visit before leaving the mapped area?"
   ]
  },
  {
   "cell_type": "code",
   "execution_count": 1,
   "metadata": {},
   "outputs": [],
   "source": [
    "with open(\"inputs/day_06.txt\") as file:\n",
    "    my_input = file.read().splitlines()\n",
    "    \n",
    "with open(\"inputs/test_06.txt\") as file:\n",
    "    test_input = file.read().splitlines()\n",
    "\n",
    "import numpy as np"
   ]
  },
  {
   "cell_type": "code",
   "execution_count": 2,
   "metadata": {},
   "outputs": [
    {
     "data": {
      "text/plain": [
       "['....#.....',\n",
       " '.........#',\n",
       " '..........',\n",
       " '..#.......',\n",
       " '.......#..',\n",
       " '..........',\n",
       " '.#..^.....',\n",
       " '........#.',\n",
       " '#.........',\n",
       " '......#...']"
      ]
     },
     "execution_count": 2,
     "metadata": {},
     "output_type": "execute_result"
    }
   ],
   "source": [
    "test_input"
   ]
  },
  {
   "cell_type": "code",
   "execution_count": 7,
   "metadata": {},
   "outputs": [],
   "source": [
    "def convert_to_2d_array(raw_input):\n",
    "    list_of_lists = [list(l) for l in raw_input]\n",
    "    array = np.array(list_of_lists)\n",
    "    return array"
   ]
  },
  {
   "cell_type": "code",
   "execution_count": 65,
   "metadata": {},
   "outputs": [
    {
     "data": {
      "text/plain": [
       "array([['.', '.', '.', '.', '#', '.', '.', '.', '.', '.'],\n",
       "       ['.', '.', '.', '.', '.', '.', '.', '.', '.', '#'],\n",
       "       ['.', '.', '.', '.', '.', '.', '.', '.', '.', '.'],\n",
       "       ['.', '.', '#', '.', '.', '.', '.', '.', '.', '.'],\n",
       "       ['.', '.', '.', '.', '.', '.', '.', '#', '.', '.'],\n",
       "       ['.', '.', '.', '.', '.', '.', '.', '.', '.', '.'],\n",
       "       ['.', '#', '.', '.', '^', '.', '.', '.', '.', '.'],\n",
       "       ['.', '.', '.', '.', '.', '.', '.', '.', '#', '.'],\n",
       "       ['#', '.', '.', '.', '.', '.', '.', '.', '.', '.'],\n",
       "       ['.', '.', '.', '.', '.', '.', '#', '.', '.', '.']], dtype='<U1')"
      ]
     },
     "execution_count": 65,
     "metadata": {},
     "output_type": "execute_result"
    }
   ],
   "source": [
    "test_map = convert_to_2d_array(test_input)\n",
    "test_map"
   ]
  },
  {
   "cell_type": "code",
   "execution_count": 66,
   "metadata": {},
   "outputs": [],
   "source": [
    "def mark_guards_path(map_input):\n",
    "    map = map_input.copy()\n",
    "    directions = ['^','>','v','<']\n",
    "    guard_loc1, guard_loc2 = np.where(np.isin(map, directions))\n",
    "    guard_dir = str(map[guard_loc1, guard_loc2][0])\n",
    "    guard_in_map = True \n",
    "    while guard_in_map:\n",
    "        map[guard_loc1, guard_loc2] = 'X'\n",
    "        \n",
    "        if guard_dir == '^':\n",
    "            next_location = guard_loc1 - 1, guard_loc2\n",
    "        elif guard_dir == 'v':\n",
    "            next_location = guard_loc1 + 1, guard_loc2\n",
    "        elif guard_dir == '>':\n",
    "            next_location = guard_loc1, guard_loc2 + 1\n",
    "        elif guard_dir == '<':\n",
    "            next_location = guard_loc1, guard_loc2 - 1\n",
    "        \n",
    "        if (next_location[0] < 0) or (next_location[0] >= map.shape[0]):\n",
    "            guard_in_map = False\n",
    "            break \n",
    "        if (next_location[1] < 0) or (next_location[1] >= map.shape[1]):\n",
    "            guard_in_map = False\n",
    "            break \n",
    "\n",
    "        at_next_location = str(map[next_location][0])\n",
    "        if at_next_location == '.':\n",
    "            map[next_location] = guard_dir\n",
    "            guard_loc1, guard_loc2 = next_location[0], next_location[1]\n",
    "        elif at_next_location == 'X':\n",
    "            map[next_location] = guard_dir\n",
    "            guard_loc1, guard_loc2 = next_location[0], next_location[1]\n",
    "        elif at_next_location == '#':\n",
    "            next_direction = (directions.index(guard_dir) + 1) % len(directions)\n",
    "            guard_dir = directions[next_direction]\n",
    "            map[guard_loc1, guard_loc2] = guard_dir\n",
    "\n",
    "    return map"
   ]
  },
  {
   "cell_type": "code",
   "execution_count": 67,
   "metadata": {},
   "outputs": [
    {
     "data": {
      "text/plain": [
       "array([['.', '.', '.', '.', '#', '.', '.', '.', '.', '.'],\n",
       "       ['.', '.', '.', '.', 'X', 'X', 'X', 'X', 'X', '#'],\n",
       "       ['.', '.', '.', '.', 'X', '.', '.', '.', 'X', '.'],\n",
       "       ['.', '.', '#', '.', 'X', '.', '.', '.', 'X', '.'],\n",
       "       ['.', '.', 'X', 'X', 'X', 'X', 'X', '#', 'X', '.'],\n",
       "       ['.', '.', 'X', '.', 'X', '.', 'X', '.', 'X', '.'],\n",
       "       ['.', '#', 'X', 'X', 'X', 'X', 'X', 'X', 'X', '.'],\n",
       "       ['.', 'X', 'X', 'X', 'X', 'X', 'X', 'X', '#', '.'],\n",
       "       ['#', 'X', 'X', 'X', 'X', 'X', 'X', 'X', '.', '.'],\n",
       "       ['.', '.', '.', '.', '.', '.', '#', 'X', '.', '.']], dtype='<U1')"
      ]
     },
     "execution_count": 67,
     "metadata": {},
     "output_type": "execute_result"
    }
   ],
   "source": [
    "marked_map = mark_guards_path(test_map)\n",
    "marked_map"
   ]
  },
  {
   "cell_type": "code",
   "execution_count": 69,
   "metadata": {},
   "outputs": [
    {
     "data": {
      "text/plain": [
       "41"
      ]
     },
     "execution_count": 69,
     "metadata": {},
     "output_type": "execute_result"
    }
   ],
   "source": [
    "int(np.char.count(marked_map, 'X').sum())"
   ]
  },
  {
   "cell_type": "code",
   "execution_count": 70,
   "metadata": {},
   "outputs": [],
   "source": [
    "def solve_part_1(raw_input):\n",
    "    map = convert_to_2d_array(raw_input)\n",
    "    marked_map = mark_guards_path(map)\n",
    "    count = int(np.char.count(marked_map, 'X').sum())\n",
    "    return count"
   ]
  },
  {
   "cell_type": "code",
   "execution_count": 71,
   "metadata": {},
   "outputs": [
    {
     "data": {
      "text/plain": [
       "41"
      ]
     },
     "execution_count": 71,
     "metadata": {},
     "output_type": "execute_result"
    }
   ],
   "source": [
    "solve_part_1(test_input)"
   ]
  },
  {
   "cell_type": "code",
   "execution_count": 72,
   "metadata": {},
   "outputs": [
    {
     "data": {
      "text/plain": [
       "4665"
      ]
     },
     "execution_count": 72,
     "metadata": {},
     "output_type": "execute_result"
    }
   ],
   "source": [
    "solve_part_1(my_input)"
   ]
  },
  {
   "cell_type": "code",
   "execution_count": null,
   "metadata": {},
   "outputs": [],
   "source": []
  }
 ],
 "metadata": {
  "kernelspec": {
   "display_name": ".venv",
   "language": "python",
   "name": "python3"
  },
  "language_info": {
   "codemirror_mode": {
    "name": "ipython",
    "version": 3
   },
   "file_extension": ".py",
   "mimetype": "text/x-python",
   "name": "python",
   "nbconvert_exporter": "python",
   "pygments_lexer": "ipython3",
   "version": "3.13.1"
  }
 },
 "nbformat": 4,
 "nbformat_minor": 2
}
