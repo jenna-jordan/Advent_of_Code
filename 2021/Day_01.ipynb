{
 "cells": [
  {
   "cell_type": "markdown",
   "id": "68b571aa-71b5-4a3b-be32-2600bca7eedb",
   "metadata": {},
   "source": [
    "# AoC Day 1\n",
    "\n",
    "Jenna Jordan\n",
    "\n",
    "1 December 2021\n",
    "\n",
    "## Prompt\n",
    "\n",
    "--- Day 1: Sonar Sweep ---\n",
    "\n",
    "You're minding your own business on a ship at sea when the overboard alarm goes off! You rush to see if you can help. Apparently, one of the Elves tripped and accidentally sent the sleigh keys flying into the ocean!\n",
    "\n",
    "Before you know it, you're inside a submarine the Elves keep ready for situations like this. It's covered in Christmas lights (because of course it is), and it even has an experimental antenna that should be able to track the keys if you can boost its signal strength high enough; there's a little meter that indicates the antenna's signal strength by displaying 0-50 stars.\n",
    "\n",
    "Your instincts tell you that in order to save Christmas, you'll need to get all fifty stars by December 25th.\n",
    "\n",
    "Collect stars by solving puzzles. Two puzzles will be made available on each day in the Advent calendar; the second puzzle is unlocked when you complete the first. Each puzzle grants one star. Good luck!\n",
    "\n",
    "### Part 1\n",
    "\n",
    "As the submarine drops below the surface of the ocean, it automatically performs a sonar sweep of the nearby sea floor. On a small screen, the sonar sweep report (your puzzle input) appears: each line is a measurement of the sea floor depth as the sweep looks further and further away from the submarine.\n",
    "\n",
    "For example, suppose you had the following report:\n",
    "\n",
    "199\n",
    "200\n",
    "208\n",
    "210\n",
    "200\n",
    "207\n",
    "240\n",
    "269\n",
    "260\n",
    "263\n",
    "This report indicates that, scanning outward from the submarine, the sonar sweep found depths of 199, 200, 208, 210, and so on.\n",
    "\n",
    "The first order of business is to figure out how quickly the depth increases, just so you know what you're dealing with - you never know if the keys will get carried into deeper water by an ocean current or a fish or something.\n",
    "\n",
    "To do this, count the number of times a depth measurement increases from the previous measurement. (There is no measurement before the first measurement.) In the example above, the changes are as follows:\n",
    "\n",
    "199 (N/A - no previous measurement)\n",
    "200 (increased)\n",
    "208 (increased)\n",
    "210 (increased)\n",
    "200 (decreased)\n",
    "207 (increased)\n",
    "240 (increased)\n",
    "269 (increased)\n",
    "260 (decreased)\n",
    "263 (increased)\n",
    "In this example, there are 7 measurements that are larger than the previous measurement.\n",
    "\n",
    "How many measurements are larger than the previous measurement?"
   ]
  },
  {
   "cell_type": "code",
   "execution_count": 13,
   "id": "3f71cbb6-5256-4c44-b2ef-5e97468def59",
   "metadata": {},
   "outputs": [],
   "source": [
    "# get input\n",
    "\n",
    "with open(\"inputs/day1.txt\") as file:\n",
    "    inputs = file.readlines()\n",
    "\n",
    "m_list = []\n",
    "for m in inputs:\n",
    "    m = m.rstrip()\n",
    "    m = int(m)\n",
    "    m_list.append(m)"
   ]
  },
  {
   "cell_type": "code",
   "execution_count": 15,
   "id": "7bf84a25-2a48-4a51-9d79-e3bf9be58b27",
   "metadata": {},
   "outputs": [
    {
     "data": {
      "text/plain": [
       "2000"
      ]
     },
     "execution_count": 15,
     "metadata": {},
     "output_type": "execute_result"
    }
   ],
   "source": [
    "len(m_list)"
   ]
  },
  {
   "cell_type": "code",
   "execution_count": 16,
   "id": "3083d532-1874-453c-a895-a7795bc7afef",
   "metadata": {},
   "outputs": [
    {
     "data": {
      "text/plain": [
       "[191, 185, 188, 189, 204, 213, 215, 227, 222, 221]"
      ]
     },
     "execution_count": 16,
     "metadata": {},
     "output_type": "execute_result"
    }
   ],
   "source": [
    "m_list[0:10]"
   ]
  },
  {
   "cell_type": "code",
   "execution_count": 24,
   "id": "03c0d700-3257-4aa4-82a8-46c37df8adf7",
   "metadata": {},
   "outputs": [
    {
     "name": "stdout",
     "output_type": "stream",
     "text": [
      "1709\n"
     ]
    }
   ],
   "source": [
    "larger_count = 0\n",
    "prev_m = m_list[0]\n",
    "\n",
    "for m in m_list[1:]:\n",
    "    if m > prev_m:\n",
    "        larger_count += 1\n",
    "    prev_m = m\n",
    "\n",
    "print(larger_count)"
   ]
  },
  {
   "cell_type": "markdown",
   "id": "963a5799-90e9-4ca6-88d7-8175a68b23c4",
   "metadata": {},
   "source": [
    "### Part 1 Solution\n",
    "\n",
    "1709\n",
    "Correct!"
   ]
  },
  {
   "cell_type": "markdown",
   "id": "fa3a76ac-5977-4029-8daf-bded7561b555",
   "metadata": {},
   "source": [
    "### Part 2\n",
    "\n",
    "Considering every single measurement isn't as useful as you expected: there's just too much noise in the data.\n",
    "\n",
    "Instead, consider sums of a three-measurement sliding window. Again considering the above example:\n",
    "\n",
    "```\n",
    "199  A      \n",
    "200  A B    \n",
    "208  A B C  \n",
    "210    B C D\n",
    "200  E   C D\n",
    "207  E F   D\n",
    "240  E F G  \n",
    "269    F G H\n",
    "260      G H\n",
    "263        H\n",
    "```\n",
    "\n",
    "Start by comparing the first and second three-measurement windows. The measurements in the first window are marked A (199, 200, 208); their sum is 199 + 200 + 208 = 607. The second window is marked B (200, 208, 210); its sum is 618. The sum of measurements in the second window is larger than the sum of the first, so this first comparison increased.\n",
    "\n",
    "Your goal now is to count the number of times the sum of measurements in this sliding window increases from the previous sum. So, compare A with B, then compare B with C, then C with D, and so on. Stop when there aren't enough measurements left to create a new three-measurement sum.\n",
    "\n",
    "In the above example, the sum of each three-measurement window is as follows:\n",
    "\n",
    "```\n",
    "A: 607 (N/A - no previous sum)\n",
    "B: 618 (increased)\n",
    "C: 618 (no change)\n",
    "D: 617 (decreased)\n",
    "E: 647 (increased)\n",
    "F: 716 (increased)\n",
    "G: 769 (increased)\n",
    "H: 792 (increased)\n",
    "```\n",
    "\n",
    "In this example, there are 5 sums that are larger than the previous sum.\n",
    "\n",
    "Consider sums of a three-measurement sliding window. How many sums are larger than the previous sum?"
   ]
  },
  {
   "cell_type": "code",
   "execution_count": 27,
   "id": "556fbde7-3265-4f61-9263-625b9ab5c480",
   "metadata": {},
   "outputs": [
    {
     "name": "stdout",
     "output_type": "stream",
     "text": [
      "564\n",
      "[191, 185, 188]\n"
     ]
    }
   ],
   "source": [
    "prev_window = sum(m_list[0:3])\n",
    "print(prev_window)\n",
    "print(m_list[0:3])"
   ]
  },
  {
   "cell_type": "code",
   "execution_count": 28,
   "id": "6af88bd2-d85f-42c8-a66c-7587b06e53e0",
   "metadata": {},
   "outputs": [
    {
     "name": "stdout",
     "output_type": "stream",
     "text": [
      "[10510, 10511, 10515, 10525, 10526]\n"
     ]
    }
   ],
   "source": [
    "print(m_list[-5:])"
   ]
  },
  {
   "cell_type": "code",
   "execution_count": 40,
   "id": "c718a30d-7469-4ad8-8c13-34b713788dc9",
   "metadata": {},
   "outputs": [
    {
     "name": "stdout",
     "output_type": "stream",
     "text": [
      "1761\n"
     ]
    }
   ],
   "source": [
    "larger_count = 0\n",
    "prev_window = sum(m_list[0:3])\n",
    "start = 1\n",
    "\n",
    "for m in m_list[1:-2]:\n",
    "    this_window = sum(m_list[start:start+3])\n",
    "    if this_window > prev_window:\n",
    "        larger_count += 1\n",
    "    prev_window = this_window\n",
    "    start += 1\n",
    "\n",
    "print(larger_count)"
   ]
  },
  {
   "cell_type": "markdown",
   "id": "b102bebc-e869-445a-8092-844092d5e5d4",
   "metadata": {},
   "source": [
    "### Part 2 Solution\n",
    "\n",
    "1761 Correct!\n",
    "\n",
    "Note: I submitted the wrong answer at first because I forgot to do this bit: `prev_window = this_window` - oops!"
   ]
  },
  {
   "cell_type": "code",
   "execution_count": null,
   "id": "4f44dda0-b176-43ba-8676-1dd20d301f57",
   "metadata": {},
   "outputs": [],
   "source": []
  }
 ],
 "metadata": {
  "kernelspec": {
   "display_name": "Python 3",
   "language": "python",
   "name": "python3"
  },
  "language_info": {
   "codemirror_mode": {
    "name": "ipython",
    "version": 3
   },
   "file_extension": ".py",
   "mimetype": "text/x-python",
   "name": "python",
   "nbconvert_exporter": "python",
   "pygments_lexer": "ipython3",
   "version": "3.8.8"
  }
 },
 "nbformat": 4,
 "nbformat_minor": 5
}
