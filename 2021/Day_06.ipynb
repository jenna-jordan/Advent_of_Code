{
 "cells": [
  {
   "cell_type": "markdown",
   "id": "b418e1fa-99db-443f-b951-4c0435b96a5a",
   "metadata": {},
   "source": [
    "# AoC Day 6\n",
    "\n",
    "Jenna Jordan\n",
    "\n",
    "6 December 2021\n",
    "\n",
    "## Prompt\n",
    "\n",
    "--- Day 6: Lanternfish ---\n",
    "\n",
    "The sea floor is getting steeper. Maybe the sleigh keys got carried this way?\n",
    "\n",
    "A massive school of glowing lanternfish swims past. They must spawn quickly to reach such large numbers - maybe exponentially quickly? You should model their growth rate to be sure.\n",
    "\n",
    "Although you know nothing about this specific species of lanternfish, you make some guesses about their attributes. Surely, each lanternfish creates a new lanternfish once every 7 days.\n",
    "\n",
    "However, this process isn't necessarily synchronized between every lanternfish - one lanternfish might have 2 days left until it creates another lanternfish, while another might have 4. So, you can model each fish as a single number that represents the number of days until it creates a new lanternfish.\n",
    "\n",
    "Furthermore, you reason, a new lanternfish would surely need slightly longer before it's capable of producing more lanternfish: two more days for its first cycle.\n",
    "\n",
    "So, suppose you have a lanternfish with an internal timer value of 3:\n",
    "\n",
    "- After one day, its internal timer would become 2.\n",
    "- After another day, its internal timer would become 1.\n",
    "- After another day, its internal timer would become 0.\n",
    "- After another day, its internal timer would reset to 6, and it would create a new lanternfish with an internal timer of 8.\n",
    "- After another day, the first lanternfish would have an internal timer of 5, and the second lanternfish would have an internal timer of 7.\n",
    "\n",
    "A lanternfish that creates a new fish resets its timer to 6, not 7 (because 0 is included as a valid timer value). The new lanternfish starts with an internal timer of 8 and does not start counting down until the next day.\n",
    "\n",
    "Realizing what you're trying to do, the submarine automatically produces a list of the ages of several hundred nearby lanternfish (your puzzle input). For example, suppose you were given the following list:\n",
    "\n",
    "`3,4,3,1,2`\n",
    "\n",
    "This list means that the first fish has an internal timer of 3, the second fish has an internal timer of 4, and so on until the fifth fish, which has an internal timer of 2. Simulating these fish over several days would proceed as follows:\n",
    "\n",
    "```\n",
    "Initial state: 3,4,3,1,2\n",
    "After  1 day:  2,3,2,0,1\n",
    "After  2 days: 1,2,1,6,0,8\n",
    "After  3 days: 0,1,0,5,6,7,8\n",
    "After  4 days: 6,0,6,4,5,6,7,8,8\n",
    "After  5 days: 5,6,5,3,4,5,6,7,7,8\n",
    "After  6 days: 4,5,4,2,3,4,5,6,6,7\n",
    "After  7 days: 3,4,3,1,2,3,4,5,5,6\n",
    "After  8 days: 2,3,2,0,1,2,3,4,4,5\n",
    "After  9 days: 1,2,1,6,0,1,2,3,3,4,8\n",
    "After 10 days: 0,1,0,5,6,0,1,2,2,3,7,8\n",
    "After 11 days: 6,0,6,4,5,6,0,1,1,2,6,7,8,8,8\n",
    "After 12 days: 5,6,5,3,4,5,6,0,0,1,5,6,7,7,7,8,8\n",
    "After 13 days: 4,5,4,2,3,4,5,6,6,0,4,5,6,6,6,7,7,8,8\n",
    "After 14 days: 3,4,3,1,2,3,4,5,5,6,3,4,5,5,5,6,6,7,7,8\n",
    "After 15 days: 2,3,2,0,1,2,3,4,4,5,2,3,4,4,4,5,5,6,6,7\n",
    "After 16 days: 1,2,1,6,0,1,2,3,3,4,1,2,3,3,3,4,4,5,5,6,8\n",
    "After 17 days: 0,1,0,5,6,0,1,2,2,3,0,1,2,2,2,3,3,4,4,5,7,8\n",
    "After 18 days: 6,0,6,4,5,6,0,1,1,2,6,0,1,1,1,2,2,3,3,4,6,7,8,8,8,8\n",
    "```\n",
    "\n",
    "Each day, a 0 becomes a 6 and adds a new 8 to the end of the list, while each other number decreases by 1 if it was present at the start of the day.\n",
    "\n",
    "In this example, after 18 days, there are a total of 26 fish. After 80 days, there would be a total of 5934.\n",
    "\n",
    "Find a way to simulate lanternfish. How many lanternfish would there be after 80 days?"
   ]
  },
  {
   "cell_type": "code",
   "execution_count": 1,
   "id": "995c4fed-0cb7-4a9f-a4e5-1362518e2554",
   "metadata": {},
   "outputs": [],
   "source": [
    "# get input\n",
    "\n",
    "with open(\"inputs/day6.txt\") as file:\n",
    "    inputs = file.read()\n",
    "    inputs = inputs.rstrip()\n",
    "\n",
    "init_fish = [int(f) for f in inputs.split(\",\")]"
   ]
  },
  {
   "cell_type": "code",
   "execution_count": 2,
   "id": "0f870142-1608-46dc-97a4-71cb90315ce0",
   "metadata": {},
   "outputs": [],
   "source": [
    "def fish_countdown(fish_list):\n",
    "    for i, fish in enumerate(fish_list):\n",
    "        if fish > 0:\n",
    "            fish_list[i] -= 1\n",
    "        elif fish == 0:\n",
    "            fish_list.append(9)\n",
    "            fish_list[i] = 6\n",
    "    return fish_list"
   ]
  },
  {
   "cell_type": "code",
   "execution_count": 3,
   "id": "36929e2a-5b16-4dec-8e4a-b4897041de40",
   "metadata": {},
   "outputs": [],
   "source": [
    "def fish_after_x_days(fish_list, days):\n",
    "    for x in range(days):\n",
    "        fish_list = fish_countdown(fish_list)\n",
    "    return len(fish_list)"
   ]
  },
  {
   "cell_type": "code",
   "execution_count": 4,
   "id": "a9cfe5e3-2d74-4533-94b9-fe8cd638561c",
   "metadata": {},
   "outputs": [],
   "source": [
    "test_init_fish = [3,4,3,1,2]"
   ]
  },
  {
   "cell_type": "code",
   "execution_count": 5,
   "id": "ee3c72aa-9318-4ff0-ad16-7405732870ef",
   "metadata": {},
   "outputs": [
    {
     "data": {
      "text/plain": [
       "5934"
      ]
     },
     "execution_count": 5,
     "metadata": {},
     "output_type": "execute_result"
    }
   ],
   "source": [
    "fish_after_x_days(test_init_fish, 80)"
   ]
  },
  {
   "cell_type": "code",
   "execution_count": 6,
   "id": "73377d8f-faa7-4558-b9bf-f79e9f5ce49f",
   "metadata": {},
   "outputs": [
    {
     "data": {
      "text/plain": [
       "390923"
      ]
     },
     "execution_count": 6,
     "metadata": {},
     "output_type": "execute_result"
    }
   ],
   "source": [
    "fish_after_x_days(init_fish, 80)"
   ]
  },
  {
   "cell_type": "markdown",
   "id": "1880a269-d8d2-4ba9-a55d-d43d6ff575a2",
   "metadata": {},
   "source": [
    "### Part 1 Solution\n",
    "\n",
    "390923 - CORRECT!"
   ]
  },
  {
   "cell_type": "markdown",
   "id": "043ca3cc-974d-4500-a722-01e523246d85",
   "metadata": {},
   "source": [
    "--- Part Two ---\n",
    "\n",
    "Suppose the lanternfish live forever and have unlimited food and space. Would they take over the entire ocean?\n",
    "\n",
    "After 256 days in the example above, there would be a total of 26984457539 lanternfish!\n",
    "\n",
    "How many lanternfish would there be after 256 days?"
   ]
  },
  {
   "cell_type": "code",
   "execution_count": 7,
   "id": "690c19b4-676b-4ca0-a925-41aa6b913326",
   "metadata": {},
   "outputs": [],
   "source": [
    "def reformat_fish_list(each_fish_in_list):\n",
    "    fish_days_left = [0] * 9\n",
    "    for fish in each_fish_in_list:\n",
    "        fish_days_left[fish] += 1\n",
    "    return fish_days_left"
   ]
  },
  {
   "cell_type": "code",
   "execution_count": 8,
   "id": "6e885468-c8fe-45c2-a7d5-65fc71d195db",
   "metadata": {},
   "outputs": [],
   "source": [
    "def faster_fish_countdown(fish_list):\n",
    "    birthing_fish = fish_list.pop(0)\n",
    "    if birthing_fish > 0:\n",
    "        fish_list.append(birthing_fish)\n",
    "        fish_list[6] += birthing_fish\n",
    "    else:\n",
    "        fish_list.append(0)\n",
    "    return fish_list"
   ]
  },
  {
   "cell_type": "code",
   "execution_count": 9,
   "id": "0f54d6ea-ca0e-44f2-a70c-4b3cc2f1c9db",
   "metadata": {},
   "outputs": [],
   "source": [
    "def fish_after_x_days_faster(fish_list, days):\n",
    "    for x in range(days):\n",
    "        fish_list = faster_fish_countdown(fish_list)\n",
    "    return sum(fish_list)"
   ]
  },
  {
   "cell_type": "code",
   "execution_count": 10,
   "id": "0032bb93-565d-4a16-8fe6-ccb246ae9fc4",
   "metadata": {},
   "outputs": [],
   "source": [
    "test_init_fish = [3,4,3,1,2]"
   ]
  },
  {
   "cell_type": "code",
   "execution_count": 11,
   "id": "7fa3ab68-adb3-4a41-9cbb-0b06335a872b",
   "metadata": {},
   "outputs": [],
   "source": [
    "new_test_fish_list = reformat_fish_list(test_init_fish)"
   ]
  },
  {
   "cell_type": "code",
   "execution_count": 12,
   "id": "8931088c-7328-412e-a4cd-d661a3017ba3",
   "metadata": {},
   "outputs": [
    {
     "data": {
      "text/plain": [
       "5934"
      ]
     },
     "execution_count": 12,
     "metadata": {},
     "output_type": "execute_result"
    }
   ],
   "source": [
    "fish_after_x_days_faster(new_test_fish_list, 80)"
   ]
  },
  {
   "cell_type": "code",
   "execution_count": 13,
   "id": "ae42493d-c41c-4165-8f87-6ffffd6a6e87",
   "metadata": {},
   "outputs": [],
   "source": [
    "init_fish = [int(f) for f in inputs.split(\",\")]"
   ]
  },
  {
   "cell_type": "code",
   "execution_count": 14,
   "id": "7f71ef59-abdb-4caa-83cb-0b59e94d6d34",
   "metadata": {},
   "outputs": [],
   "source": [
    "new_fish_list = reformat_fish_list(init_fish)"
   ]
  },
  {
   "cell_type": "code",
   "execution_count": 15,
   "id": "92fea40c-391b-4533-9ef7-326f78ae1815",
   "metadata": {},
   "outputs": [
    {
     "data": {
      "text/plain": [
       "1749945484935"
      ]
     },
     "execution_count": 15,
     "metadata": {},
     "output_type": "execute_result"
    }
   ],
   "source": [
    "fish_after_x_days_faster(new_fish_list, 256)"
   ]
  },
  {
   "cell_type": "markdown",
   "id": "7862c266-cf2d-4c68-b643-45990d3f2571",
   "metadata": {},
   "source": [
    "### Part 2 Solution\n",
    "\n",
    "1749945484935 - CORRECT"
   ]
  },
  {
   "cell_type": "code",
   "execution_count": null,
   "id": "429ff549-270f-4ac6-946d-a18965689308",
   "metadata": {},
   "outputs": [],
   "source": []
  }
 ],
 "metadata": {
  "kernelspec": {
   "display_name": "Python 3",
   "language": "python",
   "name": "python3"
  },
  "language_info": {
   "codemirror_mode": {
    "name": "ipython",
    "version": 3
   },
   "file_extension": ".py",
   "mimetype": "text/x-python",
   "name": "python",
   "nbconvert_exporter": "python",
   "pygments_lexer": "ipython3",
   "version": "3.8.8"
  }
 },
 "nbformat": 4,
 "nbformat_minor": 5
}
