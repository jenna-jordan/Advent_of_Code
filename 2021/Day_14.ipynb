{
 "cells": [
  {
   "cell_type": "markdown",
   "id": "8ebaa1ca-2a12-4412-9264-ebe38adf214f",
   "metadata": {},
   "source": [
    "# AoC Day 14\n",
    "\n",
    "Jenna Jordan\n",
    "\n",
    "15 December 2021\n",
    "\n",
    "## Prompt\n",
    "\n",
    "--- Day 14: Extended Polymerization ---\n",
    "\n",
    "The incredible pressures at this depth are starting to put a strain on your submarine. The submarine has polymerization equipment that would produce suitable materials to reinforce the submarine, and the nearby volcanically-active caves should even have the necessary input elements in sufficient quantities.\n",
    "\n",
    "The submarine manual contains instructions for finding the optimal polymer formula; specifically, it offers a polymer template and a list of pair insertion rules (your puzzle input). You just need to work out what polymer would result after repeating the pair insertion process a few times.\n",
    "\n",
    "For example:\n",
    "\n",
    "```\n",
    "NNCB\n",
    "\n",
    "CH -> B\n",
    "HH -> N\n",
    "CB -> H\n",
    "NH -> C\n",
    "HB -> C\n",
    "HC -> B\n",
    "HN -> C\n",
    "NN -> C\n",
    "BH -> H\n",
    "NC -> B\n",
    "NB -> B\n",
    "BN -> B\n",
    "BB -> N\n",
    "BC -> B\n",
    "CC -> N\n",
    "CN -> C\n",
    "```\n",
    "\n",
    "The first line is the polymer template - this is the starting point of the process.\n",
    "\n",
    "The following section defines the pair insertion rules. A rule like AB -> C means that when elements A and B are immediately adjacent, element C should be inserted between them. These insertions all happen simultaneously.\n",
    "\n",
    "So, starting with the polymer template NNCB, the first step simultaneously considers all three pairs:\n",
    "\n",
    "- The first pair (NN) matches the rule NN -> C, so element C is inserted between the first N and the second N.\n",
    "- The second pair (NC) matches the rule NC -> B, so element B is inserted between the N and the C.\n",
    "- The third pair (CB) matches the rule CB -> H, so element H is inserted between the C and the B.\n",
    "\n",
    "Note that these pairs overlap: the second element of one pair is the first element of the next pair. Also, because all pairs are considered simultaneously, inserted elements are not considered to be part of a pair until the next step.\n",
    "\n",
    "After the first step of this process, the polymer becomes NCNBCHB.\n",
    "\n",
    "Here are the results of a few steps using the above rules:\n",
    "\n",
    "```\n",
    "Template:     NNCB\n",
    "After step 1: NCNBCHB\n",
    "After step 2: NBCCNBBBCBHCB\n",
    "After step 3: NBBBCNCCNBBNBNBBCHBHHBCHB\n",
    "After step 4: NBBNBNBBCCNBCNCCNBBNBBNBBBNBBNBBCBHCBHHNHCBBCBHCB\n",
    "```\n",
    "\n",
    "This polymer grows quickly. After step 5, it has length 97; After step 10, it has length 3073. After step 10, B occurs 1749 times, C occurs 298 times, H occurs 161 times, and N occurs 865 times; taking the quantity of the most common element (B, 1749) and subtracting the quantity of the least common element (H, 161) produces 1749 - 161 = 1588.\n",
    "\n",
    "Apply 10 steps of pair insertion to the polymer template and find the most and least common elements in the result. What do you get if you take the quantity of the most common element and subtract the quantity of the least common element?"
   ]
  },
  {
   "cell_type": "code",
   "execution_count": 1,
   "id": "47faaf75-5dc6-484f-9691-6f7ad4490bb6",
   "metadata": {},
   "outputs": [],
   "source": [
    "# get input\n",
    "\n",
    "with open(\"inputs/day14.txt\") as file:\n",
    "    input_polymer = file.readline().rstrip()\n",
    "    file.readline()\n",
    "    input_rules = file.read().splitlines()\n",
    "    \n",
    "test_input_polymer = \"NNCB\"\n",
    "test_input_rules = [\"CH -> B\", \"HH -> N\", \"CB -> H\", \"NH -> C\", \"HB -> C\", \"HC -> B\", \"HN -> C\", \"NN -> C\", \"BH -> H\", \"NC -> B\", \"NB -> B\", \"BN -> B\", \"BB -> N\", \"BC -> B\", \"CC -> N\", \"CN -> C\"]"
   ]
  },
  {
   "cell_type": "code",
   "execution_count": 2,
   "id": "baae0fcb-ea8a-4c6c-8ed6-c66992377bf6",
   "metadata": {},
   "outputs": [],
   "source": [
    "def get_inserts(input_rules):\n",
    "    rules = {}\n",
    "    for r in input_rules:\n",
    "        r_split = r.split(\" -> \")\n",
    "        pair = r_split[0]\n",
    "        insert = r_split[1]\n",
    "        new_string = pair[0] + insert + pair[1]\n",
    "        rules[pair] = new_string\n",
    "    return rules"
   ]
  },
  {
   "cell_type": "code",
   "execution_count": 3,
   "id": "8ff0db20-74e6-45b6-ae7e-b63e61bbb11a",
   "metadata": {},
   "outputs": [],
   "source": [
    "def get_polymer_pairs(polymer):\n",
    "    pairs = []\n",
    "    for i, letter in enumerate(polymer[:-1]):\n",
    "        pair = polymer[i:i+2]\n",
    "        pairs.append(pair)\n",
    "    return pairs"
   ]
  },
  {
   "cell_type": "code",
   "execution_count": 4,
   "id": "c87f1745-0a7b-4aae-8ccf-78276eb5ba78",
   "metadata": {},
   "outputs": [],
   "source": [
    "def execute_one_insertion_step(polymer, rules):\n",
    "    new_polymer = \"\"\n",
    "    polymer_pairs = get_polymer_pairs(polymer)\n",
    "    inserts = get_inserts(rules)\n",
    "    for p in polymer_pairs:\n",
    "        if p in inserts.keys():\n",
    "            if new_polymer:\n",
    "                new_polymer += inserts[p][1:]\n",
    "            else:\n",
    "                new_polymer += inserts[p]\n",
    "    return new_polymer"
   ]
  },
  {
   "cell_type": "code",
   "execution_count": 5,
   "id": "c5314a05-9982-48cb-8c0f-d56e72956654",
   "metadata": {},
   "outputs": [],
   "source": [
    "def execute_x_insertion_steps(polymer, rules, steps):\n",
    "    for s in range(steps):\n",
    "        polymer = execute_one_insertion_step(polymer, rules)\n",
    "    return polymer"
   ]
  },
  {
   "cell_type": "code",
   "execution_count": 6,
   "id": "474c8582-f443-4f0b-8499-eb53ddcf947e",
   "metadata": {},
   "outputs": [],
   "source": [
    "from collections import Counter"
   ]
  },
  {
   "cell_type": "code",
   "execution_count": 7,
   "id": "5dbef3d8-b625-4544-b1e6-ee01294797af",
   "metadata": {},
   "outputs": [],
   "source": [
    "def calculate_minmax_diff(polymer):\n",
    "    count_elements = Counter(polymer)\n",
    "    most_common = count_elements.most_common()\n",
    "    diff = most_common[0][1] - most_common[-1][1]\n",
    "    return diff"
   ]
  },
  {
   "cell_type": "code",
   "execution_count": 8,
   "id": "8fe94bdb-b135-4a0b-a6a6-eb70c7caa9ef",
   "metadata": {},
   "outputs": [
    {
     "data": {
      "text/plain": [
       "1588"
      ]
     },
     "execution_count": 8,
     "metadata": {},
     "output_type": "execute_result"
    }
   ],
   "source": [
    "test_10step_polymer = execute_x_insertion_steps(test_input_polymer, test_input_rules, 10)\n",
    "calculate_minmax_diff(test_10step_polymer)"
   ]
  },
  {
   "cell_type": "code",
   "execution_count": 9,
   "id": "80d4f6f2-a34b-4e1c-86d2-6563c3cd6576",
   "metadata": {},
   "outputs": [
    {
     "data": {
      "text/plain": [
       "3213"
      ]
     },
     "execution_count": 9,
     "metadata": {},
     "output_type": "execute_result"
    }
   ],
   "source": [
    "real_10step_polymer = execute_x_insertion_steps(input_polymer, input_rules, 10)\n",
    "calculate_minmax_diff(real_10step_polymer)"
   ]
  },
  {
   "cell_type": "markdown",
   "id": "66b64c0c-d2a2-41e6-aecf-e413b7bced59",
   "metadata": {},
   "source": [
    "### Part 1 Solution\n",
    "\n",
    "3213 - CORRECT!"
   ]
  },
  {
   "cell_type": "markdown",
   "id": "7ed3c2fe-231b-4831-9a7c-a54f6b9d5f5b",
   "metadata": {},
   "source": [
    "--- Part Two ---\n",
    "\n",
    "The resulting polymer isn't nearly strong enough to reinforce the submarine. You'll need to run more steps of the pair insertion process; a total of 40 steps should do it.\n",
    "\n",
    "In the above example, the most common element is B (occurring 2192039569602 times) and the least common element is H (occurring 3849876073 times); subtracting these produces 2188189693529.\n",
    "\n",
    "Apply 40 steps of pair insertion to the polymer template and find the most and least common elements in the result. What do you get if you take the quantity of the most common element and subtract the quantity of the least common element?"
   ]
  },
  {
   "cell_type": "code",
   "execution_count": 10,
   "id": "705b6c49-df21-499e-9b59-5eb657876a05",
   "metadata": {},
   "outputs": [],
   "source": [
    "def get_new_pair_count(old_pair_count, pair_insert_rules):\n",
    "    new_pair_count = {}\n",
    "    for pair in old_pair_count.keys():\n",
    "        p1, p2 = pair_insert_rules[pair]\n",
    "        old_count = old_pair_count[pair]\n",
    "        if p1 in new_pair_count.keys():\n",
    "            new_pair_count[p1] += old_count\n",
    "        else:\n",
    "            new_pair_count[p1] = old_count\n",
    "        if p2 in new_pair_count.keys():\n",
    "            new_pair_count[p2] += old_count\n",
    "        else:\n",
    "            new_pair_count[p2] = old_count\n",
    "    return new_pair_count"
   ]
  },
  {
   "cell_type": "code",
   "execution_count": 11,
   "id": "fffcafcb-6ae6-4f85-bda8-6c8a1f35bf75",
   "metadata": {},
   "outputs": [],
   "source": [
    "def get_pair_inserts(input_rules):\n",
    "    rules = {}\n",
    "    for r in input_rules:\n",
    "        r_split = r.split(\" -> \")\n",
    "        pair = r_split[0]\n",
    "        insert = r_split[1]\n",
    "        new_pair1 = pair[0] + insert\n",
    "        new_pair2 = insert + pair[1]\n",
    "        rules[pair] = (new_pair1, new_pair2)\n",
    "    return rules"
   ]
  },
  {
   "cell_type": "code",
   "execution_count": 12,
   "id": "f17c56ef-15d7-409b-9a74-7847df103213",
   "metadata": {},
   "outputs": [],
   "source": [
    "def pairs_after_x_steps(polymer, rules, steps):\n",
    "    initial_pairs = get_polymer_pairs(polymer)\n",
    "    pair_insert_rules = get_pair_inserts(rules)\n",
    "    pair_count = {}\n",
    "    for pair in initial_pairs:\n",
    "        if pair in pair_count.keys():\n",
    "            pair_count[pair] += 1\n",
    "        else:\n",
    "            pair_count[pair] = 1\n",
    "    for s in range(steps):\n",
    "        pair_count = get_new_pair_count(pair_count, pair_insert_rules)\n",
    "    return pair_count"
   ]
  },
  {
   "cell_type": "code",
   "execution_count": 13,
   "id": "1212746f-07a0-4540-af51-124654b0934c",
   "metadata": {},
   "outputs": [],
   "source": [
    "def count_letters_in_pairs(pair_count):\n",
    "    letter_count = {}\n",
    "    for pair in pair_count.keys():\n",
    "        l1 = pair[0]\n",
    "        l2 = pair[1]\n",
    "        if l1 in letter_count.keys():\n",
    "            letter_count[l1] += pair_count[pair]\n",
    "        else:\n",
    "            letter_count[l1] = pair_count[pair]\n",
    "        if l2 in letter_count.keys():\n",
    "            letter_count[l2] += pair_count[pair]\n",
    "        else:\n",
    "            letter_count[l2] = pair_count[pair]\n",
    "    \n",
    "    return letter_count"
   ]
  },
  {
   "cell_type": "code",
   "execution_count": 14,
   "id": "9182c407-0491-4716-8a66-a7e051736a0f",
   "metadata": {},
   "outputs": [],
   "source": [
    "def final_minmax_calc(letter_count, polymer):\n",
    "    letter_count[polymer[0]] += 1\n",
    "    letter_count[polymer[-1]] += 1\n",
    "    \n",
    "    for letter in letter_count.keys():\n",
    "        letter_count[letter] //= 2\n",
    "    \n",
    "    return max(letter_count.values()) - min(letter_count.values())"
   ]
  },
  {
   "cell_type": "code",
   "execution_count": 15,
   "id": "4271b129-2a2c-46c9-bfa0-8c201f633a23",
   "metadata": {},
   "outputs": [],
   "source": [
    "test_pair_count = pairs_after_x_steps(test_input_polymer, test_input_rules, 40)"
   ]
  },
  {
   "cell_type": "code",
   "execution_count": 16,
   "id": "de4c2d1e-7030-4fad-93a7-68a8529d3252",
   "metadata": {},
   "outputs": [],
   "source": [
    "letter_count_test = count_letters_in_pairs(test_pair_count)"
   ]
  },
  {
   "cell_type": "code",
   "execution_count": 17,
   "id": "bc751268-e049-4e78-a995-0d2c37579e0c",
   "metadata": {},
   "outputs": [
    {
     "data": {
      "text/plain": [
       "2188189693529"
      ]
     },
     "execution_count": 17,
     "metadata": {},
     "output_type": "execute_result"
    }
   ],
   "source": [
    "final_minmax_calc(letter_count_test, test_input_polymer)"
   ]
  },
  {
   "cell_type": "code",
   "execution_count": 18,
   "id": "13082af4-6d66-44d9-9729-3a433870be0c",
   "metadata": {},
   "outputs": [],
   "source": [
    "pair_count = pairs_after_x_steps(input_polymer, input_rules, 40)"
   ]
  },
  {
   "cell_type": "code",
   "execution_count": 19,
   "id": "0006989c-c760-4555-a05f-9970aff48a6b",
   "metadata": {},
   "outputs": [],
   "source": [
    "letter_count = count_letters_in_pairs(pair_count)"
   ]
  },
  {
   "cell_type": "code",
   "execution_count": 20,
   "id": "cb83ec1e-6b0f-4790-9f74-33bd1bfa35f8",
   "metadata": {},
   "outputs": [
    {
     "data": {
      "text/plain": [
       "3711743744429"
      ]
     },
     "execution_count": 20,
     "metadata": {},
     "output_type": "execute_result"
    }
   ],
   "source": [
    "final_minmax_calc(letter_count, input_polymer)"
   ]
  },
  {
   "cell_type": "markdown",
   "id": "5fc35a85-017f-4644-8bfe-495b3b45607e",
   "metadata": {},
   "source": [
    "### Part 2 Solution\n",
    "\n",
    "3711743744429 - CORRECT!"
   ]
  },
  {
   "cell_type": "code",
   "execution_count": null,
   "id": "a16753fb-32ee-457a-8fd7-38187123d3fd",
   "metadata": {},
   "outputs": [],
   "source": []
  }
 ],
 "metadata": {
  "kernelspec": {
   "display_name": "Python 3",
   "language": "python",
   "name": "python3"
  },
  "language_info": {
   "codemirror_mode": {
    "name": "ipython",
    "version": 3
   },
   "file_extension": ".py",
   "mimetype": "text/x-python",
   "name": "python",
   "nbconvert_exporter": "python",
   "pygments_lexer": "ipython3",
   "version": "3.8.8"
  }
 },
 "nbformat": 4,
 "nbformat_minor": 5
}
