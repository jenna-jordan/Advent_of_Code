{
 "cells": [
  {
   "cell_type": "markdown",
   "id": "8ebaa1ca-2a12-4412-9264-ebe38adf214f",
   "metadata": {},
   "source": [
    "# AoC Day 14\n",
    "\n",
    "Jenna Jordan\n",
    "\n",
    "15 December 2021\n",
    "\n",
    "## Prompt\n",
    "\n",
    "--- Day 14: Extended Polymerization ---\n",
    "\n",
    "The incredible pressures at this depth are starting to put a strain on your submarine. The submarine has polymerization equipment that would produce suitable materials to reinforce the submarine, and the nearby volcanically-active caves should even have the necessary input elements in sufficient quantities.\n",
    "\n",
    "The submarine manual contains instructions for finding the optimal polymer formula; specifically, it offers a polymer template and a list of pair insertion rules (your puzzle input). You just need to work out what polymer would result after repeating the pair insertion process a few times.\n",
    "\n",
    "For example:\n",
    "\n",
    "```\n",
    "NNCB\n",
    "\n",
    "CH -> B\n",
    "HH -> N\n",
    "CB -> H\n",
    "NH -> C\n",
    "HB -> C\n",
    "HC -> B\n",
    "HN -> C\n",
    "NN -> C\n",
    "BH -> H\n",
    "NC -> B\n",
    "NB -> B\n",
    "BN -> B\n",
    "BB -> N\n",
    "BC -> B\n",
    "CC -> N\n",
    "CN -> C\n",
    "```\n",
    "\n",
    "The first line is the polymer template - this is the starting point of the process.\n",
    "\n",
    "The following section defines the pair insertion rules. A rule like AB -> C means that when elements A and B are immediately adjacent, element C should be inserted between them. These insertions all happen simultaneously.\n",
    "\n",
    "So, starting with the polymer template NNCB, the first step simultaneously considers all three pairs:\n",
    "\n",
    "- The first pair (NN) matches the rule NN -> C, so element C is inserted between the first N and the second N.\n",
    "- The second pair (NC) matches the rule NC -> B, so element B is inserted between the N and the C.\n",
    "- The third pair (CB) matches the rule CB -> H, so element H is inserted between the C and the B.\n",
    "\n",
    "Note that these pairs overlap: the second element of one pair is the first element of the next pair. Also, because all pairs are considered simultaneously, inserted elements are not considered to be part of a pair until the next step.\n",
    "\n",
    "After the first step of this process, the polymer becomes NCNBCHB.\n",
    "\n",
    "Here are the results of a few steps using the above rules:\n",
    "\n",
    "```\n",
    "Template:     NNCB\n",
    "After step 1: NCNBCHB\n",
    "After step 2: NBCCNBBBCBHCB\n",
    "After step 3: NBBBCNCCNBBNBNBBCHBHHBCHB\n",
    "After step 4: NBBNBNBBCCNBCNCCNBBNBBNBBBNBBNBBCBHCBHHNHCBBCBHCB\n",
    "```\n",
    "\n",
    "This polymer grows quickly. After step 5, it has length 97; After step 10, it has length 3073. After step 10, B occurs 1749 times, C occurs 298 times, H occurs 161 times, and N occurs 865 times; taking the quantity of the most common element (B, 1749) and subtracting the quantity of the least common element (H, 161) produces 1749 - 161 = 1588.\n",
    "\n",
    "Apply 10 steps of pair insertion to the polymer template and find the most and least common elements in the result. What do you get if you take the quantity of the most common element and subtract the quantity of the least common element?"
   ]
  },
  {
   "cell_type": "code",
   "execution_count": 9,
   "id": "47faaf75-5dc6-484f-9691-6f7ad4490bb6",
   "metadata": {},
   "outputs": [],
   "source": [
    "# get input\n",
    "\n",
    "with open(\"inputs/day14.txt\") as file:\n",
    "    input_polymer = file.readline().rstrip()\n",
    "    file.readline()\n",
    "    input_rules = file.read().splitlines()\n",
    "    \n",
    "test_input_polymer = \"NNCB\"\n",
    "test_input_rules = [\"CH -> B\", \"HH -> N\", \"CB -> H\", \"NH -> C\", \"HB -> C\", \"HC -> B\", \"HN -> C\", \"NN -> C\", \"BH -> H\", \"NC -> B\", \"NB -> B\", \"BN -> B\", \"BB -> N\", \"BC -> B\", \"CC -> N\", \"CN -> C\"]"
   ]
  },
  {
   "cell_type": "code",
   "execution_count": 28,
   "id": "baae0fcb-ea8a-4c6c-8ed6-c66992377bf6",
   "metadata": {},
   "outputs": [],
   "source": [
    "def get_inserts(input_rules):\n",
    "    rules = {}\n",
    "    for r in input_rules:\n",
    "        r_split = r.split(\" -> \")\n",
    "        pair = r_split[0]\n",
    "        insert = r_split[1]\n",
    "        new_string = pair[0] + insert + pair[1]\n",
    "        rules[pair] = new_string\n",
    "    return rules"
   ]
  },
  {
   "cell_type": "code",
   "execution_count": 17,
   "id": "8ff0db20-74e6-45b6-ae7e-b63e61bbb11a",
   "metadata": {},
   "outputs": [],
   "source": [
    "def get_polymer_pairs(polymer):\n",
    "    pairs = []\n",
    "    for i, letter in enumerate(polymer[:-1]):\n",
    "        pair = polymer[i:i+2]\n",
    "        pairs.append(pair)\n",
    "    return pairs"
   ]
  },
  {
   "cell_type": "code",
   "execution_count": 39,
   "id": "c87f1745-0a7b-4aae-8ccf-78276eb5ba78",
   "metadata": {},
   "outputs": [],
   "source": [
    "def execute_one_insertion_step(polymer, rules):\n",
    "    new_polymer = \"\"\n",
    "    polymer_pairs = get_polymer_pairs(polymer)\n",
    "    inserts = get_inserts(rules)\n",
    "    for p in polymer_pairs:\n",
    "        if p in inserts.keys():\n",
    "            if new_polymer:\n",
    "                new_polymer += inserts[p][1:]\n",
    "            else:\n",
    "                new_polymer += inserts[p]\n",
    "    return new_polymer"
   ]
  },
  {
   "cell_type": "code",
   "execution_count": 41,
   "id": "c5314a05-9982-48cb-8c0f-d56e72956654",
   "metadata": {},
   "outputs": [],
   "source": [
    "def execute_x_insertion_steps(polymer, rules, steps):\n",
    "    for s in range(steps):\n",
    "        polymer = execute_one_insertion_step(polymer, rules)\n",
    "    return polymer"
   ]
  },
  {
   "cell_type": "code",
   "execution_count": 46,
   "id": "474c8582-f443-4f0b-8499-eb53ddcf947e",
   "metadata": {},
   "outputs": [],
   "source": [
    "from collections import Counter"
   ]
  },
  {
   "cell_type": "code",
   "execution_count": 52,
   "id": "5dbef3d8-b625-4544-b1e6-ee01294797af",
   "metadata": {},
   "outputs": [],
   "source": [
    "def calculate_minmax_diff(polymer):\n",
    "    count_elements = Counter(polymer)\n",
    "    most_common = count_elements.most_common()\n",
    "    diff = most_common[0][1] - most_common[-1][1]\n",
    "    return diff"
   ]
  },
  {
   "cell_type": "code",
   "execution_count": 53,
   "id": "8fe94bdb-b135-4a0b-a6a6-eb70c7caa9ef",
   "metadata": {},
   "outputs": [
    {
     "data": {
      "text/plain": [
       "1588"
      ]
     },
     "execution_count": 53,
     "metadata": {},
     "output_type": "execute_result"
    }
   ],
   "source": [
    "test_10step_polymer = execute_x_insertion_steps(test_input_polymer, test_input_rules, 10)\n",
    "calculate_minmax_diff(test_10step_polymer)"
   ]
  },
  {
   "cell_type": "code",
   "execution_count": 54,
   "id": "80d4f6f2-a34b-4e1c-86d2-6563c3cd6576",
   "metadata": {},
   "outputs": [
    {
     "data": {
      "text/plain": [
       "3213"
      ]
     },
     "execution_count": 54,
     "metadata": {},
     "output_type": "execute_result"
    }
   ],
   "source": [
    "real_10step_polymer = execute_x_insertion_steps(input_polymer, input_rules, 10)\n",
    "calculate_minmax_diff(real_10step_polymer)"
   ]
  },
  {
   "cell_type": "markdown",
   "id": "66b64c0c-d2a2-41e6-aecf-e413b7bced59",
   "metadata": {},
   "source": [
    "### Part 1 Solution\n",
    "\n",
    "3213 - CORRECT!"
   ]
  },
  {
   "cell_type": "markdown",
   "id": "7ed3c2fe-231b-4831-9a7c-a54f6b9d5f5b",
   "metadata": {},
   "source": [
    "--- Part Two ---\n",
    "\n",
    "The resulting polymer isn't nearly strong enough to reinforce the submarine. You'll need to run more steps of the pair insertion process; a total of 40 steps should do it.\n",
    "\n",
    "In the above example, the most common element is B (occurring 2192039569602 times) and the least common element is H (occurring 3849876073 times); subtracting these produces 2188189693529.\n",
    "\n",
    "Apply 40 steps of pair insertion to the polymer template and find the most and least common elements in the result. What do you get if you take the quantity of the most common element and subtract the quantity of the least common element?"
   ]
  },
  {
   "cell_type": "code",
   "execution_count": 55,
   "id": "4f8ee2c9-d2ce-454f-ba6f-1a40bd8d19d9",
   "metadata": {},
   "outputs": [
    {
     "ename": "KeyboardInterrupt",
     "evalue": "",
     "output_type": "error",
     "traceback": [
      "\u001b[0;31m---------------------------------------------------------------------------\u001b[0m",
      "\u001b[0;31mKeyboardInterrupt\u001b[0m                         Traceback (most recent call last)",
      "\u001b[0;32m<ipython-input-55-d5f622da8862>\u001b[0m in \u001b[0;36m<module>\u001b[0;34m\u001b[0m\n\u001b[0;32m----> 1\u001b[0;31m \u001b[0mtest_10step_polymer\u001b[0m \u001b[0;34m=\u001b[0m \u001b[0mexecute_x_insertion_steps\u001b[0m\u001b[0;34m(\u001b[0m\u001b[0mtest_input_polymer\u001b[0m\u001b[0;34m,\u001b[0m \u001b[0mtest_input_rules\u001b[0m\u001b[0;34m,\u001b[0m \u001b[0;36m40\u001b[0m\u001b[0;34m)\u001b[0m\u001b[0;34m\u001b[0m\u001b[0;34m\u001b[0m\u001b[0m\n\u001b[0m\u001b[1;32m      2\u001b[0m \u001b[0mcalculate_minmax_diff\u001b[0m\u001b[0;34m(\u001b[0m\u001b[0mtest_10step_polymer\u001b[0m\u001b[0;34m)\u001b[0m\u001b[0;34m\u001b[0m\u001b[0;34m\u001b[0m\u001b[0m\n",
      "\u001b[0;32m<ipython-input-41-e66e3525bfd7>\u001b[0m in \u001b[0;36mexecute_x_insertion_steps\u001b[0;34m(polymer, rules, steps)\u001b[0m\n\u001b[1;32m      1\u001b[0m \u001b[0;32mdef\u001b[0m \u001b[0mexecute_x_insertion_steps\u001b[0m\u001b[0;34m(\u001b[0m\u001b[0mpolymer\u001b[0m\u001b[0;34m,\u001b[0m \u001b[0mrules\u001b[0m\u001b[0;34m,\u001b[0m \u001b[0msteps\u001b[0m\u001b[0;34m)\u001b[0m\u001b[0;34m:\u001b[0m\u001b[0;34m\u001b[0m\u001b[0;34m\u001b[0m\u001b[0m\n\u001b[1;32m      2\u001b[0m     \u001b[0;32mfor\u001b[0m \u001b[0ms\u001b[0m \u001b[0;32min\u001b[0m \u001b[0mrange\u001b[0m\u001b[0;34m(\u001b[0m\u001b[0msteps\u001b[0m\u001b[0;34m)\u001b[0m\u001b[0;34m:\u001b[0m\u001b[0;34m\u001b[0m\u001b[0;34m\u001b[0m\u001b[0m\n\u001b[0;32m----> 3\u001b[0;31m         \u001b[0mpolymer\u001b[0m \u001b[0;34m=\u001b[0m \u001b[0mexecute_one_insertion_step\u001b[0m\u001b[0;34m(\u001b[0m\u001b[0mpolymer\u001b[0m\u001b[0;34m,\u001b[0m \u001b[0mrules\u001b[0m\u001b[0;34m)\u001b[0m\u001b[0;34m\u001b[0m\u001b[0;34m\u001b[0m\u001b[0m\n\u001b[0m\u001b[1;32m      4\u001b[0m     \u001b[0;32mreturn\u001b[0m \u001b[0mpolymer\u001b[0m\u001b[0;34m\u001b[0m\u001b[0;34m\u001b[0m\u001b[0m\n",
      "\u001b[0;32m<ipython-input-39-a5e248da20bc>\u001b[0m in \u001b[0;36mexecute_one_insertion_step\u001b[0;34m(polymer, rules)\u001b[0m\n\u001b[1;32m      1\u001b[0m \u001b[0;32mdef\u001b[0m \u001b[0mexecute_one_insertion_step\u001b[0m\u001b[0;34m(\u001b[0m\u001b[0mpolymer\u001b[0m\u001b[0;34m,\u001b[0m \u001b[0mrules\u001b[0m\u001b[0;34m)\u001b[0m\u001b[0;34m:\u001b[0m\u001b[0;34m\u001b[0m\u001b[0;34m\u001b[0m\u001b[0m\n\u001b[1;32m      2\u001b[0m     \u001b[0mnew_polymer\u001b[0m \u001b[0;34m=\u001b[0m \u001b[0;34m\"\"\u001b[0m\u001b[0;34m\u001b[0m\u001b[0;34m\u001b[0m\u001b[0m\n\u001b[0;32m----> 3\u001b[0;31m     \u001b[0mpolymer_pairs\u001b[0m \u001b[0;34m=\u001b[0m \u001b[0mget_polymer_pairs\u001b[0m\u001b[0;34m(\u001b[0m\u001b[0mpolymer\u001b[0m\u001b[0;34m)\u001b[0m\u001b[0;34m\u001b[0m\u001b[0;34m\u001b[0m\u001b[0m\n\u001b[0m\u001b[1;32m      4\u001b[0m     \u001b[0minserts\u001b[0m \u001b[0;34m=\u001b[0m \u001b[0mget_inserts\u001b[0m\u001b[0;34m(\u001b[0m\u001b[0mrules\u001b[0m\u001b[0;34m)\u001b[0m\u001b[0;34m\u001b[0m\u001b[0;34m\u001b[0m\u001b[0m\n\u001b[1;32m      5\u001b[0m     \u001b[0;32mfor\u001b[0m \u001b[0mp\u001b[0m \u001b[0;32min\u001b[0m \u001b[0mpolymer_pairs\u001b[0m\u001b[0;34m:\u001b[0m\u001b[0;34m\u001b[0m\u001b[0;34m\u001b[0m\u001b[0m\n",
      "\u001b[0;32m<ipython-input-17-f9fc128b4b3b>\u001b[0m in \u001b[0;36mget_polymer_pairs\u001b[0;34m(polymer)\u001b[0m\n\u001b[1;32m      1\u001b[0m \u001b[0;32mdef\u001b[0m \u001b[0mget_polymer_pairs\u001b[0m\u001b[0;34m(\u001b[0m\u001b[0mpolymer\u001b[0m\u001b[0;34m)\u001b[0m\u001b[0;34m:\u001b[0m\u001b[0;34m\u001b[0m\u001b[0;34m\u001b[0m\u001b[0m\n\u001b[1;32m      2\u001b[0m     \u001b[0mpairs\u001b[0m \u001b[0;34m=\u001b[0m \u001b[0;34m[\u001b[0m\u001b[0;34m]\u001b[0m\u001b[0;34m\u001b[0m\u001b[0;34m\u001b[0m\u001b[0m\n\u001b[0;32m----> 3\u001b[0;31m     \u001b[0;32mfor\u001b[0m \u001b[0mi\u001b[0m\u001b[0;34m,\u001b[0m \u001b[0mletter\u001b[0m \u001b[0;32min\u001b[0m \u001b[0menumerate\u001b[0m\u001b[0;34m(\u001b[0m\u001b[0mpolymer\u001b[0m\u001b[0;34m[\u001b[0m\u001b[0;34m:\u001b[0m\u001b[0;34m-\u001b[0m\u001b[0;36m1\u001b[0m\u001b[0;34m]\u001b[0m\u001b[0;34m)\u001b[0m\u001b[0;34m:\u001b[0m\u001b[0;34m\u001b[0m\u001b[0;34m\u001b[0m\u001b[0m\n\u001b[0m\u001b[1;32m      4\u001b[0m         \u001b[0mpair\u001b[0m \u001b[0;34m=\u001b[0m \u001b[0mpolymer\u001b[0m\u001b[0;34m[\u001b[0m\u001b[0mi\u001b[0m\u001b[0;34m:\u001b[0m\u001b[0mi\u001b[0m\u001b[0;34m+\u001b[0m\u001b[0;36m2\u001b[0m\u001b[0;34m]\u001b[0m\u001b[0;34m\u001b[0m\u001b[0;34m\u001b[0m\u001b[0m\n\u001b[1;32m      5\u001b[0m         \u001b[0mpairs\u001b[0m\u001b[0;34m.\u001b[0m\u001b[0mappend\u001b[0m\u001b[0;34m(\u001b[0m\u001b[0mpair\u001b[0m\u001b[0;34m)\u001b[0m\u001b[0;34m\u001b[0m\u001b[0;34m\u001b[0m\u001b[0m\n",
      "\u001b[0;31mKeyboardInterrupt\u001b[0m: "
     ]
    }
   ],
   "source": [
    "test_10step_polymer = execute_x_insertion_steps(test_input_polymer, test_input_rules, 40)\n",
    "calculate_minmax_diff(test_10step_polymer)"
   ]
  },
  {
   "cell_type": "code",
   "execution_count": null,
   "id": "8b4c9819-eabe-466c-83fa-4e171b464fb7",
   "metadata": {},
   "outputs": [],
   "source": []
  }
 ],
 "metadata": {
  "kernelspec": {
   "display_name": "Python 3",
   "language": "python",
   "name": "python3"
  },
  "language_info": {
   "codemirror_mode": {
    "name": "ipython",
    "version": 3
   },
   "file_extension": ".py",
   "mimetype": "text/x-python",
   "name": "python",
   "nbconvert_exporter": "python",
   "pygments_lexer": "ipython3",
   "version": "3.8.8"
  }
 },
 "nbformat": 4,
 "nbformat_minor": 5
}
