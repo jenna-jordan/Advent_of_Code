{
 "cells": [
  {
   "cell_type": "markdown",
   "id": "a3483e59-342c-49fc-ab32-0969bc59cfe9",
   "metadata": {},
   "source": [
    "# AoC Day 12\n",
    "\n",
    "Jenna Jordan\n",
    "\n",
    "13 December - \n",
    "\n",
    "## Prompt\n",
    "\n",
    "--- Day 12: Passage Pathing ---\n",
    "\n",
    "With your submarine's subterranean subsystems subsisting suboptimally, the only way you're getting out of this cave anytime soon is by finding a path yourself. Not just a path - the only way to know if you've found the best path is to find all of them.\n",
    "\n",
    "Fortunately, the sensors are still mostly working, and so you build a rough map of the remaining caves (your puzzle input). For example:\n",
    "\n",
    "```\n",
    "start-A\n",
    "start-b\n",
    "A-c\n",
    "A-b\n",
    "b-d\n",
    "A-end\n",
    "b-end\n",
    "```\n",
    "\n",
    "This is a list of how all of the caves are connected. You start in the cave named start, and your destination is the cave named end. An entry like b-d means that cave b is connected to cave d - that is, you can move between them.\n",
    "\n",
    "So, the above cave system looks roughly like this:\n",
    "\n",
    "```\n",
    "    start\n",
    "    /   \\\n",
    "c--A-----b--d\n",
    "    \\   /\n",
    "     end\n",
    "```\n",
    "\n",
    "Your goal is to find the number of distinct paths that start at start, end at end, and don't visit small caves more than once. There are two types of caves: big caves (written in uppercase, like A) and small caves (written in lowercase, like b). It would be a waste of time to visit any small cave more than once, but big caves are large enough that it might be worth visiting them multiple times. So, all paths you find should visit small caves at most once, and can visit big caves any number of times.\n",
    "\n",
    "Given these rules, there are 10 paths through this example cave system:\n",
    "\n",
    "```\n",
    "start,A,b,A,c,A,end\n",
    "start,A,b,A,end\n",
    "start,A,b,end\n",
    "start,A,c,A,b,A,end\n",
    "start,A,c,A,b,end\n",
    "start,A,c,A,end\n",
    "start,A,end\n",
    "start,b,A,c,A,end\n",
    "start,b,A,end\n",
    "start,b,end\n",
    "```\n",
    "(Each line in the above list corresponds to a single path; the caves visited by that path are listed in the order they are visited and separated by commas.)\n",
    "\n",
    "Note that in this cave system, cave d is never visited by any path: to do so, cave b would need to be visited twice (once on the way to cave d and a second time when returning from cave d), and since cave b is small, this is not allowed.\n",
    "\n",
    "Here is a slightly larger example:\n",
    "\n",
    "```\n",
    "dc-end\n",
    "HN-start\n",
    "start-kj\n",
    "dc-start\n",
    "dc-HN\n",
    "LN-dc\n",
    "HN-end\n",
    "kj-sa\n",
    "kj-HN\n",
    "kj-dc\n",
    "```\n",
    "The 19 paths through it are as follows:\n",
    "\n",
    "```\n",
    "start,HN,dc,HN,end\n",
    "start,HN,dc,HN,kj,HN,end\n",
    "start,HN,dc,end\n",
    "start,HN,dc,kj,HN,end\n",
    "start,HN,end\n",
    "start,HN,kj,HN,dc,HN,end\n",
    "start,HN,kj,HN,dc,end\n",
    "start,HN,kj,HN,end\n",
    "start,HN,kj,dc,HN,end\n",
    "start,HN,kj,dc,end\n",
    "start,dc,HN,end\n",
    "start,dc,HN,kj,HN,end\n",
    "start,dc,end\n",
    "start,dc,kj,HN,end\n",
    "start,kj,HN,dc,HN,end\n",
    "start,kj,HN,dc,end\n",
    "start,kj,HN,end\n",
    "start,kj,dc,HN,end\n",
    "start,kj,dc,end\n",
    "```\n",
    "Finally, this even larger example has 226 paths through it:\n",
    "\n",
    "```\n",
    "fs-end\n",
    "he-DX\n",
    "fs-he\n",
    "start-DX\n",
    "pj-DX\n",
    "end-zg\n",
    "zg-sl\n",
    "zg-pj\n",
    "pj-he\n",
    "RW-he\n",
    "fs-DX\n",
    "pj-RW\n",
    "zg-RW\n",
    "start-pj\n",
    "he-WI\n",
    "zg-he\n",
    "pj-fs\n",
    "start-RW\n",
    "```\n",
    "\n",
    "How many paths through this cave system are there that visit small caves at most once?"
   ]
  },
  {
   "cell_type": "code",
   "execution_count": 3,
   "id": "aa1b7bd4-6f6f-462d-bd61-6ab295ab6f8b",
   "metadata": {},
   "outputs": [],
   "source": [
    "# get input\n",
    "\n",
    "with open(\"inputs/day12.txt\") as file:\n",
    "    inputs = file.read().splitlines()\n",
    "\n",
    "test1_inputs = [\"start-A\", \"start-b\", \"A-c\", \"A-b\", \"b-d\", \"A-end\", \"b-end\"]\n",
    "\n",
    "test2_inputs = [\"dc-end\", \"HN-start\", \"start-kj\", \"dc-start\", \"dc-HN\", \"LN-dc\", \"HN-end\", \"kj-sa\", \"kj-HN\", \"kj-dc\"]\n",
    "\n",
    "test3_inputs = [\"fs-end\", \"he-DX\", \"fs-he\", \"start-DX\", \"pj-DX\", \"end-zg\", \"zg-sl\", \"zg-pj\", \"pj-he\", \"RW-he\", \"fs-DX\", \"pj-RW\", \"zg-RW\", \"start-pj\", \"he-WI\", \"zg-he\", \"pj-fs\", \"start-RW\"]"
   ]
  },
  {
   "cell_type": "markdown",
   "id": "b1d4eac9-bb49-439d-8900-4fe2ebb78e40",
   "metadata": {},
   "source": [
    "### Resources\n",
    "\n",
    "- [A* Search Algorithm](https://towardsdatascience.com/a-star-a-search-algorithm-eb495fb156bb)"
   ]
  },
  {
   "cell_type": "code",
   "execution_count": 4,
   "id": "181d2928-4e11-4c8c-aa17-3978cf45c169",
   "metadata": {},
   "outputs": [],
   "source": [
    "def get_connections(inputs):\n",
    "    conn_list = []\n",
    "    for i in inputs:\n",
    "        connection = i.split(\"-\")\n",
    "        conn_list.append((connection[0],connection[1]))\n",
    "    return conn_list"
   ]
  },
  {
   "cell_type": "code",
   "execution_count": 5,
   "id": "53280746-d9c3-4084-a992-57acc485daf9",
   "metadata": {},
   "outputs": [
    {
     "data": {
      "text/plain": [
       "[('start', 'A'),\n",
       " ('start', 'b'),\n",
       " ('A', 'c'),\n",
       " ('A', 'b'),\n",
       " ('b', 'd'),\n",
       " ('A', 'end'),\n",
       " ('b', 'end')]"
      ]
     },
     "execution_count": 5,
     "metadata": {},
     "output_type": "execute_result"
    }
   ],
   "source": [
    "test1_connections = get_connections(test1_inputs)\n",
    "test1_connections"
   ]
  },
  {
   "cell_type": "code",
   "execution_count": 1,
   "id": "f58162ca-320e-4c13-aaaa-b16c51eba394",
   "metadata": {},
   "outputs": [],
   "source": [
    "def get_nodes(connections):\n",
    "    nodes = set()\n",
    "    for conn in connections:\n",
    "        for n in conn:\n",
    "            nodes.add(n)\n",
    "    return list(nodes)"
   ]
  },
  {
   "cell_type": "code",
   "execution_count": 6,
   "id": "00c299de-f0d1-448c-8e0a-95d4982acf20",
   "metadata": {},
   "outputs": [
    {
     "data": {
      "text/plain": [
       "['c', 'b', 'A', 'start', 'd', 'end']"
      ]
     },
     "execution_count": 6,
     "metadata": {},
     "output_type": "execute_result"
    }
   ],
   "source": [
    "test1_nodes = get_nodes(test1_connections)\n",
    "test1_nodes"
   ]
  },
  {
   "cell_type": "code",
   "execution_count": 7,
   "id": "bf6b5820-3a14-4dbc-b36a-5eb1b4428e60",
   "metadata": {},
   "outputs": [],
   "source": [
    "def get_edges(connections):\n",
    "    nodes = get_nodes(connections)\n",
    "    # initialize edges dict: mapping of node to list of connected nodes\n",
    "    edges = {}\n",
    "    for n in nodes:\n",
    "        edges[n] = []\n",
    "    # add nodes edge is actually connected to\n",
    "    for c in connections:\n",
    "        n1, n2 = c\n",
    "        edges[n1].append(n2)\n",
    "        edges[n2].append(n1)\n",
    "    \n",
    "    return edges"
   ]
  },
  {
   "cell_type": "code",
   "execution_count": 8,
   "id": "59298507-0e51-418c-8724-58c960044fa0",
   "metadata": {},
   "outputs": [
    {
     "data": {
      "text/plain": [
       "{'c': ['A'],\n",
       " 'b': ['start', 'A', 'd', 'end'],\n",
       " 'A': ['start', 'c', 'b', 'end'],\n",
       " 'start': ['A', 'b'],\n",
       " 'd': ['b'],\n",
       " 'end': ['A', 'b']}"
      ]
     },
     "execution_count": 8,
     "metadata": {},
     "output_type": "execute_result"
    }
   ],
   "source": [
    "test1_edges = get_edges(test1_connections)\n",
    "test1_edges"
   ]
  },
  {
   "cell_type": "code",
   "execution_count": 9,
   "id": "4d8d86cc-3b9c-45b1-b750-b0c6bf018e03",
   "metadata": {},
   "outputs": [
    {
     "data": {
      "text/plain": [
       "['c', 'b', 'd']"
      ]
     },
     "execution_count": 9,
     "metadata": {},
     "output_type": "execute_result"
    }
   ],
   "source": [
    "small_caves1 = [x for x in test1_nodes if x.islower() and (x not in [\"start\", \"end\"])]\n",
    "small_caves1"
   ]
  },
  {
   "cell_type": "code",
   "execution_count": null,
   "id": "0a69dcd6-115a-44af-8da1-1166819c2950",
   "metadata": {},
   "outputs": [],
   "source": [
    "def find_a_path(nodes, edges, paths = None):\n",
    "    if not paths:\n",
    "        paths = []\n",
    "    small_caves = [x for x in nodes if x.islower() and (x not in [\"start\", \"end\"])]\n",
    "    path = ['start']\n",
    "    end_reached = False\n",
    "    while not end_reached:\n",
    "        \n",
    "    next_node = edges[path[-1]][0]\n",
    "    path.append(next_node)\n",
    "    if path[-1] == 'end':\n",
    "        return path\n",
    "    next_node = edges[path[-1]][0]\n",
    "    if (next_node in small_caves) and (next_node in path):\n",
    "        return path\n",
    "    else:\n",
    "        path.append(next_node)\n",
    "        "
   ]
  },
  {
   "cell_type": "code",
   "execution_count": null,
   "id": "2a79dcc4-26be-424d-b6df-91e9b7ed3c38",
   "metadata": {},
   "outputs": [],
   "source": [
    "def find_next_cave(edges, path = None, small_caves = None):\n",
    "    if not path:\n",
    "        path = ['start']\n",
    "    current_cave = path[-1]\n",
    "    if current_cave == 'end':\n",
    "        \n",
    "    for next_cave in edges[current_cave]:\n",
    "        if next_cave == 'end':\n",
    "            path.append('end')\n",
    "            return"
   ]
  },
  {
   "cell_type": "code",
   "execution_count": null,
   "id": "798bcfe1-c188-48c1-980d-da1a92792514",
   "metadata": {},
   "outputs": [],
   "source": []
  },
  {
   "cell_type": "code",
   "execution_count": null,
   "id": "9a38793a-f311-4fd3-a839-b7fee3e0f33b",
   "metadata": {},
   "outputs": [],
   "source": [
    "def find_all_paths(connections):\n",
    "    nodes = get_nodes(connections)\n",
    "    edges = get_edges(connections)\n",
    "    paths = []\n",
    "    small_caves = [x for x in nodes if x.islower() and (x not in [\"start\", \"end\"])]\n",
    "    for next_node in edges['start']:\n",
    "        path = ['start', next_node]\n",
    "        if next_node == 'end':\n",
    "            path.append('end')\n",
    "            paths.append(path)\n",
    "        elif (next_node in small_caves) and (next_node in path):\n",
    "            break\n",
    "        else:\n",
    "            for next_node2 in edges[next_node]:\n",
    "                \n",
    "                "
   ]
  },
  {
   "cell_type": "code",
   "execution_count": 10,
   "id": "0891efd5-f213-4d2b-b611-d78e181d2939",
   "metadata": {},
   "outputs": [
    {
     "name": "stdout",
     "output_type": "stream",
     "text": [
      "fizz (21)\n",
      "buzz (20)\n",
      " (19)\n",
      "fizz (18)\n",
      " (17)\n",
      " (16)\n",
      "fizzbuzz (15)\n",
      " (14)\n",
      " (13)\n",
      "fizz (12)\n",
      " (11)\n",
      "buzz (10)\n",
      "fizz (9)\n",
      " (8)\n",
      " (7)\n",
      "fizz (6)\n",
      "buzz (5)\n",
      " (4)\n",
      "fizz (3)\n",
      " (2)\n",
      "(1)\n"
     ]
    }
   ],
   "source": [
    "def fizzbuzz(num):\n",
    "    # fizz on %3, buzz on %5, fizzbuzz on %15\n",
    "    appendStr = \"\"\n",
    "    if num == 1:\n",
    "        appendStr = \"(1)\"\n",
    "    else:\n",
    "        if num %3 == 0:\n",
    "            appendStr += f\"fizz\"\n",
    "        if num % 5 == 0:\n",
    "            appendStr += f\"buzz\"\n",
    "        appendStr += f\" ({num})\\n\" + fizzbuzz(num-1)        \n",
    "    return appendStr\n",
    "\n",
    "print(fizzbuzz(21))"
   ]
  },
  {
   "cell_type": "code",
   "execution_count": null,
   "id": "58a08758-ba3b-4780-a49d-3446bdf3461d",
   "metadata": {},
   "outputs": [],
   "source": []
  }
 ],
 "metadata": {
  "kernelspec": {
   "display_name": "Python 3",
   "language": "python",
   "name": "python3"
  },
  "language_info": {
   "codemirror_mode": {
    "name": "ipython",
    "version": 3
   },
   "file_extension": ".py",
   "mimetype": "text/x-python",
   "name": "python",
   "nbconvert_exporter": "python",
   "pygments_lexer": "ipython3",
   "version": "3.8.8"
  }
 },
 "nbformat": 4,
 "nbformat_minor": 5
}
