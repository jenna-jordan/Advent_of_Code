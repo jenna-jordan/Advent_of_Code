{
 "cells": [
  {
   "cell_type": "markdown",
   "id": "a3483e59-342c-49fc-ab32-0969bc59cfe9",
   "metadata": {},
   "source": [
    "# AoC Day 12\n",
    "\n",
    "Jenna Jordan\n",
    "\n",
    "13 December - \n",
    "\n",
    "## Prompt\n",
    "\n",
    "--- Day 12: Passage Pathing ---\n",
    "\n",
    "With your submarine's subterranean subsystems subsisting suboptimally, the only way you're getting out of this cave anytime soon is by finding a path yourself. Not just a path - the only way to know if you've found the best path is to find all of them.\n",
    "\n",
    "Fortunately, the sensors are still mostly working, and so you build a rough map of the remaining caves (your puzzle input). For example:\n",
    "\n",
    "```\n",
    "start-A\n",
    "start-b\n",
    "A-c\n",
    "A-b\n",
    "b-d\n",
    "A-end\n",
    "b-end\n",
    "```\n",
    "\n",
    "This is a list of how all of the caves are connected. You start in the cave named start, and your destination is the cave named end. An entry like b-d means that cave b is connected to cave d - that is, you can move between them.\n",
    "\n",
    "So, the above cave system looks roughly like this:\n",
    "\n",
    "```\n",
    "    start\n",
    "    /   \\\n",
    "c--A-----b--d\n",
    "    \\   /\n",
    "     end\n",
    "```\n",
    "\n",
    "Your goal is to find the number of distinct paths that start at start, end at end, and don't visit small caves more than once. There are two types of caves: big caves (written in uppercase, like A) and small caves (written in lowercase, like b). It would be a waste of time to visit any small cave more than once, but big caves are large enough that it might be worth visiting them multiple times. So, all paths you find should visit small caves at most once, and can visit big caves any number of times.\n",
    "\n",
    "Given these rules, there are 10 paths through this example cave system:\n",
    "\n",
    "```\n",
    "start,A,b,A,c,A,end\n",
    "start,A,b,A,end\n",
    "start,A,b,end\n",
    "start,A,c,A,b,A,end\n",
    "start,A,c,A,b,end\n",
    "start,A,c,A,end\n",
    "start,A,end\n",
    "start,b,A,c,A,end\n",
    "start,b,A,end\n",
    "start,b,end\n",
    "```\n",
    "(Each line in the above list corresponds to a single path; the caves visited by that path are listed in the order they are visited and separated by commas.)\n",
    "\n",
    "Note that in this cave system, cave d is never visited by any path: to do so, cave b would need to be visited twice (once on the way to cave d and a second time when returning from cave d), and since cave b is small, this is not allowed.\n",
    "\n",
    "Here is a slightly larger example:\n",
    "\n",
    "```\n",
    "dc-end\n",
    "HN-start\n",
    "start-kj\n",
    "dc-start\n",
    "dc-HN\n",
    "LN-dc\n",
    "HN-end\n",
    "kj-sa\n",
    "kj-HN\n",
    "kj-dc\n",
    "```\n",
    "The 19 paths through it are as follows:\n",
    "\n",
    "```\n",
    "start,HN,dc,HN,end\n",
    "start,HN,dc,HN,kj,HN,end\n",
    "start,HN,dc,end\n",
    "start,HN,dc,kj,HN,end\n",
    "start,HN,end\n",
    "start,HN,kj,HN,dc,HN,end\n",
    "start,HN,kj,HN,dc,end\n",
    "start,HN,kj,HN,end\n",
    "start,HN,kj,dc,HN,end\n",
    "start,HN,kj,dc,end\n",
    "start,dc,HN,end\n",
    "start,dc,HN,kj,HN,end\n",
    "start,dc,end\n",
    "start,dc,kj,HN,end\n",
    "start,kj,HN,dc,HN,end\n",
    "start,kj,HN,dc,end\n",
    "start,kj,HN,end\n",
    "start,kj,dc,HN,end\n",
    "start,kj,dc,end\n",
    "```\n",
    "Finally, this even larger example has 226 paths through it:\n",
    "\n",
    "```\n",
    "fs-end\n",
    "he-DX\n",
    "fs-he\n",
    "start-DX\n",
    "pj-DX\n",
    "end-zg\n",
    "zg-sl\n",
    "zg-pj\n",
    "pj-he\n",
    "RW-he\n",
    "fs-DX\n",
    "pj-RW\n",
    "zg-RW\n",
    "start-pj\n",
    "he-WI\n",
    "zg-he\n",
    "pj-fs\n",
    "start-RW\n",
    "```\n",
    "\n",
    "How many paths through this cave system are there that visit small caves at most once?"
   ]
  },
  {
   "cell_type": "code",
   "execution_count": 3,
   "id": "aa1b7bd4-6f6f-462d-bd61-6ab295ab6f8b",
   "metadata": {},
   "outputs": [],
   "source": [
    "# get input\n",
    "\n",
    "with open(\"inputs/day12.txt\") as file:\n",
    "    inputs = file.read().splitlines()\n",
    "\n",
    "test1_inputs = [\"start-A\", \"start-b\", \"A-c\", \"A-b\", \"b-d\", \"A-end\", \"b-end\"]\n",
    "\n",
    "test2_inputs = [\"dc-end\", \"HN-start\", \"start-kj\", \"dc-start\", \"dc-HN\", \"LN-dc\", \"HN-end\", \"kj-sa\", \"kj-HN\", \"kj-dc\"]\n",
    "\n",
    "test3_inputs = [\"fs-end\", \"he-DX\", \"fs-he\", \"start-DX\", \"pj-DX\", \"end-zg\", \"zg-sl\", \"zg-pj\", \"pj-he\", \"RW-he\", \"fs-DX\", \"pj-RW\", \"zg-RW\", \"start-pj\", \"he-WI\", \"zg-he\", \"pj-fs\", \"start-RW\"]"
   ]
  },
  {
   "cell_type": "markdown",
   "id": "b1d4eac9-bb49-439d-8900-4fe2ebb78e40",
   "metadata": {},
   "source": [
    "### Resources\n",
    "\n",
    "- [A* Search Algorithm](https://towardsdatascience.com/a-star-a-search-algorithm-eb495fb156bb)"
   ]
  },
  {
   "cell_type": "code",
   "execution_count": 6,
   "id": "181d2928-4e11-4c8c-aa17-3978cf45c169",
   "metadata": {},
   "outputs": [],
   "source": [
    "def get_connections(inputs):\n",
    "    conn_list = []\n",
    "    for i in inputs:\n",
    "        connection = i.split(\"-\")\n",
    "        conn_list.append((connection[0],connection[1]))\n",
    "    return conn_list"
   ]
  },
  {
   "cell_type": "code",
   "execution_count": 7,
   "id": "53280746-d9c3-4084-a992-57acc485daf9",
   "metadata": {},
   "outputs": [
    {
     "data": {
      "text/plain": [
       "[('start', 'A'),\n",
       " ('start', 'b'),\n",
       " ('A', 'c'),\n",
       " ('A', 'b'),\n",
       " ('b', 'd'),\n",
       " ('A', 'end'),\n",
       " ('b', 'end')]"
      ]
     },
     "execution_count": 7,
     "metadata": {},
     "output_type": "execute_result"
    }
   ],
   "source": [
    "get_connections(test1_inputs)"
   ]
  },
  {
   "cell_type": "markdown",
   "id": "59425134-fd3d-4c12-a79d-b5b2389d4788",
   "metadata": {},
   "source": [
    "Functions to write:\n",
    "\n",
    "- get_nodes: set of all unique cave names\n",
    "- get_edges: dictionary with key of cave name and value of list of all caves connected to that key cave"
   ]
  },
  {
   "cell_type": "code",
   "execution_count": null,
   "id": "9a38793a-f311-4fd3-a839-b7fee3e0f33b",
   "metadata": {},
   "outputs": [],
   "source": []
  }
 ],
 "metadata": {
  "kernelspec": {
   "display_name": "Python 3",
   "language": "python",
   "name": "python3"
  },
  "language_info": {
   "codemirror_mode": {
    "name": "ipython",
    "version": 3
   },
   "file_extension": ".py",
   "mimetype": "text/x-python",
   "name": "python",
   "nbconvert_exporter": "python",
   "pygments_lexer": "ipython3",
   "version": "3.8.8"
  }
 },
 "nbformat": 4,
 "nbformat_minor": 5
}
