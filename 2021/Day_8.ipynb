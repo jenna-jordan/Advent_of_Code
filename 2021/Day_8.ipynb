{
 "cells": [
  {
   "cell_type": "markdown",
   "id": "4b8eb01c-777e-403e-bd62-a63b45ff0c7e",
   "metadata": {},
   "source": [
    "# AoC Day 8\n",
    "\n",
    "Jenna Jordan\n",
    "\n",
    "8 December 2021\n",
    "\n",
    "## Prompt\n",
    "\n",
    "--- Day 8: Seven Segment Search ---\n",
    "\n",
    "You barely reach the safety of the cave when the whale smashes into the cave mouth, collapsing it. Sensors indicate another exit to this cave at a much greater depth, so you have no choice but to press on.\n",
    "\n",
    "As your submarine slowly makes its way through the cave system, you notice that the four-digit seven-segment displays in your submarine are malfunctioning; they must have been damaged during the escape. You'll be in a lot of trouble without them, so you'd better figure out what's wrong.\n",
    "\n",
    "Each digit of a seven-segment display is rendered by turning on or off any of seven segments named a through g:\n",
    "\n",
    "```\n",
    "  0:      1:      2:      3:      4:\n",
    " aaaa    ....    aaaa    aaaa    ....\n",
    "b    c  .    c  .    c  .    c  b    c\n",
    "b    c  .    c  .    c  .    c  b    c\n",
    " ....    ....    dddd    dddd    dddd\n",
    "e    f  .    f  e    .  .    f  .    f\n",
    "e    f  .    f  e    .  .    f  .    f\n",
    " gggg    ....    gggg    gggg    ....\n",
    "\n",
    "  5:      6:      7:      8:      9:\n",
    " aaaa    aaaa    aaaa    aaaa    aaaa\n",
    "b    .  b    .  .    c  b    c  b    c\n",
    "b    .  b    .  .    c  b    c  b    c\n",
    " dddd    dddd    ....    dddd    dddd\n",
    ".    f  e    f  .    f  e    f  .    f\n",
    ".    f  e    f  .    f  e    f  .    f\n",
    " gggg    gggg    ....    gggg    gggg\n",
    "```\n",
    "\n",
    "So, to render a 1, only segments c and f would be turned on; the rest would be off. To render a 7, only segments a, c, and f would be turned on.\n",
    "\n",
    "The problem is that the signals which control the segments have been mixed up on each display. The submarine is still trying to display numbers by producing output on signal wires a through g, but those wires are connected to segments randomly. Worse, the wire/segment connections are mixed up separately for each four-digit display! (All of the digits within a display use the same connections, though.)\n",
    "\n",
    "So, you might know that only signal wires b and g are turned on, but that doesn't mean segments b and g are turned on: the only digit that uses two segments is 1, so it must mean segments c and f are meant to be on. With just that information, you still can't tell which wire (b/g) goes to which segment (c/f). For that, you'll need to collect more information.\n",
    "\n",
    "For each display, you watch the changing signals for a while, make a note of all ten unique signal patterns you see, and then write down a single four digit output value (your puzzle input). Using the signal patterns, you should be able to work out which pattern corresponds to which digit.\n",
    "\n",
    "For example, here is what you might see in a single entry in your notes:\n",
    "\n",
    "`acedgfb cdfbe gcdfa fbcad dab cefabd cdfgeb eafb cagedb ab |\n",
    "cdfeb fcadb cdfeb cdbaf`\n",
    "(The entry is wrapped here to two lines so it fits; in your notes, it will all be on a single line.)\n",
    "\n",
    "Each entry consists of ten unique signal patterns, a | delimiter, and finally the four digit output value. Within an entry, the same wire/segment connections are used (but you don't know what the connections actually are). The unique signal patterns correspond to the ten different ways the submarine tries to render a digit using the current wire/segment connections. Because 7 is the only digit that uses three segments, dab in the above example means that to render a 7, signal lines d, a, and b are on. Because 4 is the only digit that uses four segments, eafb means that to render a 4, signal lines e, a, f, and b are on.\n",
    "\n",
    "Using this information, you should be able to work out which combination of signal wires corresponds to each of the ten digits. Then, you can decode the four digit output value. Unfortunately, in the above example, all of the digits in the output value (cdfeb fcadb cdfeb cdbaf) use five segments and are more difficult to deduce.\n",
    "\n",
    "For now, focus on the easy digits. Consider this larger example:\n",
    "\n",
    "```\n",
    "be cfbegad cbdgef fgaecd cgeb fdcge agebfd fecdb fabcd edb |\n",
    "fdgacbe cefdb cefbgd gcbe\n",
    "edbfga begcd cbg gc gcadebf fbgde acbgfd abcde gfcbed gfec |\n",
    "fcgedb cgb dgebacf gc\n",
    "fgaebd cg bdaec gdafb agbcfd gdcbef bgcad gfac gcb cdgabef |\n",
    "cg cg fdcagb cbg\n",
    "fbegcd cbd adcefb dageb afcb bc aefdc ecdab fgdeca fcdbega |\n",
    "efabcd cedba gadfec cb\n",
    "aecbfdg fbg gf bafeg dbefa fcge gcbea fcaegb dgceab fcbdga |\n",
    "gecf egdcabf bgf bfgea\n",
    "fgeab ca afcebg bdacfeg cfaedg gcfdb baec bfadeg bafgc acf |\n",
    "gebdcfa ecba ca fadegcb\n",
    "dbcfg fgd bdegcaf fgec aegbdf ecdfab fbedc dacgb gdcebf gf |\n",
    "cefg dcbef fcge gbcadfe\n",
    "bdfegc cbegaf gecbf dfcage bdacg ed bedf ced adcbefg gebcd |\n",
    "ed bcgafe cdgba cbgef\n",
    "egadfb cdbfeg cegd fecab cgb gbdefca cg fgcdab egfdb bfceg |\n",
    "gbdfcae bgc cg cgb\n",
    "gcafb gcf dcaebfg ecagb gf abcdeg gaef cafbge fdbac fegbdc |\n",
    "fgae cfgab fg bagce\n",
    "```\n",
    "\n",
    "Because the digits 1, 4, 7, and 8 each use a unique number of segments, you should be able to tell which combinations of signals correspond to those digits. Counting only digits in the output values (the part after | on each line), in the above example, there are 26 instances of digits that use a unique number of segments (highlighted above).\n",
    "\n",
    "In the output values, how many times do digits 1, 4, 7, or 8 appear?"
   ]
  },
  {
   "cell_type": "markdown",
   "id": "65173aaf-1a45-4cf8-986b-02332b63f6fc",
   "metadata": {},
   "source": [
    "### Notes\n",
    "\n",
    "- 0\n",
    "    - 6 segments\n",
    "- 1\n",
    "    - 2 segments - UNIQUE\n",
    "- 2\n",
    "    - 5 segments\n",
    "- 3\n",
    "    - 5 segments\n",
    "- 4\n",
    "    - 4 segments - UNIQUE\n",
    "- 5\n",
    "    - 5 segments\n",
    "- 6 \n",
    "    - 6 segments\n",
    "- 7\n",
    "    - 3 segments - UNIQUE\n",
    "- 8\n",
    "    - 7 segments - UNIQUE\n",
    "- 9\n",
    "    - 6 segments"
   ]
  },
  {
   "cell_type": "code",
   "execution_count": 1,
   "id": "0ecfb553-46b1-4e35-98c4-9d76707d14ac",
   "metadata": {},
   "outputs": [],
   "source": [
    "# get input\n",
    "\n",
    "with open(\"inputs/day8.txt\") as file:\n",
    "    inputs = file.read().splitlines()"
   ]
  },
  {
   "cell_type": "code",
   "execution_count": 12,
   "id": "dd6b861c-c16c-4e5b-ac3e-6baa687167e4",
   "metadata": {},
   "outputs": [],
   "source": [
    "test_input = \"\"\"be cfbegad cbdgef fgaecd cgeb fdcge agebfd fecdb fabcd edb | fdgacbe cefdb cefbgd gcbe\n",
    "edbfga begcd cbg gc gcadebf fbgde acbgfd abcde gfcbed gfec | fcgedb cgb dgebacf gc\n",
    "fgaebd cg bdaec gdafb agbcfd gdcbef bgcad gfac gcb cdgabef | cg cg fdcagb cbg\n",
    "fbegcd cbd adcefb dageb afcb bc aefdc ecdab fgdeca fcdbega | efabcd cedba gadfec cb\n",
    "aecbfdg fbg gf bafeg dbefa fcge gcbea fcaegb dgceab fcbdga | gecf egdcabf bgf bfgea\n",
    "fgeab ca afcebg bdacfeg cfaedg gcfdb baec bfadeg bafgc acf | gebdcfa ecba ca fadegcb\n",
    "dbcfg fgd bdegcaf fgec aegbdf ecdfab fbedc dacgb gdcebf gf | cefg dcbef fcge gbcadfe\n",
    "bdfegc cbegaf gecbf dfcage bdacg ed bedf ced adcbefg gebcd | ed bcgafe cdgba cbgef\n",
    "egadfb cdbfeg cegd fecab cgb gbdefca cg fgcdab egfdb bfceg | gbdfcae bgc cg cgb\n",
    "gcafb gcf dcaebfg ecagb gf abcdeg gaef cafbge fdbac fegbdc | fgae cfgab fg bagce\"\"\".splitlines()"
   ]
  },
  {
   "cell_type": "code",
   "execution_count": 13,
   "id": "c407e042-3c17-4e1e-b392-6a0c9875e180",
   "metadata": {},
   "outputs": [
    {
     "data": {
      "text/plain": [
       "['be cfbegad cbdgef fgaecd cgeb fdcge agebfd fecdb fabcd edb | fdgacbe cefdb cefbgd gcbe',\n",
       " 'edbfga begcd cbg gc gcadebf fbgde acbgfd abcde gfcbed gfec | fcgedb cgb dgebacf gc',\n",
       " 'fgaebd cg bdaec gdafb agbcfd gdcbef bgcad gfac gcb cdgabef | cg cg fdcagb cbg',\n",
       " 'fbegcd cbd adcefb dageb afcb bc aefdc ecdab fgdeca fcdbega | efabcd cedba gadfec cb',\n",
       " 'aecbfdg fbg gf bafeg dbefa fcge gcbea fcaegb dgceab fcbdga | gecf egdcabf bgf bfgea',\n",
       " 'fgeab ca afcebg bdacfeg cfaedg gcfdb baec bfadeg bafgc acf | gebdcfa ecba ca fadegcb',\n",
       " 'dbcfg fgd bdegcaf fgec aegbdf ecdfab fbedc dacgb gdcebf gf | cefg dcbef fcge gbcadfe',\n",
       " 'bdfegc cbegaf gecbf dfcage bdacg ed bedf ced adcbefg gebcd | ed bcgafe cdgba cbgef',\n",
       " 'egadfb cdbfeg cegd fecab cgb gbdefca cg fgcdab egfdb bfceg | gbdfcae bgc cg cgb',\n",
       " 'gcafb gcf dcaebfg ecagb gf abcdeg gaef cafbge fdbac fegbdc | fgae cfgab fg bagce']"
      ]
     },
     "execution_count": 13,
     "metadata": {},
     "output_type": "execute_result"
    }
   ],
   "source": [
    "test_input"
   ]
  },
  {
   "cell_type": "code",
   "execution_count": 14,
   "id": "57b2410e-d423-4fd1-9464-c2fe98540011",
   "metadata": {},
   "outputs": [],
   "source": [
    "def transform_input(input_list):\n",
    "    signals = []\n",
    "    for i in input_list:\n",
    "        parts = i.split(\" | \")\n",
    "        digits = parts[0].split(\" \")\n",
    "        display = parts[1].split(\" \")\n",
    "        signals.append({\"digits\": digits, \"display\": display})\n",
    "    return signals"
   ]
  },
  {
   "cell_type": "code",
   "execution_count": 29,
   "id": "ba8ed237-d813-4585-b4e5-e6012ac5c85b",
   "metadata": {},
   "outputs": [],
   "source": [
    "def decode_easy_digits(signal: dict):\n",
    "    signal[\"digits_decoded\"] = {}\n",
    "    for d in signal[\"digits\"]:\n",
    "        sorted_d = \"\".join(sorted(list(d)))\n",
    "        if len(d) == 2:\n",
    "            signal[\"digits_decoded\"][sorted_d] = '1'\n",
    "        elif len(d) == 3:\n",
    "            signal[\"digits_decoded\"][sorted_d] = '7'\n",
    "        elif len(d) == 4:\n",
    "            signal[\"digits_decoded\"][sorted_d] = '4'\n",
    "        elif len(d) == 7:\n",
    "            signal[\"digits_decoded\"][sorted_d] = '8'"
   ]
  },
  {
   "cell_type": "code",
   "execution_count": 30,
   "id": "eb284389-dbd2-49a6-a8d8-d4a94acbcfdc",
   "metadata": {},
   "outputs": [],
   "source": [
    "def decode_display(signal: dict):\n",
    "    signal[\"display_decoded\"] = ['.'] * 4\n",
    "    for position, d in enumerate(signal[\"display\"]):\n",
    "        sorted_d = \"\".join(sorted(list(d)))\n",
    "        if sorted_d in signal[\"digits_decoded\"].keys():\n",
    "            signal[\"display_decoded\"][position] = signal[\"digits_decoded\"][sorted_d]"
   ]
  },
  {
   "cell_type": "code",
   "execution_count": 35,
   "id": "528aa40a-bfef-4e21-b8f3-6c2bf22d2690",
   "metadata": {},
   "outputs": [],
   "source": [
    "def count_decoded_digits(signals: list):\n",
    "    decoded_count = 0\n",
    "    for signal in signals:\n",
    "        decode_easy_digits(signal)\n",
    "        decode_display(signal)\n",
    "        for d in signal[\"display_decoded\"]:\n",
    "            if d != \".\":\n",
    "                decoded_count += 1\n",
    "    return decoded_count"
   ]
  },
  {
   "cell_type": "code",
   "execution_count": 31,
   "id": "b1b4f82b-1808-46bc-97e3-c4a3d9884de9",
   "metadata": {},
   "outputs": [],
   "source": [
    "test_signals = transform_input(test_input)"
   ]
  },
  {
   "cell_type": "code",
   "execution_count": 36,
   "id": "06ffdf2c-f625-415e-bdcc-044cf8189194",
   "metadata": {},
   "outputs": [
    {
     "data": {
      "text/plain": [
       "26"
      ]
     },
     "execution_count": 36,
     "metadata": {},
     "output_type": "execute_result"
    }
   ],
   "source": [
    "count_decoded_digits(test_signals)"
   ]
  },
  {
   "cell_type": "code",
   "execution_count": 37,
   "id": "9316276a-6cfc-4ad1-a582-1e8394d6309f",
   "metadata": {},
   "outputs": [
    {
     "data": {
      "text/plain": [
       "255"
      ]
     },
     "execution_count": 37,
     "metadata": {},
     "output_type": "execute_result"
    }
   ],
   "source": [
    "signals = transform_input(inputs)\n",
    "count_decoded_digits(signals)"
   ]
  },
  {
   "cell_type": "markdown",
   "id": "79eb8c1e-8985-4d20-ac7e-92ae9caca52e",
   "metadata": {},
   "source": [
    "### Part 1 Solution\n",
    "\n",
    "255 - CORRECT!"
   ]
  },
  {
   "cell_type": "markdown",
   "id": "36186818-aa86-4e22-9f6d-7fccece6b77b",
   "metadata": {},
   "source": [
    "--- Part Two ---\n",
    "\n",
    "Through a little deduction, you should now be able to determine the remaining digits. Consider again the first example above:\n",
    "\n",
    "`acedgfb cdfbe gcdfa fbcad dab cefabd cdfgeb eafb cagedb ab |cdfeb fcadb cdfeb cdbaf`\n",
    "\n",
    "After some careful analysis, the mapping between signal wires and segments only make sense in the following configuration:\n",
    "\n",
    "```\n",
    " dddd\n",
    "e    a\n",
    "e    a\n",
    " ffff\n",
    "g    b\n",
    "g    b\n",
    " cccc\n",
    "```\n",
    "\n",
    "So, the unique signal patterns would correspond to the following digits:\n",
    "\n",
    "- acedgfb: 8\n",
    "- cdfbe: 5\n",
    "- gcdfa: 2\n",
    "- fbcad: 3\n",
    "- dab: 7\n",
    "- cefabd: 9\n",
    "- cdfgeb: 6\n",
    "- eafb: 4\n",
    "- cagedb: 0\n",
    "- ab: 1\n",
    "\n",
    "Then, the four digits of the output value can be decoded:\n",
    "\n",
    "- cdfeb: 5\n",
    "- fcadb: 3\n",
    "- cdfeb: 5\n",
    "- cdbaf: 3\n",
    "\n",
    "Therefore, the output value for this entry is 5353.\n",
    "\n",
    "Following this same process for each entry in the second, larger example above, the output value of each entry can be determined:\n",
    "\n",
    "- fdgacbe cefdb cefbgd gcbe: 8394\n",
    "- fcgedb cgb dgebacf gc: 9781\n",
    "- cg cg fdcagb cbg: 1197\n",
    "- efabcd cedba gadfec cb: 9361\n",
    "- gecf egdcabf bgf bfgea: 4873\n",
    "- gebdcfa ecba ca fadegcb: 8418\n",
    "- cefg dcbef fcge gbcadfe: 4548\n",
    "- ed bcgafe cdgba cbgef: 1625\n",
    "- gbdfcae bgc cg cgb: 8717\n",
    "- fgae cfgab fg bagce: 4315\n",
    "\n",
    "Adding all of the output values in this larger example produces 61229.\n",
    "\n",
    "For each entry, determine all of the wire/segment connections and decode the four-digit output values. What do you get if you add up all of the output values?"
   ]
  },
  {
   "cell_type": "markdown",
   "id": "de62c216-806f-4fd5-8569-a03cfc1dfa05",
   "metadata": {},
   "source": [
    "### Notes\n",
    "\n",
    "```\n",
    "  0:      1:      2:      3:      4:\n",
    " aaaa    ....    aaaa    aaaa    ....\n",
    "b    c  .    c  .    c  .    c  b    c\n",
    "b    c  .    c  .    c  .    c  b    c\n",
    " ....    ....    dddd    dddd    dddd\n",
    "e    f  .    f  e    .  .    f  .    f\n",
    "e    f  .    f  e    .  .    f  .    f\n",
    " gggg    ....    gggg    gggg    ....\n",
    "\n",
    "  5:      6:      7:      8:      9:\n",
    " aaaa    aaaa    aaaa    aaaa    aaaa\n",
    "b    .  b    .  .    c  b    c  b    c\n",
    "b    .  b    .  .    c  b    c  b    c\n",
    " dddd    dddd    ....    dddd    dddd\n",
    ".    f  e    f  .    f  e    f  .    f\n",
    ".    f  e    f  .    f  e    f  .    f\n",
    " gggg    gggg    ....    gggg    gggg\n",
    "```\n",
    "- a: 8\n",
    "- b: 6\n",
    "- c: 8\n",
    "- d: 7\n",
    "- e: 4\n",
    "- f: 9\n",
    "- g: 7\n",
    "\n",
    "- 0\n",
    "    - 6 segments\n",
    "    - abc.efg\n",
    "- 1\n",
    "    - 2 segments - UNIQUE\n",
    "    - ..c..f.\n",
    "- 2\n",
    "    - 5 segments\n",
    "    - a.cde.g\n",
    "- 3\n",
    "    - 5 segments\n",
    "    - a.cd.fg\n",
    "- 4\n",
    "    - 4 segments - UNIQUE\n",
    "    - .bcd.f.\n",
    "- 5\n",
    "    - 5 segments\n",
    "    - ab.d.fg\n",
    "- 6 \n",
    "    - 6 segments\n",
    "    - ab.defg\n",
    "- 7\n",
    "    - 3 segments - UNIQUE\n",
    "    - a.c..f.\n",
    "- 8\n",
    "    - 7 segments - UNIQUE\n",
    "    - abcdefg\n",
    "- 9\n",
    "    - 6 segments\n",
    "    - abcd.fg"
   ]
  },
  {
   "cell_type": "code",
   "execution_count": 39,
   "id": "cb087c8c-8190-44dc-bf52-a3b1fb7f3b00",
   "metadata": {},
   "outputs": [
    {
     "data": {
      "text/plain": [
       "{'digits': ['be',\n",
       "  'cfbegad',\n",
       "  'cbdgef',\n",
       "  'fgaecd',\n",
       "  'cgeb',\n",
       "  'fdcge',\n",
       "  'agebfd',\n",
       "  'fecdb',\n",
       "  'fabcd',\n",
       "  'edb'],\n",
       " 'display': ['fdgacbe', 'cefdb', 'cefbgd', 'gcbe'],\n",
       " 'digits_decoded': {'be': '1', 'abcdefg': '8', 'bceg': '4', 'bde': '7'},\n",
       " 'display_decoded': ['8', '.', '.', '4']}"
      ]
     },
     "execution_count": 39,
     "metadata": {},
     "output_type": "execute_result"
    }
   ],
   "source": [
    "test_signals[0]"
   ]
  },
  {
   "cell_type": "code",
   "execution_count": 77,
   "id": "52e3e6d3-6278-42d0-a50d-374bc97dd79c",
   "metadata": {},
   "outputs": [],
   "source": [
    "def decode_hard_digits(signal: dict):\n",
    "    # first, deduce how the segments correspond\n",
    "    signal[\"digit_codes\"] = {v: k for k, v in signal[\"digits_decoded\"].items()}\n",
    "    signal[\"segments_mapped\"] = {}\n",
    "    # deduce what \"a\" is\n",
    "    seven = signal[\"digit_codes\"][\"7\"]\n",
    "    one = signal[\"digit_codes\"][\"1\"]\n",
    "    a = list(set(seven) - set(one))[0]\n",
    "    signal[\"segments_mapped\"][\"a\"] = a\n",
    "    # deduce what \"b\", \"e\", and \"f\" are\n",
    "    signal[\"segment_counts\"] = {'a':0, 'b':0, 'c':0, 'd':0, 'e':0, 'f': 0, 'g': 0}\n",
    "    for d in signal['digits']:\n",
    "        for letter in signal[\"segment_counts\"].keys():\n",
    "            if letter in d:\n",
    "                signal[\"segment_counts\"][letter] += 1\n",
    "    segment_counts_reversed = {v: k for k, v in signal[\"segment_counts\"].items()}\n",
    "    signal[\"segments_mapped\"][\"b\"] = segment_counts_reversed[6]\n",
    "    signal[\"segments_mapped\"][\"e\"] = segment_counts_reversed[4]\n",
    "    signal[\"segments_mapped\"][\"f\"] = segment_counts_reversed[9]\n",
    "    # deduce what \"c\" is\n",
    "    c = list(set(one) - set(signal[\"segments_mapped\"]['f']))[0]\n",
    "    signal[\"segments_mapped\"][\"c\"] = c\n",
    "    # deduce what \"d\" is\n",
    "    four = signal[\"digit_codes\"][\"4\"]\n",
    "    d = list(set(four) - set(signal[\"segments_mapped\"]['b']) - set(signal[\"segments_mapped\"]['c']) - set(signal[\"segments_mapped\"]['f']))[0]\n",
    "    signal[\"segments_mapped\"][\"d\"] = d\n",
    "    # deduce what \"g\" is\n",
    "    g = list(set(\"abcdefg\") - set(signal[\"segments_mapped\"].values()))[0]\n",
    "    signal[\"segments_mapped\"][\"g\"] = g\n",
    "    signal[\"segments_mapped_reversed\"] = {v: k for k, v in signal[\"segments_mapped\"].items()}\n",
    "    # now, deduce the rest of the digits\n",
    "    for d in signal['digits']:\n",
    "        translated_d = \"\".join([signal['segments_mapped_reversed'][l] for l in list(d)])\n",
    "        sorted_d = \"\".join(sorted(list(translated_d)))\n",
    "        if sorted_d == \"acdeg\":\n",
    "            signal['digit_codes']['2'] = sorted_d\n",
    "        elif sorted_d == \"acdfg\":\n",
    "            signal['digit_codes']['3'] = sorted_d\n",
    "        elif sorted_d == \"abdfg\":\n",
    "            signal['digit_codes']['5'] = sorted_d\n",
    "        elif sorted_d == \"abdefg\":\n",
    "            signal['digit_codes']['6'] = sorted_d\n",
    "        elif sorted_d == \"abcdfg\":\n",
    "            signal['digit_codes']['9'] = sorted_d\n",
    "    signal[\"digits_decoded\"] = {v: k for k, v in signal[\"digit_codes\"].items()}"
   ]
  },
  {
   "cell_type": "code",
   "execution_count": 78,
   "id": "a548d118-f30c-4ce5-bed5-11cc931d4b71",
   "metadata": {},
   "outputs": [],
   "source": [
    "def sum_decoded_digits(signals: list):\n",
    "    decoded_sum = 0\n",
    "    for signal in signals:\n",
    "        decode_easy_digits(signal)\n",
    "        decode_hard_digits(signal)\n",
    "        decode_display(signal)\n",
    "        final_display = int(\"\".join(signal[\"display_decoded\"]))\n",
    "        decoded_sum =+ final_display          \n",
    "    return decoded_sum"
   ]
  },
  {
   "cell_type": "code",
   "execution_count": 79,
   "id": "7f56fa0e-f6de-4791-8019-62eaee3e6a2c",
   "metadata": {},
   "outputs": [
    {
     "ename": "ValueError",
     "evalue": "invalid literal for int() with base 10: '8..4'",
     "output_type": "error",
     "traceback": [
      "\u001b[0;31m---------------------------------------------------------------------------\u001b[0m",
      "\u001b[0;31mValueError\u001b[0m                                Traceback (most recent call last)",
      "\u001b[0;32m<ipython-input-79-ccaaa63c8d74>\u001b[0m in \u001b[0;36m<module>\u001b[0;34m\u001b[0m\n\u001b[0;32m----> 1\u001b[0;31m \u001b[0msum_decoded_digits\u001b[0m\u001b[0;34m(\u001b[0m\u001b[0mtest_signals\u001b[0m\u001b[0;34m)\u001b[0m\u001b[0;34m\u001b[0m\u001b[0;34m\u001b[0m\u001b[0m\n\u001b[0m",
      "\u001b[0;32m<ipython-input-78-45486e0d3dd5>\u001b[0m in \u001b[0;36msum_decoded_digits\u001b[0;34m(signals)\u001b[0m\n\u001b[1;32m      5\u001b[0m         \u001b[0mdecode_hard_digits\u001b[0m\u001b[0;34m(\u001b[0m\u001b[0msignal\u001b[0m\u001b[0;34m)\u001b[0m\u001b[0;34m\u001b[0m\u001b[0;34m\u001b[0m\u001b[0m\n\u001b[1;32m      6\u001b[0m         \u001b[0mdecode_display\u001b[0m\u001b[0;34m(\u001b[0m\u001b[0msignal\u001b[0m\u001b[0;34m)\u001b[0m\u001b[0;34m\u001b[0m\u001b[0;34m\u001b[0m\u001b[0m\n\u001b[0;32m----> 7\u001b[0;31m         \u001b[0mfinal_display\u001b[0m \u001b[0;34m=\u001b[0m \u001b[0mint\u001b[0m\u001b[0;34m(\u001b[0m\u001b[0;34m\"\"\u001b[0m\u001b[0;34m.\u001b[0m\u001b[0mjoin\u001b[0m\u001b[0;34m(\u001b[0m\u001b[0msignal\u001b[0m\u001b[0;34m[\u001b[0m\u001b[0;34m\"display_decoded\"\u001b[0m\u001b[0;34m]\u001b[0m\u001b[0;34m)\u001b[0m\u001b[0;34m)\u001b[0m\u001b[0;34m\u001b[0m\u001b[0;34m\u001b[0m\u001b[0m\n\u001b[0m\u001b[1;32m      8\u001b[0m         \u001b[0mdecoded_sum\u001b[0m \u001b[0;34m=\u001b[0m\u001b[0;34m+\u001b[0m \u001b[0mfinal_display\u001b[0m\u001b[0;34m\u001b[0m\u001b[0;34m\u001b[0m\u001b[0m\n\u001b[1;32m      9\u001b[0m     \u001b[0;32mreturn\u001b[0m \u001b[0mdecoded_sum\u001b[0m\u001b[0;34m\u001b[0m\u001b[0;34m\u001b[0m\u001b[0m\n",
      "\u001b[0;31mValueError\u001b[0m: invalid literal for int() with base 10: '8..4'"
     ]
    }
   ],
   "source": [
    "sum_decoded_digits(test_signals)"
   ]
  },
  {
   "cell_type": "code",
   "execution_count": 80,
   "id": "2b25c4c7-c1d3-4e11-85a7-cc0957f92acf",
   "metadata": {},
   "outputs": [
    {
     "data": {
      "text/plain": [
       "{'digits': ['be',\n",
       "  'cfbegad',\n",
       "  'cbdgef',\n",
       "  'fgaecd',\n",
       "  'cgeb',\n",
       "  'fdcge',\n",
       "  'agebfd',\n",
       "  'fecdb',\n",
       "  'fabcd',\n",
       "  'edb'],\n",
       " 'display': ['fdgacbe', 'cefdb', 'cefbgd', 'gcbe'],\n",
       " 'digits_decoded': {'be': '1',\n",
       "  'abcdefg': '8',\n",
       "  'bceg': '4',\n",
       "  'bde': '7',\n",
       "  'abcdfg': '9',\n",
       "  'abdefg': '6',\n",
       "  'abdfg': '5',\n",
       "  'acdfg': '3',\n",
       "  'acdeg': '2'},\n",
       " 'display_decoded': ['8', '.', '.', '4'],\n",
       " 'digit_codes': {'1': 'be',\n",
       "  '8': 'abcdefg',\n",
       "  '4': 'bceg',\n",
       "  '7': 'bde',\n",
       "  '9': 'abcdfg',\n",
       "  '6': 'abdefg',\n",
       "  '5': 'abdfg',\n",
       "  '3': 'acdfg',\n",
       "  '2': 'acdeg'},\n",
       " 'segments_mapped': {'a': 'd',\n",
       "  'b': 'g',\n",
       "  'e': 'a',\n",
       "  'f': 'e',\n",
       "  'c': 'b',\n",
       "  'd': 'c',\n",
       "  'g': 'f'},\n",
       " 'segment_counts': {'a': 4, 'b': 8, 'c': 7, 'd': 8, 'e': 9, 'f': 7, 'g': 6},\n",
       " 'segments_mapped_reversed': {'d': 'a',\n",
       "  'g': 'b',\n",
       "  'a': 'e',\n",
       "  'e': 'f',\n",
       "  'b': 'c',\n",
       "  'c': 'd',\n",
       "  'f': 'g'}}"
      ]
     },
     "execution_count": 80,
     "metadata": {},
     "output_type": "execute_result"
    }
   ],
   "source": [
    "for s in test_signals:\n",
    "    decode_hard_digits(s)\n",
    "test_signals[0]"
   ]
  },
  {
   "cell_type": "code",
   "execution_count": 47,
   "id": "b8c9ba67-7e81-43bb-bb27-a318c48702e1",
   "metadata": {},
   "outputs": [],
   "source": [
    "test_dict = {v: k for k, v in test_signals[0][\"digits_decoded\"].items()}"
   ]
  },
  {
   "cell_type": "code",
   "execution_count": 48,
   "id": "fcd04ce3-a1e0-41fd-b9d6-06754e46f2db",
   "metadata": {},
   "outputs": [
    {
     "data": {
      "text/plain": [
       "{'1': 'be', '8': 'abcdefg', '4': 'bceg', '7': 'bde'}"
      ]
     },
     "execution_count": 48,
     "metadata": {},
     "output_type": "execute_result"
    }
   ],
   "source": [
    "test_dict"
   ]
  },
  {
   "cell_type": "code",
   "execution_count": null,
   "id": "1994da56-bf12-4f93-9aef-5b852ac8d884",
   "metadata": {},
   "outputs": [],
   "source": []
  }
 ],
 "metadata": {
  "kernelspec": {
   "display_name": "Python 3",
   "language": "python",
   "name": "python3"
  },
  "language_info": {
   "codemirror_mode": {
    "name": "ipython",
    "version": 3
   },
   "file_extension": ".py",
   "mimetype": "text/x-python",
   "name": "python",
   "nbconvert_exporter": "python",
   "pygments_lexer": "ipython3",
   "version": "3.8.8"
  }
 },
 "nbformat": 4,
 "nbformat_minor": 5
}
