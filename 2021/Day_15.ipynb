{
 "cells": [
  {
   "cell_type": "markdown",
   "id": "e1db48a3-de43-4ced-aa68-264b5bc1f9ab",
   "metadata": {},
   "source": [
    "# AoC Day 15\n",
    "\n",
    "Jenna Jordan\n",
    "\n",
    "15 December 2021 - \n",
    "\n",
    "## Prompt\n",
    "\n",
    "--- Day 15: Chiton ---\n",
    "\n",
    "You've almost reached the exit of the cave, but the walls are getting closer together. Your submarine can barely still fit, though; the main problem is that the walls of the cave are covered in chitons, and it would be best not to bump any of them.\n",
    "\n",
    "The cavern is large, but has a very low ceiling, restricting your motion to two dimensions. The shape of the cavern resembles a square; a quick scan of chiton density produces a map of risk level throughout the cave (your puzzle input). For example:\n",
    "\n",
    "```\n",
    "1163751742\n",
    "1381373672\n",
    "2136511328\n",
    "3694931569\n",
    "7463417111\n",
    "1319128137\n",
    "1359912421\n",
    "3125421639\n",
    "1293138521\n",
    "2311944581\n",
    "```\n",
    "\n",
    "You start in the top left position, your destination is the bottom right position, and you cannot move diagonally. The number at each position is its risk level; to determine the total risk of an entire path, add up the risk levels of each position you enter (that is, don't count the risk level of your starting position unless you enter it; leaving it adds no risk to your total).\n",
    "\n",
    "Your goal is to find a path with the lowest total risk. In this example, a path with the lowest total risk is highlighted here:\n",
    "\n",
    "```\n",
    "1163751742\n",
    "1381373672\n",
    "2136511328\n",
    "3694931569\n",
    "7463417111\n",
    "1319128137\n",
    "1359912421\n",
    "3125421639\n",
    "1293138521\n",
    "2311944581\n",
    "```\n",
    "\n",
    "The total risk of this path is 40 (the starting position is never entered, so its risk is not counted).\n",
    "\n",
    "What is the lowest total risk of any path from the top left to the bottom right?"
   ]
  },
  {
   "cell_type": "code",
   "execution_count": 5,
   "id": "0ad621a5-b65b-4bf9-9588-0e25f2737b22",
   "metadata": {},
   "outputs": [],
   "source": [
    "# get input\n",
    "\n",
    "with open(\"inputs/day15.txt\") as file:\n",
    "    inputs = file.read().splitlines()\n",
    "    \n",
    "test_inputs = [\"1163751742\", \"1381373672\", \"2136511328\", \"3694931569\", \"7463417111\", \"1319128137\", \"1359912421\", \"3125421639\", \"1293138521\", \"2311944581\"]"
   ]
  },
  {
   "cell_type": "code",
   "execution_count": 3,
   "id": "2f9c0a5d-f094-4dcf-80e3-cb6a27843f1d",
   "metadata": {},
   "outputs": [],
   "source": [
    "def gridify(inputs):\n",
    "    grid = []\n",
    "    for line in inputs:\n",
    "        grid.append([int(n) for n in list(line)])\n",
    "    return grid"
   ]
  },
  {
   "cell_type": "code",
   "execution_count": null,
   "id": "82f87a1f-b67d-444a-8807-3d8161e85e79",
   "metadata": {},
   "outputs": [],
   "source": []
  }
 ],
 "metadata": {
  "kernelspec": {
   "display_name": "Python 3",
   "language": "python",
   "name": "python3"
  },
  "language_info": {
   "codemirror_mode": {
    "name": "ipython",
    "version": 3
   },
   "file_extension": ".py",
   "mimetype": "text/x-python",
   "name": "python",
   "nbconvert_exporter": "python",
   "pygments_lexer": "ipython3",
   "version": "3.8.8"
  }
 },
 "nbformat": 4,
 "nbformat_minor": 5
}
