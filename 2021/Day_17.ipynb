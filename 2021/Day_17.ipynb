{
 "cells": [
  {
   "cell_type": "markdown",
   "id": "2d4011a6-c4d6-4cb1-8cba-e7260ff96037",
   "metadata": {},
   "source": [
    "# AoC Day 17\n",
    "\n",
    "Jenna Jordan\n",
    "\n",
    "18 December 2021\n",
    "\n",
    "## Prompt\n",
    "\n",
    "--- Day 17: Trick Shot ---\n",
    "\n",
    "You finally decode the Elves' message. HI, the message says. You continue searching for the sleigh keys.\n",
    "\n",
    "Ahead of you is what appears to be a large ocean trench. Could the keys have fallen into it? You'd better send a probe to investigate.\n",
    "\n",
    "The probe launcher on your submarine can fire the probe with any integer velocity in the x (forward) and y (upward, or downward if negative) directions. For example, an initial `x,y` velocity like `0,10` would fire the probe straight up, while an initial velocity like `10,-1` would fire the probe forward at a slight downward angle.\n",
    "\n",
    "The probe's x,y position starts at 0,0. Then, it will follow some trajectory by moving in steps. On each step, these changes occur in the following order:\n",
    "\n",
    "- The probe's x position increases by its x velocity.\n",
    "- The probe's y position increases by its y velocity.\n",
    "- Due to drag, the probe's x velocity changes by 1 toward the value 0; that is, it decreases by 1 if it is greater than 0, increases by 1 if it is less than 0, or does not change if it is already 0.\n",
    "- Due to gravity, the probe's y velocity decreases by 1.\n",
    "\n",
    "For the probe to successfully make it into the trench, the probe must be on some trajectory that causes it to be within a target area after any step. The submarine computer has already calculated this target area (your puzzle input). For example:\n",
    "\n",
    "`target area: x=20..30, y=-10..-5`\n",
    "\n",
    "This target area means that you need to find initial x,y velocity values such that after any step, the probe's x position is at least 20 and at most 30, and the probe's y position is at least -10 and at most -5.\n",
    "\n",
    "Given this target area, one initial velocity that causes the probe to be within the target area after any step is 7,2:\n",
    "\n",
    "```\n",
    ".............#....#............\n",
    ".......#..............#........\n",
    "...............................\n",
    "S........................#.....\n",
    "...............................\n",
    "...............................\n",
    "...........................#...\n",
    "...............................\n",
    "....................TTTTTTTTTTT\n",
    "....................TTTTTTTTTTT\n",
    "....................TTTTTTTT#TT\n",
    "....................TTTTTTTTTTT\n",
    "....................TTTTTTTTTTT\n",
    "....................TTTTTTTTTTT\n",
    "```\n",
    "\n",
    "In this diagram, S is the probe's initial position, 0,0. The x coordinate increases to the right, and the y coordinate increases upward. In the bottom right, positions that are within the target area are shown as T. After each step (until the target area is reached), the position of the probe is marked with #. (The bottom-right # is both a position the probe reaches and a position in the target area.)\n",
    "\n",
    "Another initial velocity that causes the probe to be within the target area after any step is 6,3:\n",
    "\n",
    "```\n",
    "...............#..#............\n",
    "...........#........#..........\n",
    "...............................\n",
    "......#..............#.........\n",
    "...............................\n",
    "...............................\n",
    "S....................#.........\n",
    "...............................\n",
    "...............................\n",
    "...............................\n",
    ".....................#.........\n",
    "....................TTTTTTTTTTT\n",
    "....................TTTTTTTTTTT\n",
    "....................TTTTTTTTTTT\n",
    "....................TTTTTTTTTTT\n",
    "....................T#TTTTTTTTT\n",
    "....................TTTTTTTTTTT\n",
    "```\n",
    "\n",
    "Another one is 9,0:\n",
    "\n",
    "```\n",
    "S........#.....................\n",
    ".................#.............\n",
    "...............................\n",
    "........................#......\n",
    "...............................\n",
    "....................TTTTTTTTTTT\n",
    "....................TTTTTTTTTT#\n",
    "....................TTTTTTTTTTT\n",
    "....................TTTTTTTTTTT\n",
    "....................TTTTTTTTTTT\n",
    "....................TTTTTTTTTTT\n",
    "```\n",
    "\n",
    "One initial velocity that doesn't cause the probe to be within the target area after any step is 17,-4:\n",
    "\n",
    "```\n",
    "S..............................................................\n",
    "...............................................................\n",
    "...............................................................\n",
    "...............................................................\n",
    ".................#.............................................\n",
    "....................TTTTTTTTTTT................................\n",
    "....................TTTTTTTTTTT................................\n",
    "....................TTTTTTTTTTT................................\n",
    "....................TTTTTTTTTTT................................\n",
    "....................TTTTTTTTTTT..#.............................\n",
    "....................TTTTTTTTTTT................................\n",
    "...............................................................\n",
    "...............................................................\n",
    "...............................................................\n",
    "...............................................................\n",
    "................................................#..............\n",
    "...............................................................\n",
    "...............................................................\n",
    "...............................................................\n",
    "...............................................................\n",
    "...............................................................\n",
    "...............................................................\n",
    "..............................................................#\n",
    "```\n",
    "\n",
    "The probe appears to pass through the target area, but is never within it after any step. Instead, it continues down and to the right - only the first few steps are shown.\n",
    "\n",
    "If you're going to fire a highly scientific probe out of a super cool probe launcher, you might as well do it with style. How high can you make the probe go while still reaching the target area?\n",
    "\n",
    "In the above example, using an initial velocity of 6,9 is the best you can do, causing the probe to reach a maximum y position of 45. (Any higher initial y velocity causes the probe to overshoot the target area entirely.)\n",
    "\n",
    "Find the initial velocity that causes the probe to reach the highest y position and still eventually be within the target area after any step. What is the highest y position it reaches on this trajectory?"
   ]
  },
  {
   "cell_type": "code",
   "execution_count": 1,
   "id": "0f2347d1-2d60-45e2-b0b9-b43b5b00297d",
   "metadata": {},
   "outputs": [],
   "source": [
    "# get input\n",
    "\n",
    "with open(\"inputs/day17.txt\") as file:\n",
    "    input_str = file.read().rstrip()\n",
    "    \n",
    "test_input_str = \"target area: x=20..30, y=-10..-5\""
   ]
  },
  {
   "cell_type": "code",
   "execution_count": 2,
   "id": "84462e99-f28c-4282-aa35-90f5e255362d",
   "metadata": {},
   "outputs": [
    {
     "data": {
      "text/plain": [
       "'target area: x=20..30, y=-10..-5'"
      ]
     },
     "execution_count": 2,
     "metadata": {},
     "output_type": "execute_result"
    }
   ],
   "source": [
    "test_input_str"
   ]
  },
  {
   "cell_type": "code",
   "execution_count": 3,
   "id": "5036d0e1-882b-4a15-ad21-aa15f47a4caa",
   "metadata": {},
   "outputs": [],
   "source": [
    "import re\n",
    "import itertools"
   ]
  },
  {
   "cell_type": "code",
   "execution_count": 4,
   "id": "56ed1054-dfb4-46f2-88a3-e58a3b094efc",
   "metadata": {},
   "outputs": [],
   "source": [
    "def get_target_area(input_str):\n",
    "    numbers = re.search(\"x=(-?\\d+)\\.\\.(-?\\d+), y=(-?\\d+)\\.\\.(-?\\d+)\", input_str)\n",
    "    return ((int(numbers.group(1)), int(numbers.group(2))), (int(numbers.group(3)), int(numbers.group(4))))"
   ]
  },
  {
   "cell_type": "code",
   "execution_count": 5,
   "id": "d4c8e40a-f394-45bb-a846-3fa64c0fdae8",
   "metadata": {},
   "outputs": [],
   "source": [
    "def step_trajectory(start_position, trajectory):\n",
    "    x_pos, y_pos = start_position\n",
    "    x_vel, y_vel = trajectory\n",
    "    x_pos += x_vel\n",
    "    y_pos += y_vel\n",
    "    if x_vel > 0:\n",
    "        x_vel -= 1\n",
    "    elif x_vel < 0:\n",
    "        x_vel += 1\n",
    "    y_vel -= 1\n",
    "    \n",
    "    return (x_pos, y_pos), (x_vel, y_vel) # new position x,y and new velocity x,y"
   ]
  },
  {
   "cell_type": "code",
   "execution_count": 6,
   "id": "eb15d941-c393-4c1f-ad2b-3cd45e9e4880",
   "metadata": {},
   "outputs": [],
   "source": [
    "def check_if_in_target_area(position, target_area):\n",
    "    ((x_min, x_max),(y_min, y_max)) = target_area\n",
    "    x_pos, y_pos = position\n",
    "    if (x_min <= x_pos <= x_max) and (y_min <= y_pos <= y_max):\n",
    "        return True\n",
    "    else:\n",
    "        return False"
   ]
  },
  {
   "cell_type": "code",
   "execution_count": 7,
   "id": "1d3e7211-4094-429f-8424-78577f8a7304",
   "metadata": {},
   "outputs": [],
   "source": [
    "def get_highest_position(positions):\n",
    "    all_heights = [p[1] for p in positions]\n",
    "    return max(all_heights)"
   ]
  },
  {
   "cell_type": "code",
   "execution_count": 8,
   "id": "dd06ce3d-3665-4e4f-a7e2-377ef93136e4",
   "metadata": {},
   "outputs": [],
   "source": [
    "def check_if_trajectory_hits_target(trajectory, target_area):\n",
    "    all_positions = []\n",
    "    target_not_reached = True\n",
    "    position = (0,0)\n",
    "    hits_target = False\n",
    "    while target_not_reached:\n",
    "        position, trajectory = step_trajectory(position, trajectory)\n",
    "        all_positions.append(position)\n",
    "        x_pos, y_pos = position\n",
    "        ((x_min, x_max),(y_min, y_max)) = target_area\n",
    "        if check_if_in_target_area(position, target_area):\n",
    "            hits_target = True\n",
    "        if (x_pos > x_max) or (y_pos < y_min):\n",
    "            target_not_reached = False\n",
    "    max_height = get_highest_position(all_positions)\n",
    "    return hits_target, max_height"
   ]
  },
  {
   "cell_type": "code",
   "execution_count": 9,
   "id": "55ffc677-d07f-4e54-be89-243a22929a14",
   "metadata": {},
   "outputs": [],
   "source": [
    "test_target = get_target_area(test_input_str)\n",
    "test_traj1 = (7,2)\n",
    "test_traj2 = (6,3)\n",
    "test_traj3 = (9,0)\n",
    "test_traj4 = (17,-4)"
   ]
  },
  {
   "cell_type": "code",
   "execution_count": 10,
   "id": "e9d5c129-84ea-42e4-929e-325b8bf30054",
   "metadata": {},
   "outputs": [
    {
     "data": {
      "text/plain": [
       "(False, -4)"
      ]
     },
     "execution_count": 10,
     "metadata": {},
     "output_type": "execute_result"
    }
   ],
   "source": [
    "check_if_trajectory_hits_target(test_traj4, test_target)"
   ]
  },
  {
   "cell_type": "code",
   "execution_count": 11,
   "id": "cd5d7155-ee62-4ec4-9740-a60d2e72428f",
   "metadata": {},
   "outputs": [],
   "source": [
    "def generate_all_trajectories(x_max, y_min, y_max):\n",
    "    x_vels = [x for x in range(x_max+1)]\n",
    "    y_vels = [x for x in range(y_min, y_max+1)]\n",
    "    return list(itertools.product(x_vels, y_vels))"
   ]
  },
  {
   "cell_type": "code",
   "execution_count": 12,
   "id": "7a56885f-9279-410b-992a-4d69ecf21597",
   "metadata": {},
   "outputs": [],
   "source": [
    "def choose_best_trajectory(target_area):\n",
    "    max_height = 0\n",
    "    best_traj = (0,0)\n",
    "    ((x_min, x_max),(y_min, y_max)) = target_area\n",
    "    all_trajectories = generate_all_trajectories(x_max, -(abs(y_min)), abs(y_min))\n",
    "    for t in all_trajectories:\n",
    "        hits, height = check_if_trajectory_hits_target(t, target_area)\n",
    "        if hits:\n",
    "            if height > max_height:\n",
    "                max_height = height\n",
    "                best_traj = t\n",
    "    return max_height, best_traj"
   ]
  },
  {
   "cell_type": "code",
   "execution_count": 13,
   "id": "4f320588-4f52-40b5-8130-e36f4e64d0eb",
   "metadata": {},
   "outputs": [
    {
     "data": {
      "text/plain": [
       "(45, (6, 9))"
      ]
     },
     "execution_count": 13,
     "metadata": {},
     "output_type": "execute_result"
    }
   ],
   "source": [
    "choose_best_trajectory(test_target)"
   ]
  },
  {
   "cell_type": "code",
   "execution_count": 14,
   "id": "214a5729-ffff-431c-b11f-5c7cff49a3da",
   "metadata": {},
   "outputs": [
    {
     "data": {
      "text/plain": [
       "(6903, (22, 117))"
      ]
     },
     "execution_count": 14,
     "metadata": {},
     "output_type": "execute_result"
    }
   ],
   "source": [
    "target = get_target_area(input_str)\n",
    "choose_best_trajectory(target)"
   ]
  },
  {
   "cell_type": "markdown",
   "id": "6f112109-0212-43b0-8e9f-916a19e5c39a",
   "metadata": {},
   "source": [
    "### Part 1 Solution\n",
    "\n",
    "6903 - CORRECT!"
   ]
  },
  {
   "cell_type": "markdown",
   "id": "0037889e-066f-44bb-b24c-fd15b4c3ee39",
   "metadata": {},
   "source": [
    "--- Part Two ---\n",
    "\n",
    "Maybe a fancy trick shot isn't the best idea; after all, you only have one probe, so you had better not miss.\n",
    "\n",
    "To get the best idea of what your options are for launching the probe, you need to find every initial velocity that causes the probe to eventually be within the target area after any step.\n",
    "\n",
    "In the above example, there are 112 different initial velocity values that meet these criteria:\n",
    "\n",
    "```\n",
    "23,-10  25,-9   27,-5   29,-6   22,-6   21,-7   9,0     27,-7   24,-5\n",
    "25,-7   26,-6   25,-5   6,8     11,-2   20,-5   29,-10  6,3     28,-7\n",
    "8,0     30,-6   29,-8   20,-10  6,7     6,4     6,1     14,-4   21,-6\n",
    "26,-10  7,-1    7,7     8,-1    21,-9   6,2     20,-7   30,-10  14,-3\n",
    "20,-8   13,-2   7,3     28,-8   29,-9   15,-3   22,-5   26,-8   25,-8\n",
    "25,-6   15,-4   9,-2    15,-2   12,-2   28,-9   12,-3   24,-6   23,-7\n",
    "25,-10  7,8     11,-3   26,-7   7,1     23,-9   6,0     22,-10  27,-6\n",
    "8,1     22,-8   13,-4   7,6     28,-6   11,-4   12,-4   26,-9   7,4\n",
    "24,-10  23,-8   30,-8   7,0     9,-1    10,-1   26,-5   22,-9   6,5\n",
    "7,5     23,-6   28,-10  10,-2   11,-1   20,-9   14,-2   29,-7   13,-3\n",
    "23,-5   24,-8   27,-9   30,-7   28,-5   21,-10  7,9     6,6     21,-5\n",
    "27,-10  7,2     30,-9   21,-8   22,-7   24,-9   20,-6   6,9     29,-5\n",
    "8,-2    27,-8   30,-5   24,-7\n",
    "```\n",
    "test_target\n",
    "How many distinct initial velocity values cause the probe to be within the target area after any step?"
   ]
  },
  {
   "cell_type": "code",
   "execution_count": 15,
   "id": "2505ab91-72f6-4e23-93b1-4fc6f2ec722e",
   "metadata": {},
   "outputs": [],
   "source": [
    "def generate_all_trajectories(x_max, y_min, y_max):\n",
    "    x_vels = [x for x in range(x_max+1)]\n",
    "    y_vels = [x for x in range(y_min, y_max+1)]\n",
    "    return list(itertools.product(x_vels, y_vels))"
   ]
  },
  {
   "cell_type": "code",
   "execution_count": 16,
   "id": "e5f52774-6049-4890-9c8d-a52da2e07e06",
   "metadata": {},
   "outputs": [],
   "source": [
    "def get_valid_trajectories(target_area):\n",
    "    valid_trajectories = []\n",
    "    ((x_min, x_max),(y_min, y_max)) = target_area\n",
    "    all_trajectories = generate_all_trajectories(x_max, -(abs(y_min)), abs(y_min))\n",
    "    for t in all_trajectories:\n",
    "        hits, height = check_if_trajectory_hits_target(t, target_area)\n",
    "        if hits:\n",
    "            valid_trajectories.append(t)\n",
    "    return valid_trajectories"
   ]
  },
  {
   "cell_type": "code",
   "execution_count": 17,
   "id": "f9b4d5ec-89a9-4abe-9b54-9c0f03473866",
   "metadata": {},
   "outputs": [
    {
     "data": {
      "text/plain": [
       "112"
      ]
     },
     "execution_count": 17,
     "metadata": {},
     "output_type": "execute_result"
    }
   ],
   "source": [
    "test_valid_traj = get_valid_trajectories(test_target)\n",
    "len(test_valid_traj)"
   ]
  },
  {
   "cell_type": "code",
   "execution_count": 19,
   "id": "ee2f2c76-ae28-4752-b303-72683e883a29",
   "metadata": {},
   "outputs": [
    {
     "data": {
      "text/plain": [
       "2351"
      ]
     },
     "execution_count": 19,
     "metadata": {},
     "output_type": "execute_result"
    }
   ],
   "source": [
    "valid_traj = get_valid_trajectories(target)\n",
    "len(valid_traj)"
   ]
  },
  {
   "cell_type": "markdown",
   "id": "570f6493-77b4-4c77-8670-ac8ef3be4fed",
   "metadata": {},
   "source": [
    "### Part 2 Solution\n",
    "\n",
    "2351 - CORRECT!"
   ]
  },
  {
   "cell_type": "code",
   "execution_count": null,
   "id": "b92eb357-2061-47b7-9f8e-26a355d763c9",
   "metadata": {},
   "outputs": [],
   "source": []
  }
 ],
 "metadata": {
  "kernelspec": {
   "display_name": "Python 3",
   "language": "python",
   "name": "python3"
  },
  "language_info": {
   "codemirror_mode": {
    "name": "ipython",
    "version": 3
   },
   "file_extension": ".py",
   "mimetype": "text/x-python",
   "name": "python",
   "nbconvert_exporter": "python",
   "pygments_lexer": "ipython3",
   "version": "3.8.8"
  }
 },
 "nbformat": 4,
 "nbformat_minor": 5
}
