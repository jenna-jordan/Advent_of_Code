{
 "cells": [
  {
   "cell_type": "markdown",
   "id": "7471d167-c3a7-4caf-b9d9-8b48872df8f6",
   "metadata": {},
   "source": [
    "# AoC Day 5\n",
    "\n",
    "Jenna Jordan\n",
    "\n",
    "5 December 2021\n",
    "\n",
    "## Prompt\n",
    "\n",
    "--- Day 5: Hydrothermal Venture ---\n",
    "\n",
    "You come across a field of hydrothermal vents on the ocean floor! These vents constantly produce large, opaque clouds, so it would be best to avoid them if possible.\n",
    "\n",
    "They tend to form in lines; the submarine helpfully produces a list of nearby lines of vents (your puzzle input) for you to review. For example:\n",
    "\n",
    "```\n",
    "0,9 -> 5,9\n",
    "8,0 -> 0,8\n",
    "9,4 -> 3,4\n",
    "2,2 -> 2,1\n",
    "7,0 -> 7,4\n",
    "6,4 -> 2,0\n",
    "0,9 -> 2,9\n",
    "3,4 -> 1,4\n",
    "0,0 -> 8,8\n",
    "5,5 -> 8,2\n",
    "```\n",
    "\n",
    "Each line of vents is given as a line segment in the format x1,y1 -> x2,y2 where x1,y1 are the coordinates of one end the line segment and x2,y2 are the coordinates of the other end. These line segments include the points at both ends. In other words:\n",
    "\n",
    "An entry like 1,1 -> 1,3 covers points 1,1, 1,2, and 1,3.\n",
    "An entry like 9,7 -> 7,7 covers points 9,7, 8,7, and 7,7.\n",
    "For now, only consider horizontal and vertical lines: lines where either x1 = x2 or y1 = y2.\n",
    "\n",
    "So, the horizontal and vertical lines from the above list would produce the following diagram:\n",
    "\n",
    "```\n",
    ".......1..\n",
    "..1....1..\n",
    "..1....1..\n",
    ".......1..\n",
    ".112111211\n",
    "..........\n",
    "..........\n",
    "..........\n",
    "..........\n",
    "222111....\n",
    "```\n",
    "\n",
    "In this diagram, the top left corner is 0,0 and the bottom right corner is 9,9. Each position is shown as the number of lines which cover that point or . if no line covers that point. The top-left pair of 1s, for example, comes from 2,2 -> 2,1; the very bottom row is formed by the overlapping lines 0,9 -> 5,9 and 0,9 -> 2,9.\n",
    "\n",
    "To avoid the most dangerous areas, you need to determine the number of points where at least two lines overlap. In the above example, this is anywhere in the diagram with a 2 or larger - a total of 5 points.\n",
    "\n",
    "Consider only horizontal and vertical lines. At how many points do at least two lines overlap?"
   ]
  },
  {
   "cell_type": "code",
   "execution_count": 1,
   "id": "70297d09-951c-48f5-a2e7-aaf9d1110535",
   "metadata": {},
   "outputs": [],
   "source": [
    "import copy"
   ]
  },
  {
   "cell_type": "code",
   "execution_count": 2,
   "id": "7499d566-f904-4a47-a29c-7a93ee9f6121",
   "metadata": {},
   "outputs": [],
   "source": [
    "# get input\n",
    "\n",
    "with open(\"inputs/day5.txt\") as file:\n",
    "    inputs = file.read().splitlines()"
   ]
  },
  {
   "cell_type": "markdown",
   "id": "47bfdde8-709a-4275-a146-101930b0acbf",
   "metadata": {},
   "source": [
    "#### create functions"
   ]
  },
  {
   "cell_type": "code",
   "execution_count": 3,
   "id": "21b0f49f-415e-4561-93c6-13cdea9459ee",
   "metadata": {},
   "outputs": [],
   "source": [
    "def get_coordinates(inputs, drop_diagonals = True):\n",
    "    coordinates = []\n",
    "    for i in inputs:\n",
    "        coords = i.split(\" -> \")\n",
    "        coords1 = tuple([int(x) for x in coords[0].split(\",\")])\n",
    "        coords2 = tuple([int(x) for x in coords[1].split(\",\")])\n",
    "        if drop_diagonals:\n",
    "            x1, y1 = coords1\n",
    "            x2, y2 = coords2\n",
    "            if (x1 == x2) or (y1 == y2):\n",
    "                coordinates.append((coords1, coords2))\n",
    "        else:\n",
    "            coordinates.append((coords1, coords2))\n",
    "    return coordinates"
   ]
  },
  {
   "cell_type": "code",
   "execution_count": 4,
   "id": "f70e3f22-48c0-446a-925c-eb7576e83a89",
   "metadata": {},
   "outputs": [],
   "source": [
    "def create_grid(x, y):\n",
    "    grid = [[0] * x for i in range(y)]\n",
    "    return grid"
   ]
  },
  {
   "cell_type": "code",
   "execution_count": 5,
   "id": "8f8aa6a6-b464-4eb3-ad09-74774be9d699",
   "metadata": {},
   "outputs": [],
   "source": [
    "def mark_grid_horizontal_vertical(grid_input, coordinates):\n",
    "    grid = copy.deepcopy(grid_input)\n",
    "    for c in coordinates:\n",
    "        (x1,y1),(x2,y2) = c\n",
    "        # draw horizontal line\n",
    "        if y1 == y2:\n",
    "            if x2 > x1:\n",
    "                for i in range(x1,x2+1):\n",
    "                    grid[y1][i] += 1\n",
    "            else:\n",
    "                for i in range(x2,x1+1):\n",
    "                    grid[y1][i] += 1  \n",
    "        # draw vertical line\n",
    "        elif x1 == x2:\n",
    "            if y2 > y1:\n",
    "                for i in range(y1,y2+1):\n",
    "                    grid[i][x1] += 1\n",
    "            else:\n",
    "                for i in range(y2,y1+1):\n",
    "                    grid[i][x1] += 1   \n",
    "    return grid"
   ]
  },
  {
   "cell_type": "code",
   "execution_count": 6,
   "id": "694f8a96-17de-4a42-979b-1fbcfd1ca16b",
   "metadata": {},
   "outputs": [],
   "source": [
    "def count_dangerous_areas(grid, threshold=2):\n",
    "    danger_count = 0\n",
    "    for row in grid:\n",
    "        for spot in row:\n",
    "            if spot >= threshold:\n",
    "                danger_count += 1\n",
    "    return danger_count"
   ]
  },
  {
   "cell_type": "markdown",
   "id": "449dd877-2853-4b2c-ab6b-828a5d429cbb",
   "metadata": {},
   "source": [
    "#### Part 1 Tests"
   ]
  },
  {
   "cell_type": "code",
   "execution_count": 7,
   "id": "0859e05c-281b-4424-9939-6b37a252895b",
   "metadata": {},
   "outputs": [],
   "source": [
    "test_inputs = [\"0,9 -> 5,9\", \"8,0 -> 0,8\", \"9,4 -> 3,4\", \"2,2 -> 2,1\", \"7,0 -> 7,4\", \"6,4 -> 2,0\", \"0,9 -> 2,9\", \"3,4 -> 1,4\", \"0,0 -> 8,8\", \"5,5 -> 8,2\"]"
   ]
  },
  {
   "cell_type": "code",
   "execution_count": 8,
   "id": "5ac83f82-0ff4-4837-8516-c8c7f8f2e361",
   "metadata": {},
   "outputs": [],
   "source": [
    "test_coordinates = get_coordinates(test_inputs, drop_diagonals = True)"
   ]
  },
  {
   "cell_type": "code",
   "execution_count": 9,
   "id": "3cbece0b-957f-460f-b35d-ffee3d1f34ca",
   "metadata": {},
   "outputs": [],
   "source": [
    "test_grid = create_grid(10,10)"
   ]
  },
  {
   "cell_type": "code",
   "execution_count": 10,
   "id": "34b4b8c6-fe38-4cda-8a52-3505a8259d0d",
   "metadata": {},
   "outputs": [
    {
     "name": "stdout",
     "output_type": "stream",
     "text": [
      "[((0, 9), (5, 9)), ((9, 4), (3, 4)), ((2, 2), (2, 1)), ((7, 0), (7, 4)), ((0, 9), (2, 9)), ((3, 4), (1, 4))]\n"
     ]
    },
    {
     "data": {
      "text/plain": [
       "[[0, 0, 0, 0, 0, 0, 0, 1, 0, 0],\n",
       " [0, 0, 1, 0, 0, 0, 0, 1, 0, 0],\n",
       " [0, 0, 1, 0, 0, 0, 0, 1, 0, 0],\n",
       " [0, 0, 0, 0, 0, 0, 0, 1, 0, 0],\n",
       " [0, 1, 1, 2, 1, 1, 1, 2, 1, 1],\n",
       " [0, 0, 0, 0, 0, 0, 0, 0, 0, 0],\n",
       " [0, 0, 0, 0, 0, 0, 0, 0, 0, 0],\n",
       " [0, 0, 0, 0, 0, 0, 0, 0, 0, 0],\n",
       " [0, 0, 0, 0, 0, 0, 0, 0, 0, 0],\n",
       " [2, 2, 2, 1, 1, 1, 0, 0, 0, 0]]"
      ]
     },
     "metadata": {},
     "output_type": "display_data"
    }
   ],
   "source": [
    "marked_test_grid = mark_grid_horizontal_vertical(test_grid, test_coordinates)\n",
    "print(test_coordinates)\n",
    "display(marked_test_grid)"
   ]
  },
  {
   "cell_type": "markdown",
   "id": "7c6b4388-f5b1-437f-9725-df9df486fb72",
   "metadata": {},
   "source": [
    "```\n",
    ".......1..\n",
    "..1....1..\n",
    "..1....1..\n",
    ".......1..\n",
    ".112111211\n",
    "..........\n",
    "..........\n",
    "..........\n",
    "..........\n",
    "222111....\n",
    "```"
   ]
  },
  {
   "cell_type": "code",
   "execution_count": 11,
   "id": "f207b1dc-c337-400d-acfb-e98980513e14",
   "metadata": {},
   "outputs": [
    {
     "data": {
      "text/plain": [
       "5"
      ]
     },
     "execution_count": 11,
     "metadata": {},
     "output_type": "execute_result"
    }
   ],
   "source": [
    "count_dangerous_areas(marked_test_grid)"
   ]
  },
  {
   "cell_type": "markdown",
   "id": "c592ba57-03b0-4fd5-b59d-5977ccf1c75f",
   "metadata": {},
   "source": [
    "#### Part 1 with real inputs"
   ]
  },
  {
   "cell_type": "code",
   "execution_count": 12,
   "id": "35cbcab0-0523-49a0-89f3-11665c7d5f03",
   "metadata": {},
   "outputs": [],
   "source": [
    "coordinates_part1 = get_coordinates(inputs, drop_diagonals = True)"
   ]
  },
  {
   "cell_type": "code",
   "execution_count": 13,
   "id": "95d2cc49-ed2c-45e1-92b0-2673dfc372fc",
   "metadata": {},
   "outputs": [
    {
     "name": "stdout",
     "output_type": "stream",
     "text": [
      "11 985\n",
      "10 989\n"
     ]
    }
   ],
   "source": [
    "all_x = []\n",
    "all_y = []\n",
    "for coord in coordinates_part1:\n",
    "    c1, c2 = coord\n",
    "    x1, y1 = c1\n",
    "    x2, y2 = c2\n",
    "    all_x.append(x1)\n",
    "    all_x.append(x2)\n",
    "    all_y.append(y1)\n",
    "    all_y.append(y2)\n",
    "x_min = min(all_x)\n",
    "x_max = max(all_x)\n",
    "y_min = min(all_y)\n",
    "y_max = max(all_y)\n",
    "print(x_min, x_max)\n",
    "print(y_min, y_max)\n",
    "# just checking, but I want my grid to be 0 x 999"
   ]
  },
  {
   "cell_type": "code",
   "execution_count": 14,
   "id": "4a9a620f-d46a-41c9-ae31-d04a7372812f",
   "metadata": {},
   "outputs": [],
   "source": [
    "grid = create_grid(1000,1000)"
   ]
  },
  {
   "cell_type": "code",
   "execution_count": 15,
   "id": "c2934be3-24ac-43eb-84f8-507e7084175c",
   "metadata": {},
   "outputs": [],
   "source": [
    "marked_grid_part1 = mark_grid_horizontal_vertical(grid, coordinates_part1)"
   ]
  },
  {
   "cell_type": "code",
   "execution_count": 16,
   "id": "65975135-7aa9-4430-a881-fb4546480c51",
   "metadata": {},
   "outputs": [
    {
     "data": {
      "text/plain": [
       "8111"
      ]
     },
     "execution_count": 16,
     "metadata": {},
     "output_type": "execute_result"
    }
   ],
   "source": [
    "count_dangerous_areas(marked_grid_part1)"
   ]
  },
  {
   "cell_type": "markdown",
   "id": "cd98211c-6eeb-4e95-8c8d-353821f5bb9e",
   "metadata": {},
   "source": [
    "### Part 1 Solution\n",
    "\n",
    "8111 - CORRECT!\n",
    "\n",
    "I made a very silly mistake at first and got an answer of 0 because I kept a test limiter of first 10 elements in a function... d'oh"
   ]
  },
  {
   "cell_type": "markdown",
   "id": "210c9ce3-a452-4efd-bd3f-200813854187",
   "metadata": {},
   "source": [
    "--- Part Two ---\n",
    "\n",
    "Unfortunately, considering only horizontal and vertical lines doesn't give you the full picture; you need to also consider diagonal lines.\n",
    "\n",
    "Because of the limits of the hydrothermal vent mapping system, the lines in your list will only ever be horizontal, vertical, or a diagonal line at exactly 45 degrees. In other words:\n",
    "\n",
    "An entry like 1,1 -> 3,3 covers points 1,1, 2,2, and 3,3.\n",
    "An entry like 9,7 -> 7,9 covers points 9,7, 8,8, and 7,9.\n",
    "\n",
    "```\n",
    "0,9 -> 5,9\n",
    "8,0 -> 0,8\n",
    "9,4 -> 3,4\n",
    "2,2 -> 2,1\n",
    "7,0 -> 7,4\n",
    "6,4 -> 2,0\n",
    "0,9 -> 2,9\n",
    "3,4 -> 1,4\n",
    "0,0 -> 8,8\n",
    "5,5 -> 8,2\n",
    "```\n",
    "\n",
    "Considering all lines from the above example would now produce the following diagram:\n",
    "\n",
    "```\n",
    "1.1....11.\n",
    ".111...2..\n",
    "..2.1.111.\n",
    "...1.2.2..\n",
    ".112313211\n",
    "...1.2....\n",
    "..1...1...\n",
    ".1.....1..\n",
    "1.......1.\n",
    "222111....\n",
    "```\n",
    "\n",
    "You still need to determine the number of points where at least two lines overlap. In the above example, this is still anywhere in the diagram with a 2 or larger - now a total of 12 points.\n",
    "\n",
    "Consider all of the lines. At how many points do at least two lines overlap?"
   ]
  },
  {
   "cell_type": "code",
   "execution_count": 17,
   "id": "2514bcb6-ddda-4f1d-ba0f-29df9c9bc507",
   "metadata": {},
   "outputs": [],
   "source": [
    "def mark_grid_diagonal(grid_input, coordinates):\n",
    "    grid = copy.deepcopy(grid_input)\n",
    "    for c in coordinates:\n",
    "        (x1,y1),(x2,y2) = c\n",
    "        # draw diagonal line\n",
    "        if (y1 != y2) and (x1 != x2):\n",
    "            # if right down direction\n",
    "            if (x2 > x1) and (y2 > y1):\n",
    "                distance = (x2 - x1) + 1\n",
    "                for i in range(distance):\n",
    "                    grid[y1+i][x1+i] += 1\n",
    "            # if left down direction\n",
    "            elif (x1 > x2) and (y2 > y1):\n",
    "                distance = (x1 - x2) + 1\n",
    "                for i in range(distance):\n",
    "                    grid[y1+i][x1-i] += 1\n",
    "            # if right up direction\n",
    "            elif (x2 > x1) and (y1 > y2):\n",
    "                distance = (x2 - x1) + 1\n",
    "                for i in range(distance):\n",
    "                    grid[y1-i][x1+i] += 1\n",
    "            # if left up direction\n",
    "            elif (x1 > x2) and (y1 > y2):\n",
    "                distance = (x1 - x2) + 1\n",
    "                for i in range(distance):\n",
    "                    grid[y1-i][x1-i] += 1\n",
    "    return grid"
   ]
  },
  {
   "cell_type": "markdown",
   "id": "cfa00539-bbb3-4137-9109-9c81e7c72ad4",
   "metadata": {},
   "source": [
    "#### part 2 tests"
   ]
  },
  {
   "cell_type": "code",
   "execution_count": 18,
   "id": "6c4771f2-a497-4da2-a664-dbd2e23d95d5",
   "metadata": {},
   "outputs": [],
   "source": [
    "test_coordinates = get_coordinates(test_inputs, drop_diagonals = False)"
   ]
  },
  {
   "cell_type": "code",
   "execution_count": 19,
   "id": "564196f4-fa66-44af-9d85-ec0eb505c88f",
   "metadata": {},
   "outputs": [],
   "source": [
    "marked_test_grid1 = mark_grid_horizontal_vertical(test_grid, test_coordinates)\n",
    "marked_test_grid2 = mark_grid_diagonal(marked_test_grid1, test_coordinates)"
   ]
  },
  {
   "cell_type": "code",
   "execution_count": 20,
   "id": "8da4204e-1aec-4a8e-a786-77af176f9053",
   "metadata": {},
   "outputs": [
    {
     "data": {
      "text/plain": [
       "[[1, 0, 1, 0, 0, 0, 0, 1, 1, 0],\n",
       " [0, 1, 1, 1, 0, 0, 0, 2, 0, 0],\n",
       " [0, 0, 2, 0, 1, 0, 1, 1, 1, 0],\n",
       " [0, 0, 0, 1, 0, 2, 0, 2, 0, 0],\n",
       " [0, 1, 1, 2, 3, 1, 3, 2, 1, 1],\n",
       " [0, 0, 0, 1, 0, 2, 0, 0, 0, 0],\n",
       " [0, 0, 1, 0, 0, 0, 1, 0, 0, 0],\n",
       " [0, 1, 0, 0, 0, 0, 0, 1, 0, 0],\n",
       " [1, 0, 0, 0, 0, 0, 0, 0, 1, 0],\n",
       " [2, 2, 2, 1, 1, 1, 0, 0, 0, 0]]"
      ]
     },
     "metadata": {},
     "output_type": "display_data"
    }
   ],
   "source": [
    "display(marked_test_grid2)"
   ]
  },
  {
   "cell_type": "markdown",
   "id": "3358d375-55a6-427b-84f1-c30f8361d111",
   "metadata": {},
   "source": [
    "\n",
    "```\n",
    "1.1....11.\n",
    ".111...2..\n",
    "..2.1.111.\n",
    "...1.2.2..\n",
    ".112313211\n",
    "...1.2....\n",
    "..1...1...\n",
    ".1.....1..\n",
    "1.......1.\n",
    "222111....\n",
    "```"
   ]
  },
  {
   "cell_type": "markdown",
   "id": "05c66107-32e7-48eb-944f-a115e19d8298",
   "metadata": {},
   "source": [
    "### part 2 real thing"
   ]
  },
  {
   "cell_type": "code",
   "execution_count": 21,
   "id": "66f7e9f5-6142-4abb-8068-4dcb18a43d8b",
   "metadata": {},
   "outputs": [],
   "source": [
    "coordinates_part2 = get_coordinates(inputs, drop_diagonals = False)"
   ]
  },
  {
   "cell_type": "code",
   "execution_count": 22,
   "id": "7334bde8-9377-4949-af0d-bab4a2489cfc",
   "metadata": {},
   "outputs": [],
   "source": [
    "marked_grid1_part2 = mark_grid_horizontal_vertical(grid, coordinates_part2)\n",
    "marked_grid2_part2 = mark_grid_diagonal(marked_grid1_part2, coordinates_part2)"
   ]
  },
  {
   "cell_type": "code",
   "execution_count": 23,
   "id": "9c5300bc-c108-4fd6-8157-28b90bdf3839",
   "metadata": {},
   "outputs": [
    {
     "data": {
      "text/plain": [
       "22088"
      ]
     },
     "execution_count": 23,
     "metadata": {},
     "output_type": "execute_result"
    }
   ],
   "source": [
    "count_dangerous_areas(marked_grid2_part2)"
   ]
  },
  {
   "cell_type": "markdown",
   "id": "8e5dcf14-714c-4fa5-a455-628686c4b8a2",
   "metadata": {},
   "source": [
    "### Part 2 Solution\n",
    "\n",
    "22088 - CORRECT"
   ]
  },
  {
   "cell_type": "code",
   "execution_count": null,
   "id": "7eddd664-36e0-4efa-9eff-51c7db7bf77e",
   "metadata": {},
   "outputs": [],
   "source": []
  }
 ],
 "metadata": {
  "kernelspec": {
   "display_name": "Python 3",
   "language": "python",
   "name": "python3"
  },
  "language_info": {
   "codemirror_mode": {
    "name": "ipython",
    "version": 3
   },
   "file_extension": ".py",
   "mimetype": "text/x-python",
   "name": "python",
   "nbconvert_exporter": "python",
   "pygments_lexer": "ipython3",
   "version": "3.8.8"
  }
 },
 "nbformat": 4,
 "nbformat_minor": 5
}
