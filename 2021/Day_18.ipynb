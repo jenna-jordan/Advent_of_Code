{
 "cells": [
  {
   "cell_type": "markdown",
   "id": "96dc4a01-28b9-4875-8385-e0eb83ad25b2",
   "metadata": {},
   "source": [
    "# AoC Day 18\n",
    "\n",
    "Jenna Jordan\n",
    "\n",
    "20 December 2021\n",
    "\n",
    "## Prompt\n",
    "\n",
    "--- Day 18: Snailfish ---\n",
    "\n",
    "You descend into the ocean trench and encounter some snailfish. They say they saw the sleigh keys! They'll even tell you which direction the keys went if you help one of the smaller snailfish with his math homework.\n",
    "\n",
    "Snailfish numbers aren't like regular numbers. Instead, every snailfish number is a pair - an ordered list of two elements. Each element of the pair can be either a regular number or another pair.\n",
    "\n",
    "Pairs are written as `[x,y]`, where x and y are the elements within the pair. Here are some example snailfish numbers, one snailfish number per line:\n",
    "\n",
    "```\n",
    "[1,2]\n",
    "[[1,2],3]\n",
    "[9,[8,7]]\n",
    "[[1,9],[8,5]]\n",
    "[[[[1,2],[3,4]],[[5,6],[7,8]]],9]\n",
    "[[[9,[3,8]],[[0,9],6]],[[[3,7],[4,9]],3]]\n",
    "[[[[1,3],[5,3]],[[1,3],[8,7]]],[[[4,9],[6,9]],[[8,2],[7,3]]]]\n",
    "```\n",
    "\n",
    "This snailfish homework is about addition. To add two snailfish numbers, form a pair from the left and right parameters of the addition operator. For example, `[1,2]` + `[[3,4],5]` becomes `[[1,2],[[3,4],5]]`.\n",
    "\n",
    "There's only one problem: snailfish numbers must always be reduced, and the process of adding two snailfish numbers can result in snailfish numbers that need to be reduced.\n",
    "\n",
    "To reduce a snailfish number, you must repeatedly do the first action in this list that applies to the snailfish number:\n",
    "\n",
    "- If any pair is nested inside four pairs, the leftmost such pair explodes.\n",
    "- If any regular number is 10 or greater, the leftmost such regular number splits.\n",
    "\n",
    "Once no action in the above list applies, the snailfish number is reduced.\n",
    "\n",
    "During reduction, at most one action applies, after which the process returns to the top of the list of actions. For example, if split produces a pair that meets the explode criteria, that pair explodes before other splits occur.\n",
    "\n",
    "To explode a pair, the pair's left value is added to the first regular number to the left of the exploding pair (if any), and the pair's right value is added to the first regular number to the right of the exploding pair (if any). Exploding pairs will always consist of two regular numbers. Then, the entire exploding pair is replaced with the regular number 0.\n",
    "\n",
    "Here are some examples of a single explode action:\n",
    "\n",
    "- `[[[[[9,8],1],2],3],4]` becomes `[[[[0,9],2],3],4]` (the 9 has no regular number to its left, so it is not added to any regular number).\n",
    "- `[7,[6,[5,[4,[3,2]]]]]` becomes `[7,[6,[5,[7,0]]]]` (the 2 has no regular number to its right, and so it is not added to any regular number).\n",
    "- `[[6,[5,[4,[3,2]]]],1]` becomes `[[6,[5,[7,0]]],3]`.\n",
    "- `[[3,[2,[1,[7,3]]]],[6,[5,[4,[3,2]]]]]` becomes `[[3,[2,[8,0]]],[9,[5,[4,[3,2]]]]]` (the pair `[3,2]` is unaffected because the pair `[7,3]` is further to the left; `[3,2]` would explode on the next action).\n",
    "- `[[3,[2,[8,0]]],[9,[5,[4,[3,2]]]]]` becomes `[[3,[2,[8,0]]],[9,[5,[7,0]]]]`.\n",
    "\n",
    "To split a regular number, replace it with a pair; the left element of the pair should be the regular number divided by two and rounded down, while the right element of the pair should be the regular number divided by two and rounded up. For example, 10 becomes `[5,5]`, 11 becomes `[5,6]`, 12 becomes `[6,6]`, and so on.\n",
    "\n",
    "Here is the process of finding the reduced result of `[[[[4,3],4],4],[7,[[8,4],9]]]` + `[1,1]`:\n",
    "\n",
    "- after addition: `[[[[[4,3],4],4],[7,[[8,4],9]]],[1,1]]`\n",
    "- after explode:  `[[[[0,7],4],[7,[[8,4],9]]],[1,1]]`\n",
    "- after explode:  `[[[[0,7],4],[15,[0,13]]],[1,1]]`\n",
    "- after split:    `[[[[0,7],4],[[7,8],[0,13]]],[1,1]]`\n",
    "- after split:    `[[[[0,7],4],[[7,8],[0,[6,7]]]],[1,1]]`\n",
    "- after explode:  `[[[[0,7],4],[[7,8],[6,0]]],[8,1]]`\n",
    "\n",
    "Once no reduce actions apply, the snailfish number that remains is the actual result of the addition operation: `[[[[0,7],4],[[7,8],[6,0]]],[8,1]]`.\n",
    "\n",
    "The homework assignment involves adding up a list of snailfish numbers (your puzzle input). The snailfish numbers are each listed on a separate line. Add the first snailfish number and the second, then add that result and the third, then add that result and the fourth, and so on until all numbers in the list have been used once.\n",
    "\n",
    "For example, the final sum of this list is `[[[[1,1],[2,2]],[3,3]],[4,4]]`:\n",
    "\n",
    "```\n",
    "[1,1]\n",
    "[2,2]\n",
    "[3,3]\n",
    "[4,4]\n",
    "```\n",
    "\n",
    "The final sum of this list is `[[[[3,0],[5,3]],[4,4]],[5,5]]`:\n",
    "\n",
    "```\n",
    "[1,1]\n",
    "[2,2]\n",
    "[3,3]\n",
    "[4,4]\n",
    "[5,5]\n",
    "```\n",
    "\n",
    "The final sum of this list is `[[[[5,0],[7,4]],[5,5]],[6,6]]`:\n",
    "\n",
    "```\n",
    "[1,1]\n",
    "[2,2]\n",
    "[3,3]\n",
    "[4,4]\n",
    "[5,5]\n",
    "[6,6]\n",
    "```\n",
    "\n",
    "Here's a slightly larger example:\n",
    "\n",
    "```\n",
    "[[[0,[4,5]],[0,0]],[[[4,5],[2,6]],[9,5]]]\n",
    "[7,[[[3,7],[4,3]],[[6,3],[8,8]]]]\n",
    "[[2,[[0,8],[3,4]]],[[[6,7],1],[7,[1,6]]]]\n",
    "[[[[2,4],7],[6,[0,5]]],[[[6,8],[2,8]],[[2,1],[4,5]]]]\n",
    "[7,[5,[[3,8],[1,4]]]]\n",
    "[[2,[2,2]],[8,[8,1]]]\n",
    "[2,9]\n",
    "[1,[[[9,3],9],[[9,0],[0,7]]]]\n",
    "[[[5,[7,4]],7],1]\n",
    "[[[[4,2],2],6],[8,7]]\n",
    "```\n",
    "\n",
    "The final sum `[[[[8,7],[7,7]],[[8,6],[7,7]]],[[[0,7],[6,6]],[8,7]]]` is found after adding up the above snailfish numbers:\n",
    "\n",
    "```\n",
    "  [[[0,[4,5]],[0,0]],[[[4,5],[2,6]],[9,5]]]\n",
    "+ [7,[[[3,7],[4,3]],[[6,3],[8,8]]]]\n",
    "= [[[[4,0],[5,4]],[[7,7],[6,0]]],[[8,[7,7]],[[7,9],[5,0]]]]\n",
    "\n",
    "  [[[[4,0],[5,4]],[[7,7],[6,0]]],[[8,[7,7]],[[7,9],[5,0]]]]\n",
    "+ [[2,[[0,8],[3,4]]],[[[6,7],1],[7,[1,6]]]]\n",
    "= [[[[6,7],[6,7]],[[7,7],[0,7]]],[[[8,7],[7,7]],[[8,8],[8,0]]]]\n",
    "\n",
    "  [[[[6,7],[6,7]],[[7,7],[0,7]]],[[[8,7],[7,7]],[[8,8],[8,0]]]]\n",
    "+ [[[[2,4],7],[6,[0,5]]],[[[6,8],[2,8]],[[2,1],[4,5]]]]\n",
    "= [[[[7,0],[7,7]],[[7,7],[7,8]]],[[[7,7],[8,8]],[[7,7],[8,7]]]]\n",
    "\n",
    "  [[[[7,0],[7,7]],[[7,7],[7,8]]],[[[7,7],[8,8]],[[7,7],[8,7]]]]\n",
    "+ [7,[5,[[3,8],[1,4]]]]\n",
    "= [[[[7,7],[7,8]],[[9,5],[8,7]]],[[[6,8],[0,8]],[[9,9],[9,0]]]]\n",
    "\n",
    "  [[[[7,7],[7,8]],[[9,5],[8,7]]],[[[6,8],[0,8]],[[9,9],[9,0]]]]\n",
    "+ [[2,[2,2]],[8,[8,1]]]\n",
    "= [[[[6,6],[6,6]],[[6,0],[6,7]]],[[[7,7],[8,9]],[8,[8,1]]]]\n",
    "\n",
    "  [[[[6,6],[6,6]],[[6,0],[6,7]]],[[[7,7],[8,9]],[8,[8,1]]]]\n",
    "+ [2,9]\n",
    "= [[[[6,6],[7,7]],[[0,7],[7,7]]],[[[5,5],[5,6]],9]]\n",
    "\n",
    "  [[[[6,6],[7,7]],[[0,7],[7,7]]],[[[5,5],[5,6]],9]]\n",
    "+ [1,[[[9,3],9],[[9,0],[0,7]]]]\n",
    "= [[[[7,8],[6,7]],[[6,8],[0,8]]],[[[7,7],[5,0]],[[5,5],[5,6]]]]\n",
    "\n",
    "  [[[[7,8],[6,7]],[[6,8],[0,8]]],[[[7,7],[5,0]],[[5,5],[5,6]]]]\n",
    "+ [[[5,[7,4]],7],1]\n",
    "= [[[[7,7],[7,7]],[[8,7],[8,7]]],[[[7,0],[7,7]],9]]\n",
    "\n",
    "  [[[[7,7],[7,7]],[[8,7],[8,7]]],[[[7,0],[7,7]],9]]\n",
    "+ [[[[4,2],2],6],[8,7]]\n",
    "= [[[[8,7],[7,7]],[[8,6],[7,7]]],[[[0,7],[6,6]],[8,7]]]\n",
    "```\n",
    "\n",
    "To check whether it's the right answer, the snailfish teacher only checks the magnitude of the final sum. The magnitude of a pair is 3 times the magnitude of its left element plus 2 times the magnitude of its right element. The magnitude of a regular number is just that number.\n",
    "\n",
    "For example, the magnitude of `[9,1]` is `3*9 + 2*1 = 29`; the magnitude of `[1,9]` is `3*1 + 2*9 = 21`. Magnitude calculations are recursive: the magnitude of `[[9,1],[1,9]]` is `3*29 + 2*21 = 129`.\n",
    "\n",
    "Here are a few more magnitude examples:\n",
    "\n",
    "- `[[1,2],[[3,4],5]]` becomes 143.\n",
    "- `[[[[0,7],4],[[7,8],[6,0]]],[8,1]]` becomes 1384.\n",
    "- `[[[[1,1],[2,2]],[3,3]],[4,4]]` becomes 445.\n",
    "- `[[[[3,0],[5,3]],[4,4]],[5,5]]` becomes 791.\n",
    "- `[[[[5,0],[7,4]],[5,5]],[6,6]]` becomes 1137.\n",
    "- `[[[[8,7],[7,7]],[[8,6],[7,7]]],[[[0,7],[6,6]],[8,7]]]` becomes 3488.\n",
    "\n",
    "So, given this example homework assignment:\n",
    "\n",
    "```\n",
    "[[[0,[5,8]],[[1,7],[9,6]]],[[4,[1,2]],[[1,4],2]]]\n",
    "[[[5,[2,8]],4],[5,[[9,9],0]]]\n",
    "[6,[[[6,2],[5,6]],[[7,6],[4,7]]]]\n",
    "[[[6,[0,7]],[0,9]],[4,[9,[9,0]]]]\n",
    "[[[7,[6,4]],[3,[1,3]]],[[[5,5],1],9]]\n",
    "[[6,[[7,3],[3,2]]],[[[3,8],[5,7]],4]]\n",
    "[[[[5,4],[7,7]],8],[[8,3],8]]\n",
    "[[9,3],[[9,9],[6,[4,9]]]]\n",
    "[[2,[[7,7],7]],[[5,8],[[9,3],[0,2]]]]\n",
    "[[[[5,2],5],[8,[3,7]]],[[5,[7,5]],[4,4]]]\n",
    "```\n",
    "\n",
    "The final sum is:\n",
    "\n",
    "`[[[[6,6],[7,6]],[[7,7],[7,0]]],[[[7,7],[7,7]],[[7,8],[9,9]]]]`\n",
    "\n",
    "The magnitude of this final sum is 4140.\n",
    "\n",
    "Add up all of the snailfish numbers from the homework assignment in the order they appear. What is the magnitude of the final sum?"
   ]
  },
  {
   "cell_type": "code",
   "execution_count": 58,
   "id": "81fce07b-0aab-40f3-b6e0-51c1d8b2a916",
   "metadata": {},
   "outputs": [],
   "source": [
    "# get input\n",
    "\n",
    "with open(\"inputs/day18.txt\") as file:\n",
    "    inputs = file.read().splitlines()\n",
    "\n",
    "test0_inputs = [\"[1,1]\", \"[2,2]\", \"[3,3]\", \"[4,14]\"]\n",
    "test1_inputs = [\"[1,1]\", \"[2,2]\", \"[3,3]\", \"[4,4]\"]\n",
    "test2_inputs = [\"[1,1]\", \"[2,2]\", \"[3,3]\", \"[4,4]\", \"[5,5]\"]\n",
    "test3_inputs = [\"[1,1]\", \"[2,2]\", \"[3,3]\", \"[4,4]\", \"[5,5]\", \"[6,6]\"]\n",
    "test4_inputs = [\"[[[0,[4,5]],[0,0]],[[[4,5],[2,6]],[9,5]]]\", \"[7,[[[3,7],[4,3]],[[6,3],[8,8]]]]\", \"[[2,[[0,8],[3,4]]],[[[6,7],1],[7,[1,6]]]]\", \"[[[[2,4],7],[6,[0,5]]],[[[6,8],[2,8]],[[2,1],[4,5]]]]\", \"[7,[5,[[3,8],[1,4]]]]\", \"[[2,[2,2]],[8,[8,1]]]\", \"[2,9]\", \"[1,[[[9,3],9],[[9,0],[0,7]]]]\", \"[[[5,[7,4]],7],1]\", \"[[[[4,2],2],6],[8,7]]\"]"
   ]
  },
  {
   "cell_type": "markdown",
   "id": "b71a19c1-7438-43ec-8a6b-50e432ce9fbf",
   "metadata": {},
   "source": [
    "notes\n",
    "\n",
    "to add list 1 and list 2, need to append: l1.append(l2), and l1 is now the added list."
   ]
  },
  {
   "cell_type": "code",
   "execution_count": 30,
   "id": "e6b87e5f-62c8-4ccd-8e79-ea04c3c8e357",
   "metadata": {},
   "outputs": [],
   "source": [
    "def add_all_numbers(inputs):\n",
    "    final_number = eval(inputs[0])\n",
    "    for n in inputs[1:]:\n",
    "        final_number = [final_number, eval(n)]\n",
    "    return final_number"
   ]
  },
  {
   "cell_type": "code",
   "execution_count": 32,
   "id": "c7f9b571-3255-44da-90ca-019963cdbfbc",
   "metadata": {},
   "outputs": [],
   "source": [
    "t1_total = add_all_numbers(test1_inputs)"
   ]
  },
  {
   "cell_type": "code",
   "execution_count": 44,
   "id": "24ee2801-734b-4a70-83c9-a308019bda08",
   "metadata": {},
   "outputs": [],
   "source": [
    "t2_total = add_all_numbers(test2_inputs)"
   ]
  },
  {
   "cell_type": "markdown",
   "id": "8298841f-579b-4acd-9ea9-8beeb7991e34",
   "metadata": {},
   "source": [
    "`[[[[1,1],[2,2]],[3,3]],[4,4]]`"
   ]
  },
  {
   "cell_type": "markdown",
   "id": "a27d1a6b-4d1b-4fbf-a5ad-80ac52bd3177",
   "metadata": {},
   "source": [
    "To reduce a snailfish number, you must repeatedly do the first action in this list that applies to the snailfish number:\n",
    "\n",
    "- If any pair is nested inside four pairs, the leftmost such pair explodes.\n",
    "- If any regular number is 10 or greater, the leftmost such regular number splits.\n",
    "\n",
    "Once no action in the above list applies, the snailfish number is reduced."
   ]
  },
  {
   "cell_type": "markdown",
   "id": "dc6a54e8-9320-4863-a5cc-155f693a7ab7",
   "metadata": {},
   "source": [
    "code credit EmEmEff: https://gist.github.com/MrFlick/eacb163e48e38091869031b0c39a9005"
   ]
  },
  {
   "cell_type": "code",
   "execution_count": 76,
   "id": "a785ad12-132e-4596-9fbb-9ffe99b07e06",
   "metadata": {},
   "outputs": [],
   "source": [
    "def find_explosion(x, depth = 1):\n",
    "    if not isinstance(x, list): return None\n",
    "    if depth > 4: return []\n",
    "    for i, v in enumerate(x):\n",
    "        r = find_explosion(v, depth+1)\n",
    "        if r is not None:\n",
    "            return [i] + r\n",
    "    return None"
   ]
  },
  {
   "cell_type": "code",
   "execution_count": 77,
   "id": "67a85ba1-4d2f-420f-b669-bea329bf15b8",
   "metadata": {},
   "outputs": [],
   "source": [
    "def find_splits(x, depth = 1):\n",
    "    if (isinstance(x, int)) and (x < 10): return None\n",
    "    if (isinstance(x, int)) and (x >= 10): return []\n",
    "    for i, v in enumerate(x):\n",
    "        r = find_splits(v, depth+1)\n",
    "        if r is not None:\n",
    "            return [i] + r\n",
    "    return None"
   ]
  },
  {
   "cell_type": "code",
   "execution_count": 63,
   "id": "ce2d4418-ded0-4fc3-925d-1f0780dbb5b9",
   "metadata": {},
   "outputs": [],
   "source": [
    "t0_total = add_all_numbers(test0_inputs)"
   ]
  },
  {
   "cell_type": "code",
   "execution_count": 64,
   "id": "7e73688a-34b4-44c2-905f-c8c2b7c25059",
   "metadata": {},
   "outputs": [
    {
     "data": {
      "text/plain": [
       "[[[[1, 1], [2, 2]], [3, 3]], [4, 14]]"
      ]
     },
     "execution_count": 64,
     "metadata": {},
     "output_type": "execute_result"
    }
   ],
   "source": [
    "t0_total"
   ]
  },
  {
   "cell_type": "code",
   "execution_count": 65,
   "id": "988ea69b-6b84-45b4-8828-5d1a5cc4772f",
   "metadata": {},
   "outputs": [
    {
     "data": {
      "text/plain": [
       "[1, 1]"
      ]
     },
     "execution_count": 65,
     "metadata": {},
     "output_type": "execute_result"
    }
   ],
   "source": [
    "find_splits(t0_total)"
   ]
  },
  {
   "cell_type": "code",
   "execution_count": 67,
   "id": "baecf36f-072d-425e-bb5c-065459469bef",
   "metadata": {},
   "outputs": [
    {
     "data": {
      "text/plain": [
       "[[[[1, 1], [2, 2]], [3, 3]], [4, 14]]"
      ]
     },
     "execution_count": 67,
     "metadata": {},
     "output_type": "execute_result"
    }
   ],
   "source": [
    "t0_total"
   ]
  },
  {
   "cell_type": "code",
   "execution_count": 71,
   "id": "b0236cb7-3689-4a9b-bc66-d23d69e8ec81",
   "metadata": {},
   "outputs": [
    {
     "data": {
      "text/plain": [
       "14"
      ]
     },
     "execution_count": 71,
     "metadata": {},
     "output_type": "execute_result"
    }
   ],
   "source": [
    "t0_total[1][1]"
   ]
  },
  {
   "cell_type": "code",
   "execution_count": 78,
   "id": "f894163b-de57-43cd-a640-28a5f04e8ea5",
   "metadata": {},
   "outputs": [],
   "source": [
    "ex1 = [[[[0,7],4],[7,[[8,4],9]]],[1,1]]"
   ]
  },
  {
   "cell_type": "code",
   "execution_count": 79,
   "id": "86a4267d-a022-4137-8726-c98dcbbcf384",
   "metadata": {},
   "outputs": [
    {
     "data": {
      "text/plain": [
       "[0, 1, 1, 0]"
      ]
     },
     "execution_count": 79,
     "metadata": {},
     "output_type": "execute_result"
    }
   ],
   "source": [
    "find_explosion(ex1)"
   ]
  },
  {
   "cell_type": "code",
   "execution_count": 82,
   "id": "df292e7e-1b22-4c4c-a860-139c9a12afa6",
   "metadata": {},
   "outputs": [
    {
     "data": {
      "text/plain": [
       "[8, 4]"
      ]
     },
     "execution_count": 82,
     "metadata": {},
     "output_type": "execute_result"
    }
   ],
   "source": [
    "ex1[0][1][1][0]"
   ]
  },
  {
   "cell_type": "code",
   "execution_count": null,
   "id": "8c493870-91b9-48de-ac31-f6fdab3185ef",
   "metadata": {},
   "outputs": [],
   "source": [
    "def explode_pair(fish_number, location):\n",
    "    "
   ]
  }
 ],
 "metadata": {
  "kernelspec": {
   "display_name": "Python 3",
   "language": "python",
   "name": "python3"
  },
  "language_info": {
   "codemirror_mode": {
    "name": "ipython",
    "version": 3
   },
   "file_extension": ".py",
   "mimetype": "text/x-python",
   "name": "python",
   "nbconvert_exporter": "python",
   "pygments_lexer": "ipython3",
   "version": "3.8.8"
  }
 },
 "nbformat": 4,
 "nbformat_minor": 5
}
