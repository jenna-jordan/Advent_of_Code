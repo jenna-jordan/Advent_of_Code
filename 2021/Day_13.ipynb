{
 "cells": [
  {
   "cell_type": "markdown",
   "id": "4244c9b2-5edc-4c3a-91c6-48151f8fd8a9",
   "metadata": {},
   "source": [
    "# AoC Day 13\n",
    "\n",
    "Jenna Jordan\n",
    "\n",
    "13 December 2021 - \n",
    "\n",
    "## Prompt\n",
    "\n",
    "--- Day 13: Transparent Origami ---\n",
    "\n",
    "You reach another volcanically active part of the cave. It would be nice if you could do some kind of thermal imaging so you could tell ahead of time which caves are too hot to safely enter.\n",
    "\n",
    "Fortunately, the submarine seems to be equipped with a thermal camera! When you activate it, you are greeted with:\n",
    "\n",
    "Congratulations on your purchase! To activate this infrared thermal imaging\n",
    "camera system, please enter the code found on page 1 of the manual.\n",
    "Apparently, the Elves have never used this feature. To your surprise, you manage to find the manual; as you go to open it, page 1 falls out. It's a large sheet of transparent paper! The transparent paper is marked with random dots and includes instructions on how to fold it up (your puzzle input). For example:\n",
    "\n",
    "```\n",
    "6,10\n",
    "0,14\n",
    "9,10\n",
    "0,3\n",
    "10,4\n",
    "4,11\n",
    "6,0\n",
    "6,12\n",
    "4,1\n",
    "0,13\n",
    "10,12\n",
    "3,4\n",
    "3,0\n",
    "8,4\n",
    "1,10\n",
    "2,14\n",
    "8,10\n",
    "9,0\n",
    "\n",
    "fold along y=7\n",
    "fold along x=5\n",
    "```\n",
    "\n",
    "The first section is a list of dots on the transparent paper. 0,0 represents the top-left coordinate. The first value, x, increases to the right. The second value, y, increases downward. So, the coordinate 3,0 is to the right of 0,0, and the coordinate 0,7 is below 0,0. The coordinates in this example form the following pattern, where # is a dot on the paper and . is an empty, unmarked position:\n",
    "\n",
    "```\n",
    "...#..#..#.\n",
    "....#......\n",
    "...........\n",
    "#..........\n",
    "...#....#.#\n",
    "...........\n",
    "...........\n",
    "...........\n",
    "...........\n",
    "...........\n",
    ".#....#.##.\n",
    "....#......\n",
    "......#...#\n",
    "#..........\n",
    "#.#........\n",
    "```\n",
    "\n",
    "Then, there is a list of fold instructions. Each instruction indicates a line on the transparent paper and wants you to fold the paper up (for horizontal y=... lines) or left (for vertical x=... lines). In this example, the first fold instruction is fold along y=7, which designates the line formed by all of the positions where y is 7 (marked here with -):\n",
    "\n",
    "```\n",
    "...#..#..#.\n",
    "....#......\n",
    "...........\n",
    "#..........\n",
    "...#....#.#\n",
    "...........\n",
    "...........\n",
    "-----------\n",
    "...........\n",
    "...........\n",
    ".#....#.##.\n",
    "....#......\n",
    "......#...#\n",
    "#..........\n",
    "#.#........\n",
    "```\n",
    "\n",
    "Because this is a horizontal line, fold the bottom half up. Some of the dots might end up overlapping after the fold is complete, but dots will never appear exactly on a fold line. The result of doing this fold looks like this:\n",
    "\n",
    "```\n",
    "#.##..#..#.\n",
    "#...#......\n",
    "......#...#\n",
    "#...#......\n",
    ".#.#..#.###\n",
    "...........\n",
    "...........\n",
    "```\n",
    "\n",
    "Now, only 17 dots are visible.\n",
    "\n",
    "Notice, for example, the two dots in the bottom left corner before the transparent paper is folded; after the fold is complete, those dots appear in the top left corner (at 0,0 and 0,1). Because the paper is transparent, the dot just below them in the result (at 0,3) remains visible, as it can be seen through the transparent paper.\n",
    "\n",
    "Also notice that some dots can end up overlapping; in this case, the dots merge together and become a single dot.\n",
    "\n",
    "The second fold instruction is fold along x=5, which indicates this line:\n",
    "\n",
    "```\n",
    "#.##.|#..#.\n",
    "#...#|.....\n",
    ".....|#...#\n",
    "#...#|.....\n",
    ".#.#.|#.###\n",
    ".....|.....\n",
    ".....|.....\n",
    "```\n",
    "\n",
    "Because this is a vertical line, fold left:\n",
    "\n",
    "```\n",
    "#####\n",
    "#...#\n",
    "#...#\n",
    "#...#\n",
    "#####\n",
    ".....\n",
    ".....\n",
    "```\n",
    "\n",
    "The instructions made a square!\n",
    "\n",
    "The transparent paper is pretty big, so for now, focus on just completing the first fold. After the first fold in the example above, 17 dots are visible - dots that end up overlapping after the fold is completed count as a single dot.\n",
    "\n",
    "How many dots are visible after completing just the first fold instruction on your transparent paper?"
   ]
  },
  {
   "cell_type": "code",
   "execution_count": 1,
   "id": "bc84fc3e-0047-4ce4-ba97-2c3259bb95f6",
   "metadata": {},
   "outputs": [],
   "source": [
    "# get input\n",
    "\n",
    "with open(\"inputs/day13.txt\") as file:\n",
    "    inputs = file.read().splitlines()\n",
    "\n",
    "test_inputs = [\"6,10\", \"0,14\", \"9,10\", \"0,3\", \"10,4\", \"4,11\", \"6,0\", \"6,12\", \"4,1\", \"0,13\", \"10,12\", \"3,4\", \"3,0\", \"8,4\", \"1,10\", \"2,14\", \"8,10\", \"9,0\", \"\", \"fold along y=7\", \"fold along x=5\"]"
   ]
  },
  {
   "cell_type": "code",
   "execution_count": 2,
   "id": "15ec496b-5489-433a-8ee6-dc5f27ece37c",
   "metadata": {},
   "outputs": [],
   "source": [
    "def get_setup(inputs):\n",
    "    dot_coords = []\n",
    "    fold_instructions = []\n",
    "\n",
    "    for i in inputs:\n",
    "        if \",\" in i:\n",
    "            coords = i.split(\",\")\n",
    "            dot_coords.append((int(coords[0]),int(coords[1])))\n",
    "        elif \"=\" in i:\n",
    "            fold = i.split(\"=\")\n",
    "            fold_instructions.append((fold[0][-1], int(fold[1])))\n",
    "    return dot_coords, fold_instructions"
   ]
  },
  {
   "cell_type": "code",
   "execution_count": 6,
   "id": "421cb345-c132-437d-b709-f741fb02f8a0",
   "metadata": {},
   "outputs": [],
   "source": [
    "def create_grid(dots):\n",
    "    x_vals = [d[0] for d in dots]\n",
    "    y_vals = [d[1] for d in dots]\n",
    "    x_max = max(x_vals) + 1\n",
    "    y_max = max(y_vals) + 1\n",
    "    grid = [[0] * x_max for i in range(y_max)]\n",
    "    for dot in dots:\n",
    "        x,y = dot\n",
    "        grid[y][x] = 1\n",
    "    return grid"
   ]
  },
  {
   "cell_type": "code",
   "execution_count": 8,
   "id": "0548a84f-57cc-49a2-9c3b-f28e13988653",
   "metadata": {},
   "outputs": [],
   "source": [
    "def fold_along_y(grid, y):\n",
    "    # row num = y, col_num = x\n",
    "    for row_num, row in enumerate(grid):\n",
    "        for col_num, col in enumerate(row):\n",
    "            if row_num < y:\n",
    "                distance = y - row_num\n",
    "                inverse_row_num = y + distance\n",
    "                inverse_val = grid[inverse_row_num][col_num]\n",
    "                grid[row_num][col_num] += inverse_val\n",
    "    new_grid = grid[0:y]\n",
    "    return new_grid"
   ]
  },
  {
   "cell_type": "code",
   "execution_count": 10,
   "id": "863df6dc-e50f-46e6-a794-7839fd312379",
   "metadata": {},
   "outputs": [],
   "source": [
    "def fold_along_x(grid, x):\n",
    "    for row_num, row in enumerate(grid):\n",
    "        for col_num, col in enumerate(row):\n",
    "            if col_num < x:\n",
    "                distance = x - col_num\n",
    "                inverse_col_num = x + distance\n",
    "                inverse_val = grid[row_num][inverse_col_num]\n",
    "                grid[row_num][col_num] += inverse_val\n",
    "    new_grid = []\n",
    "    for row in grid:\n",
    "        new_grid.append(row[0:x])\n",
    "    return new_grid"
   ]
  },
  {
   "cell_type": "code",
   "execution_count": 12,
   "id": "10da2e2a-3b18-461a-beea-a1369f4e02b6",
   "metadata": {},
   "outputs": [],
   "source": [
    "def count_visible_dots(grid):\n",
    "    dot_count = 0\n",
    "    for row in grid:\n",
    "        for dot in row:\n",
    "            if dot > 0:\n",
    "                dot_count += 1\n",
    "    return dot_count"
   ]
  },
  {
   "cell_type": "code",
   "execution_count": 16,
   "id": "cb2935d8-b28c-46c8-aada-a5d5e2e21d53",
   "metadata": {},
   "outputs": [],
   "source": [
    "def count_dots_after_x_folds(inputs, num_folds=None):\n",
    "    dots, folds = get_setup(inputs)\n",
    "    grid = create_grid(dots)\n",
    "    if not num_folds:\n",
    "        num_folds = len(folds)\n",
    "    for f in folds[0:num_folds]:\n",
    "        fold_type, fold_loc = f\n",
    "        if fold_type == 'x':\n",
    "            grid = fold_along_x(grid, fold_loc)\n",
    "        elif fold_type == 'y':\n",
    "            grid = fold_along_y(grid, fold_loc)\n",
    "    dots = count_visible_dots(grid)\n",
    "    return dots"
   ]
  },
  {
   "cell_type": "code",
   "execution_count": 17,
   "id": "f2c65d6e-dcf0-441b-9114-1893741ebf25",
   "metadata": {},
   "outputs": [
    {
     "data": {
      "text/plain": [
       "17"
      ]
     },
     "execution_count": 17,
     "metadata": {},
     "output_type": "execute_result"
    }
   ],
   "source": [
    "count_dots_after_x_folds(test_inputs, 1)"
   ]
  },
  {
   "cell_type": "code",
   "execution_count": 18,
   "id": "67c44133-adba-4a6b-bef2-b246ad5bd063",
   "metadata": {},
   "outputs": [
    {
     "data": {
      "text/plain": [
       "747"
      ]
     },
     "execution_count": 18,
     "metadata": {},
     "output_type": "execute_result"
    }
   ],
   "source": [
    "count_dots_after_x_folds(inputs, 1)"
   ]
  },
  {
   "cell_type": "markdown",
   "id": "5c27efab-5f41-4754-90fe-b533897abd13",
   "metadata": {},
   "source": [
    "### Part 1 Solution\n",
    "\n",
    "747 - CORRECT!"
   ]
  },
  {
   "cell_type": "code",
   "execution_count": 31,
   "id": "d4862afc-00ff-419f-81cb-405d548f9869",
   "metadata": {},
   "outputs": [],
   "source": [
    "def print_folded_paper(inputs):\n",
    "    dots, folds = get_setup(inputs)\n",
    "    grid = create_grid(dots)\n",
    "    for f in folds:\n",
    "        fold_type, fold_loc = f\n",
    "        if fold_type == 'x':\n",
    "            grid = fold_along_x(grid, fold_loc)\n",
    "        elif fold_type == 'y':\n",
    "            grid = fold_along_y(grid, fold_loc)\n",
    "    \n",
    "    display_grid = []\n",
    "    for row in grid:\n",
    "        new_row = ['.' if d == 0 else '#' for d in row]\n",
    "        display_grid.append(\"\".join(new_row))\n",
    "    for row in display_grid:\n",
    "        print(row)"
   ]
  },
  {
   "cell_type": "code",
   "execution_count": 32,
   "id": "099e470e-8eaa-46f3-b73b-a353968819c1",
   "metadata": {},
   "outputs": [
    {
     "name": "stdout",
     "output_type": "stream",
     "text": [
      "#####\n",
      "#...#\n",
      "#...#\n",
      "#...#\n",
      "#####\n",
      ".....\n",
      ".....\n"
     ]
    }
   ],
   "source": [
    "print_folded_paper(test_inputs)"
   ]
  },
  {
   "cell_type": "code",
   "execution_count": 33,
   "id": "46093831-2fde-4328-a463-00df0c304bdd",
   "metadata": {},
   "outputs": [
    {
     "name": "stdout",
     "output_type": "stream",
     "text": [
      ".##..###..#..#.####.###...##..#..#.#..#.\n",
      "#..#.#..#.#..#....#.#..#.#..#.#..#.#..#.\n",
      "#..#.#..#.####...#..#..#.#....#..#.####.\n",
      "####.###..#..#..#...###..#....#..#.#..#.\n",
      "#..#.#.#..#..#.#....#....#..#.#..#.#..#.\n",
      "#..#.#..#.#..#.####.#.....##...##..#..#.\n"
     ]
    }
   ],
   "source": [
    "print_folded_paper(inputs)"
   ]
  },
  {
   "cell_type": "markdown",
   "id": "079c6804-45de-4361-bed9-6f2066dc0f7b",
   "metadata": {},
   "source": [
    "ARHZPCUH"
   ]
  },
  {
   "cell_type": "markdown",
   "id": "24150109-6cf9-4571-9ec6-9ab6acb032ec",
   "metadata": {},
   "source": [
    "### Part 2 Solution\n",
    "\n",
    "ARHZPCUH - CORRECT!"
   ]
  },
  {
   "cell_type": "code",
   "execution_count": null,
   "id": "0fa4b445-ae04-4eba-9ddd-64d185cc7ee3",
   "metadata": {},
   "outputs": [],
   "source": []
  }
 ],
 "metadata": {
  "kernelspec": {
   "display_name": "Python 3",
   "language": "python",
   "name": "python3"
  },
  "language_info": {
   "codemirror_mode": {
    "name": "ipython",
    "version": 3
   },
   "file_extension": ".py",
   "mimetype": "text/x-python",
   "name": "python",
   "nbconvert_exporter": "python",
   "pygments_lexer": "ipython3",
   "version": "3.8.8"
  }
 },
 "nbformat": 4,
 "nbformat_minor": 5
}
