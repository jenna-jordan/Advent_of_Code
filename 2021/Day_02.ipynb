{
 "cells": [
  {
   "cell_type": "markdown",
   "id": "2e737843-36b4-4059-8239-e77a1d2de5c6",
   "metadata": {},
   "source": [
    "# AoC Day 2\n",
    "\n",
    "Jenna Jordan\n",
    "\n",
    "2 December 2021\n",
    "\n",
    "## Prompt\n",
    "\n",
    "--- Day 2: Dive! ---\n",
    "\n",
    "Now, you need to figure out how to pilot this thing.\n",
    "\n",
    "### Part 1\n",
    "\n",
    "It seems like the submarine can take a series of commands like forward 1, down 2, or up 3:\n",
    "\n",
    "- forward X increases the horizontal position by X units.\n",
    "- down X increases the depth by X units.\n",
    "- up X decreases the depth by X units.\n",
    "\n",
    "Note that since you're on a submarine, down and up affect your depth, and so they have the opposite result of what you might expect.\n",
    "\n",
    "The submarine seems to already have a planned course (your puzzle input). You should probably figure out where it's going. For example:\n",
    "\n",
    "```\n",
    "forward 5\n",
    "down 5\n",
    "forward 8\n",
    "up 3\n",
    "down 8\n",
    "forward 2\n",
    "```\n",
    "\n",
    "Your horizontal position and depth both start at 0. The steps above would then modify them as follows:\n",
    "\n",
    "- forward 5 adds 5 to your horizontal position, a total of 5.\n",
    "- down 5 adds 5 to your depth, resulting in a value of 5.\n",
    "- forward 8 adds 8 to your horizontal position, a total of 13.\n",
    "- up 3 decreases your depth by 3, resulting in a value of 2.\n",
    "- down 8 adds 8 to your depth, resulting in a value of 10.\n",
    "- forward 2 adds 2 to your horizontal position, a total of 15.\n",
    "\n",
    "After following these instructions, you would have a horizontal position of 15 and a depth of 10. (Multiplying these together produces 150.)\n",
    "\n",
    "Calculate the horizontal position and depth you would have after following the planned course. What do you get if you multiply your final horizontal position by your final depth?"
   ]
  },
  {
   "cell_type": "code",
   "execution_count": 1,
   "id": "2ad94c6f-2179-4ceb-b469-41f41a3387c6",
   "metadata": {},
   "outputs": [],
   "source": [
    "# get input\n",
    "\n",
    "with open(\"inputs/day2.txt\") as file:\n",
    "    inputs = file.readlines()\n",
    "\n",
    "dir_list = []\n",
    "for d in inputs:\n",
    "    d = d.rstrip()\n",
    "    dir_list.append(d)"
   ]
  },
  {
   "cell_type": "code",
   "execution_count": 2,
   "id": "025288f4-ecc1-4639-ac2d-1e39dc6d9861",
   "metadata": {},
   "outputs": [
    {
     "data": {
      "text/plain": [
       "['forward 8',\n",
       " 'forward 3',\n",
       " 'forward 8',\n",
       " 'down 6',\n",
       " 'forward 3',\n",
       " 'up 6',\n",
       " 'down 3',\n",
       " 'down 8',\n",
       " 'down 5',\n",
       " 'down 1']"
      ]
     },
     "execution_count": 2,
     "metadata": {},
     "output_type": "execute_result"
    }
   ],
   "source": [
    "dir_list[0:10]"
   ]
  },
  {
   "cell_type": "code",
   "execution_count": 4,
   "id": "296b34e9-b7a3-4288-bb96-1d2eb2bdef41",
   "metadata": {},
   "outputs": [
    {
     "name": "stdout",
     "output_type": "stream",
     "text": [
      "1383564\n"
     ]
    }
   ],
   "source": [
    "horizontal = 0\n",
    "depth = 0\n",
    "\n",
    "for d in dir_list:\n",
    "    direction, units = d.split()\n",
    "    if direction == \"forward\":\n",
    "        horizontal += int(units)\n",
    "    elif direction == \"up\":\n",
    "        depth -= int(units)\n",
    "    elif direction == \"down\":\n",
    "        depth += int(units)\n",
    "    else:\n",
    "        print(f\"{direction} is an invalid direction\")\n",
    "        break\n",
    "\n",
    "final_total_position = horizontal * depth\n",
    "print(final_total_position) "
   ]
  },
  {
   "cell_type": "markdown",
   "id": "749acbd4-ed22-43af-8d51-990571a60ce0",
   "metadata": {},
   "source": [
    "#### Submitted Answer\n",
    "\n",
    "1383564 - Correct!"
   ]
  },
  {
   "cell_type": "markdown",
   "id": "558c0f73-50e5-4611-8958-093a24925d26",
   "metadata": {},
   "source": [
    "### Part 2\n",
    "\n",
    "Based on your calculations, the planned course doesn't seem to make any sense. You find the submarine manual and discover that the process is actually slightly more complicated.\n",
    "\n",
    "In addition to horizontal position and depth, you'll also need to track a third value, aim, which also starts at 0. The commands also mean something entirely different than you first thought:\n",
    "\n",
    "- down X increases your aim by X units.\n",
    "- up X decreases your aim by X units.\n",
    "\n",
    "forward X does two things:\n",
    "- It increases your horizontal position by X units.\n",
    "- It increases your depth by your aim multiplied by X.\n",
    "\n",
    "Again note that since you're on a submarine, down and up do the opposite of what you might expect: \"down\" means aiming in the positive direction.\n",
    "\n",
    "Now, the above example does something different:\n",
    "\n",
    "- forward 5 adds 5 to your horizontal position, a total of 5. Because your aim is 0, your depth does not change.\n",
    "- down 5 adds 5 to your aim, resulting in a value of 5.\n",
    "- forward 8 adds 8 to your horizontal position, a total of 13. Because your aim is 5, your depth increases by 8*5=40.\n",
    "- up 3 decreases your aim by 3, resulting in a value of 2.\n",
    "- down 8 adds 8 to your aim, resulting in a value of 10.\n",
    "- forward 2 adds 2 to your horizontal position, a total of 15. Because your aim is 10, your depth increases by 2*10=20 to a total of 60.\n",
    "After following these new instructions, you would have a horizontal position of 15 and a depth of 60. (Multiplying these produces 900.)\n",
    "\n",
    "Using this new interpretation of the commands, calculate the horizontal position and depth you would have after following the planned course. What do you get if you multiply your final horizontal position by your final depth?"
   ]
  },
  {
   "cell_type": "code",
   "execution_count": 5,
   "id": "a7409d28-1c2f-4291-aba6-2b7c69fa2b85",
   "metadata": {},
   "outputs": [
    {
     "name": "stdout",
     "output_type": "stream",
     "text": [
      "1488311643\n"
     ]
    }
   ],
   "source": [
    "horizontal = 0\n",
    "depth = 0\n",
    "aim = 0\n",
    "\n",
    "for d in dir_list:\n",
    "    direction, units = d.split()\n",
    "    if direction == \"forward\":\n",
    "        horizontal += int(units)\n",
    "        depth += (aim * int(units))\n",
    "    elif direction == \"up\":\n",
    "        aim -= int(units)\n",
    "    elif direction == \"down\":\n",
    "        aim += int(units)\n",
    "    else:\n",
    "        print(f\"{direction} is an invalid direction\")\n",
    "        break\n",
    "\n",
    "final_total_position = horizontal * depth\n",
    "print(final_total_position)"
   ]
  },
  {
   "cell_type": "markdown",
   "id": "1edd394c-49a7-4d55-a486-62deab5aad52",
   "metadata": {},
   "source": [
    "#### Submitted Answer\n",
    "\n",
    "1488311643 - Correct!"
   ]
  },
  {
   "cell_type": "code",
   "execution_count": null,
   "id": "b2f71ca3-fd87-4a4f-b864-44a918392e02",
   "metadata": {},
   "outputs": [],
   "source": []
  }
 ],
 "metadata": {
  "kernelspec": {
   "display_name": "Python 3",
   "language": "python",
   "name": "python3"
  },
  "language_info": {
   "codemirror_mode": {
    "name": "ipython",
    "version": 3
   },
   "file_extension": ".py",
   "mimetype": "text/x-python",
   "name": "python",
   "nbconvert_exporter": "python",
   "pygments_lexer": "ipython3",
   "version": "3.8.8"
  }
 },
 "nbformat": 4,
 "nbformat_minor": 5
}
