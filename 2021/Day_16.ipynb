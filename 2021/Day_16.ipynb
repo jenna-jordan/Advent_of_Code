{
 "cells": [
  {
   "cell_type": "markdown",
   "id": "008435fb-5d39-4723-83ca-4e646b455457",
   "metadata": {},
   "source": [
    "# AoC Day 16\n",
    "\n",
    "Jenna Jordan\n",
    "\n",
    "16 December 2021\n",
    "\n",
    "## Prompt\n",
    "\n",
    "--- Day 16: Packet Decoder ---\n",
    "\n",
    "As you leave the cave and reach open waters, you receive a transmission from the Elves back on the ship.\n",
    "\n",
    "The transmission was sent using the Buoyancy Interchange Transmission System (BITS), a method of packing numeric expressions into a binary sequence. Your submarine's computer has saved the transmission in hexadecimal (your puzzle input).\n",
    "\n",
    "The first step of decoding the message is to convert the hexadecimal representation into binary. Each character of hexadecimal corresponds to four bits of binary data:\n",
    "\n",
    "```\n",
    "0 = 0000\n",
    "1 = 0001\n",
    "2 = 0010\n",
    "3 = 0011\n",
    "4 = 0100\n",
    "5 = 0101\n",
    "6 = 0110\n",
    "7 = 0111\n",
    "8 = 1000\n",
    "9 = 1001\n",
    "A = 1010\n",
    "B = 1011\n",
    "C = 1100\n",
    "D = 1101\n",
    "E = 1110\n",
    "F = 1111\n",
    "```\n",
    "\n",
    "The BITS transmission contains a single packet at its outermost layer which itself contains many other packets. The hexadecimal representation of this packet might encode a few extra 0 bits at the end; these are not part of the transmission and should be ignored.\n",
    "\n",
    "Every packet begins with a standard header: the first three bits encode the packet version, and the next three bits encode the packet type ID. These two values are numbers; all numbers encoded in any packet are represented as binary with the most significant bit first. For example, a version encoded as the binary sequence 100 represents the number 4.\n",
    "\n",
    "Packets with type ID 4 represent a literal value. Literal value packets encode a single binary number. To do this, the binary number is padded with leading zeroes until its length is a multiple of four bits, and then it is broken into groups of four bits. Each group is prefixed by a 1 bit except the last group, which is prefixed by a 0 bit. These groups of five bits immediately follow the packet header. For example, the hexadecimal string `D2FE28` becomes:\n",
    "\n",
    "```\n",
    "110100101111111000101000\n",
    "VVVTTTAAAAABBBBBCCCCC\n",
    "```\n",
    "\n",
    "Below each bit is a label indicating its purpose:\n",
    "\n",
    "- The three bits labeled `V` (`110`) are the packet version, `6`.\n",
    "- The three bits labeled `T` (`100`) are the packet type ID, `4`, which means the packet is a literal value.\n",
    "- The five bits labeled `A` (`10111`) start with a `1` (not the last group, keep reading) and contain the first four bits of the number, 0111.\n",
    "- The five bits labeled `B` (`11110`) start with a `1` (not the last group, keep reading) and contain four more bits of the number, `1110`.\n",
    "- The five bits labeled `C` (`00101`) start with a `0` (last group, end of packet) and contain the last four bits of the number, `0101`.\n",
    "- The three unlabeled 0 bits at the end are extra due to the hexadecimal representation and should be ignored.\n",
    "\n",
    "So, this packet represents a literal value with binary representation `011111100101`, which is `2021` in decimal.\n",
    "\n",
    "Every other type of packet (any packet with a type ID other than 4) represent an operator that performs some calculation on one or more sub-packets contained within. Right now, the specific operations aren't important; focus on parsing the hierarchy of sub-packets.\n",
    "\n",
    "An operator packet contains one or more packets. To indicate which subsequent binary data represents its sub-packets, an operator packet can use one of two modes indicated by the bit immediately after the packet header; this is called the length type ID:\n",
    "\n",
    "- If the length type ID is 0, then the next 15 bits are a number that represents the total length in bits of the sub-packets contained by this packet.\n",
    "- If the length type ID is 1, then the next 11 bits are a number that represents the number of sub-packets immediately contained by this packet.\n",
    "\n",
    "Finally, after the length type ID bit and the 15-bit or 11-bit field, the sub-packets appear.\n",
    "\n",
    "For example, here is an operator packet (hexadecimal string `38006F45291200`) with length type ID `0` that contains two sub-packets:\n",
    "\n",
    "```\n",
    "00111000000000000110111101000101001010010001001000000000\n",
    "VVVTTTILLLLLLLLLLLLLLLAAAAAAAAAAABBBBBBBBBBBBBBBB\n",
    "```\n",
    "\n",
    "- The three bits labeled V (001) are the packet version, 1.\n",
    "- The three bits labeled T (110) are the packet type ID, 6, which means the packet is an operator.\n",
    "- The bit labeled I (0) is the length type ID, which indicates that the length is a 15-bit number representing the number of bits in the sub-packets.\n",
    "- The 15 bits labeled L (000000000011011) contain the length of the sub-packets in bits, 27.\n",
    "- The 11 bits labeled A contain the first sub-packet, a literal value representing the number 10.\n",
    "- The 16 bits labeled B contain the second sub-packet, a literal value representing the number 20.\n",
    "\n",
    "After reading 11 and 16 bits of sub-packet data, the total length indicated in `L` (`27`) is reached, and so parsing of this packet stops.\n",
    "\n",
    "As another example, here is an operator packet (hexadecimal string `EE00D40C823060`) with length type ID 1 that contains three sub-packets:\n",
    "\n",
    "```\n",
    "11101110000000001101010000001100100000100011000001100000\n",
    "VVVTTTILLLLLLLLLLLAAAAAAAAAAABBBBBBBBBBBCCCCCCCCCCC\n",
    "```\n",
    "\n",
    "- The three bits labeled V (111) are the packet version, 7.\n",
    "- The three bits labeled T (011) are the packet type ID, 3, which means the packet is an operator.\n",
    "- The bit labeled I (1) is the length type ID, which indicates that the length is a 11-bit number representing the number of sub-packets.\n",
    "- The 11 bits labeled L (00000000011) contain the number of sub-packets, 3.\n",
    "- The 11 bits labeled A contain the first sub-packet, a literal value representing the number 1.\n",
    "- The 11 bits labeled B contain the second sub-packet, a literal value representing the number 2.\n",
    "- The 11 bits labeled C contain the third sub-packet, a literal value representing the number 3.\n",
    "\n",
    "After reading 3 complete sub-packets, the number of sub-packets indicated in L (3) is reached, and so parsing of this packet stops.\n",
    "\n",
    "For now, parse the hierarchy of the packets throughout the transmission and add up all of the version numbers.\n",
    "\n",
    "Here are a few more examples of hexadecimal-encoded transmissions:\n",
    "\n",
    "- `8A004A801A8002F478` represents an operator packet (version 4) which contains an operator packet (version 1) which contains an operator packet (version 5) which contains a literal value (version 6); this packet has a version sum of 16.\n",
    "- `620080001611562C8802118E34` represents an operator packet (version 3) which contains two sub-packets; each sub-packet is an operator packet that contains two literal values. This packet has a version sum of 12.\n",
    "- `C0015000016115A2E0802F182340` has the same structure as the previous example, but the outermost packet uses a different length type ID. This packet has a version sum of 23.\n",
    "- `A0016C880162017C3686B18A3D4780` is an operator packet that contains an operator packet that contains an operator packet that contains five literal values; it has a version sum of 31.\n",
    "\n",
    "Decode the structure of your hexadecimal-encoded BITS transmission; what do you get if you add up the version numbers in all packets?"
   ]
  },
  {
   "cell_type": "code",
   "execution_count": 144,
   "id": "d6748cea-a8be-48b5-9f8d-6d16a900b5e3",
   "metadata": {},
   "outputs": [],
   "source": [
    "# get input\n",
    "\n",
    "with open(\"inputs/day16.txt\") as file:\n",
    "    inputs = file.read().rstrip()\n",
    "\n",
    "test1 = 'D2FE28'\n",
    "test2 = '38006F45291200'\n",
    "test3 = 'EE00D40C823060'\n",
    "test4 = '8A004A801A8002F478'\n",
    "test5 = '620080001611562C8802118E34'\n",
    "test6 = 'C0015000016115A2E0802F182340'\n",
    "test7 = 'A0016C880162017C3686B18A3D4780'"
   ]
  },
  {
   "cell_type": "code",
   "execution_count": 145,
   "id": "de58c7b4-4ba1-4e13-9bf2-2ba08550d492",
   "metadata": {},
   "outputs": [],
   "source": [
    "def hex_to_binary(hex_string):\n",
    "    int_form = int(hex_string, base=16)\n",
    "    bin_form = bin(int_form)\n",
    "    bin_length = len(hex_string) * 4\n",
    "    return str(bin_form)[2:].zfill(bin_length)"
   ]
  },
  {
   "cell_type": "code",
   "execution_count": 146,
   "id": "8583f42a-1303-4cb0-ae13-e58a1615cb51",
   "metadata": {},
   "outputs": [],
   "source": [
    "def get_packet_header(bin_string, packet_start_index):\n",
    "    version = int(bin_string[packet_start_index : packet_start_index + 3], 2)\n",
    "    type_id = int(bin_string[packet_start_index + 3 : packet_start_index + 6], 2)\n",
    "    if type_id == 4:\n",
    "        return {\"version\": version, \"type\": \"literal\", \"packet_start\": packet_start_index}\n",
    "    else:\n",
    "        return {\"version\": version, \"type\": \"operator\", \"packet_start\": packet_start_index}"
   ]
  },
  {
   "cell_type": "code",
   "execution_count": 147,
   "id": "7a13dbe7-7e5e-4c4f-a9bb-f49e5c3f025a",
   "metadata": {},
   "outputs": [],
   "source": [
    "def get_literal_value(bin_string, packet: dict):\n",
    "    # remember to return length of packet\n",
    "    packet_start_index = packet[\"packet_start\"]\n",
    "    literal_start_index = packet_start_index + 6\n",
    "    last_chunk = False\n",
    "    literal_str = ''\n",
    "    while not last_chunk:\n",
    "        next_chunk = bin_string[literal_start_index:literal_start_index+5]\n",
    "        if next_chunk[0] == '0':\n",
    "            last_chunk = True\n",
    "        chunk_num = next_chunk[1:]\n",
    "        literal_str += str(chunk_num)\n",
    "        literal_start_index += 5\n",
    "    packet[\"literal_value\"] = int(literal_str, 2)\n",
    "    packet[\"packet_end\"] = literal_start_index\n",
    "    return packet"
   ]
  },
  {
   "cell_type": "code",
   "execution_count": 148,
   "id": "7a31ba0a-9c6e-4c0a-824d-b7bd935fdc01",
   "metadata": {},
   "outputs": [],
   "source": [
    "def get_operator_metadata(bin_string, packet: dict):\n",
    "    packet_start_index = packet[\"packet_start\"]\n",
    "    length_type_id = bin_string[packet_start_index + 6: packet_start_index + 7]\n",
    "    if length_type_id == '0':\n",
    "        # 15 bits\n",
    "        # total length in bits of the sub-packets\n",
    "        # we know number of bits, we don't know number of subpackets\n",
    "        sub_packet_info = bin_string[packet_start_index + 7 : packet_start_index + 7 + 15]\n",
    "        packet[\"subpackets_length\"] = int(sub_packet_info, 2)\n",
    "        packet[\"subpackets_start\"] = packet_start_index + 7 + 15\n",
    "        packet[\"subpackets_end\"] = packet_start_index + 7 + 15 + int(sub_packet_info, 2)\n",
    "    elif length_type_id == '1':\n",
    "        # 11 bits\n",
    "        # number of sub-packets\n",
    "        # we know number of subpackets, we don't know number of bits\n",
    "        sub_packet_info = bin_string[packet_start_index + 7 : packet_start_index + 7 + 11]\n",
    "        packet[\"num_subpackets\"] = int(sub_packet_info, 2)\n",
    "        packet[\"subpackets_start\"] = packet_start_index + 7 + 11\n",
    "    return packet"
   ]
  },
  {
   "cell_type": "code",
   "execution_count": 292,
   "id": "733ab8b9-370c-40b8-8063-127fbc3cccae",
   "metadata": {},
   "outputs": [],
   "source": [
    "def get_subpackets(bin_string, packet: dict):\n",
    "    subpackets = []\n",
    "    if packet[\"type\"] == \"literal\":\n",
    "        packet = get_literal_value(bin_string, packet)\n",
    "    else:\n",
    "        packet = get_operator_metadata(bin_string, packet)\n",
    "        if \"subpackets_end\" in packet.keys():\n",
    "            subpacket_length = packet[\"subpackets_length\"]\n",
    "            subpacket_total = 1000000 # placeholder\n",
    "        else:\n",
    "            subpacket_total = packet[\"num_subpackets\"]\n",
    "            subpacket_length = 1000000 # placeholder\n",
    "\n",
    "        subpacket_start = packet[\"subpackets_start\"]\n",
    "        subpackets_current_length = 0\n",
    "        subpackets_current_count = 0\n",
    "        while (subpackets_current_length < subpacket_length) and (subpackets_current_count < subpacket_total):\n",
    "            subpacket = get_packet_header(bin_string, subpacket_start)\n",
    "            if subpacket[\"type\"] == \"literal\":\n",
    "                subpacket = get_literal_value(bin_string, subpacket)\n",
    "                subpacket_end = subpacket[\"packet_end\"]\n",
    "                subpackets_current_length += (subpacket_end - subpacket[\"packet_start\"])\n",
    "                subpackets_current_count += 1\n",
    "                subpacket_start = subpacket_end\n",
    "            elif subpacket[\"type\"] == \"operator\":\n",
    "                subpacket = get_operator_metadata(bin_string, subpacket)\n",
    "                subpackets_current_count += 1\n",
    "                if \"subpackets_end\" in subpacket.keys():\n",
    "                    subpacket_end = subpacket[\"subpackets_end\"]\n",
    "                    subpackets_current_length += (subpacket_end - subpacket_start)\n",
    "                    subpacket_start += subpackets_current_length\n",
    "                    sub_subpackets = get_subpackets(bin_string, subpacket)\n",
    "                    subpackets.extend(sub_subpackets)\n",
    "                else:\n",
    "                    sub_subpackets = get_subpackets(bin_string, subpacket)\n",
    "                    last_sub = sub_subpackets[-1]\n",
    "                    if \"subpackets_end\" in last_sub.keys():\n",
    "                        last_sub_end = last_sub[\"subpackets_end\"]\n",
    "                    elif \"packet_end\" in last_sub.keys():\n",
    "                        last_sub_end = last_sub[\"packet_end\"]\n",
    "                    subpackets_current_count += len(sub_subpackets)\n",
    "                    subpackets_current_length += (last_sub_end - sub_subpackets[0][\"packet_start\"])\n",
    "                    subpacket_start = last_sub_end\n",
    "                    subpackets.extend(sub_subpackets)\n",
    "            subpackets.append(subpacket)\n",
    "        return subpackets"
   ]
  },
  {
   "cell_type": "code",
   "execution_count": 293,
   "id": "d1e5d9fe-4509-4f47-810d-304cc8ba41a4",
   "metadata": {},
   "outputs": [],
   "source": [
    "def get_all_packets(hex_string):\n",
    "    packets = []\n",
    "    bin_string = hex_to_binary(hex_string)\n",
    "    first_packet = get_packet_header(bin_string, 0)\n",
    "    packets.append(first_packet)\n",
    "    next_packets = get_subpackets(bin_string, first_packet)\n",
    "    packets.extend(next_packets)\n",
    "    return packets"
   ]
  },
  {
   "cell_type": "code",
   "execution_count": 294,
   "id": "a92a07d8-40a4-469a-8a24-f765ba113ce0",
   "metadata": {},
   "outputs": [],
   "source": [
    "def sum_version_numbers(subpackets):\n",
    "    version_sum = 0\n",
    "    for p in subpackets:\n",
    "        version_sum += p[\"version\"]\n",
    "    return version_sum"
   ]
  },
  {
   "cell_type": "code",
   "execution_count": 295,
   "id": "3a94acc5-934a-4163-9d73-f285102d7b95",
   "metadata": {},
   "outputs": [
    {
     "data": {
      "text/plain": [
       "16"
      ]
     },
     "execution_count": 295,
     "metadata": {},
     "output_type": "execute_result"
    }
   ],
   "source": [
    "t4_packets = get_all_packets(test4)\n",
    "sum_version_numbers(t4_packets)"
   ]
  },
  {
   "cell_type": "code",
   "execution_count": 296,
   "id": "0bc5bf3b-72d1-4b38-8f4a-cde23f02e89a",
   "metadata": {},
   "outputs": [
    {
     "data": {
      "text/plain": [
       "12"
      ]
     },
     "execution_count": 296,
     "metadata": {},
     "output_type": "execute_result"
    }
   ],
   "source": [
    "t5_packets = get_all_packets(test5)\n",
    "sum_version_numbers(t5_packets)"
   ]
  },
  {
   "cell_type": "code",
   "execution_count": 297,
   "id": "3d4f00fb-3271-439d-a36f-cc97460d9499",
   "metadata": {},
   "outputs": [
    {
     "ename": "KeyError",
     "evalue": "'num_subpackets'",
     "output_type": "error",
     "traceback": [
      "\u001b[0;31m---------------------------------------------------------------------------\u001b[0m",
      "\u001b[0;31mKeyError\u001b[0m                                  Traceback (most recent call last)",
      "\u001b[0;32m<ipython-input-297-708b48368062>\u001b[0m in \u001b[0;36m<module>\u001b[0;34m\u001b[0m\n\u001b[0;32m----> 1\u001b[0;31m \u001b[0mt6_packets\u001b[0m \u001b[0;34m=\u001b[0m \u001b[0mget_all_packets\u001b[0m\u001b[0;34m(\u001b[0m\u001b[0mtest6\u001b[0m\u001b[0;34m)\u001b[0m\u001b[0;34m\u001b[0m\u001b[0;34m\u001b[0m\u001b[0m\n\u001b[0m\u001b[1;32m      2\u001b[0m \u001b[0msum_version_numbers\u001b[0m\u001b[0;34m(\u001b[0m\u001b[0mt6_packets\u001b[0m\u001b[0;34m)\u001b[0m\u001b[0;34m\u001b[0m\u001b[0;34m\u001b[0m\u001b[0m\n",
      "\u001b[0;32m<ipython-input-293-6c12c3c97e66>\u001b[0m in \u001b[0;36mget_all_packets\u001b[0;34m(hex_string)\u001b[0m\n\u001b[1;32m      4\u001b[0m     \u001b[0mfirst_packet\u001b[0m \u001b[0;34m=\u001b[0m \u001b[0mget_packet_header\u001b[0m\u001b[0;34m(\u001b[0m\u001b[0mbin_string\u001b[0m\u001b[0;34m,\u001b[0m \u001b[0;36m0\u001b[0m\u001b[0;34m)\u001b[0m\u001b[0;34m\u001b[0m\u001b[0;34m\u001b[0m\u001b[0m\n\u001b[1;32m      5\u001b[0m     \u001b[0mpackets\u001b[0m\u001b[0;34m.\u001b[0m\u001b[0mappend\u001b[0m\u001b[0;34m(\u001b[0m\u001b[0mfirst_packet\u001b[0m\u001b[0;34m)\u001b[0m\u001b[0;34m\u001b[0m\u001b[0;34m\u001b[0m\u001b[0m\n\u001b[0;32m----> 6\u001b[0;31m     \u001b[0mnext_packets\u001b[0m \u001b[0;34m=\u001b[0m \u001b[0mget_subpackets\u001b[0m\u001b[0;34m(\u001b[0m\u001b[0mbin_string\u001b[0m\u001b[0;34m,\u001b[0m \u001b[0mfirst_packet\u001b[0m\u001b[0;34m)\u001b[0m\u001b[0;34m\u001b[0m\u001b[0;34m\u001b[0m\u001b[0m\n\u001b[0m\u001b[1;32m      7\u001b[0m     \u001b[0mpackets\u001b[0m\u001b[0;34m.\u001b[0m\u001b[0mextend\u001b[0m\u001b[0;34m(\u001b[0m\u001b[0mnext_packets\u001b[0m\u001b[0;34m)\u001b[0m\u001b[0;34m\u001b[0m\u001b[0;34m\u001b[0m\u001b[0m\n\u001b[1;32m      8\u001b[0m     \u001b[0;32mreturn\u001b[0m \u001b[0mpackets\u001b[0m\u001b[0;34m\u001b[0m\u001b[0;34m\u001b[0m\u001b[0m\n",
      "\u001b[0;32m<ipython-input-292-9037ad335b71>\u001b[0m in \u001b[0;36mget_subpackets\u001b[0;34m(bin_string, packet)\u001b[0m\n\u001b[1;32m     33\u001b[0m                     \u001b[0msubpackets\u001b[0m\u001b[0;34m.\u001b[0m\u001b[0mextend\u001b[0m\u001b[0;34m(\u001b[0m\u001b[0msub_subpackets\u001b[0m\u001b[0;34m)\u001b[0m\u001b[0;34m\u001b[0m\u001b[0;34m\u001b[0m\u001b[0m\n\u001b[1;32m     34\u001b[0m                 \u001b[0;32melse\u001b[0m\u001b[0;34m:\u001b[0m\u001b[0;34m\u001b[0m\u001b[0;34m\u001b[0m\u001b[0m\n\u001b[0;32m---> 35\u001b[0;31m                     \u001b[0msub_subpackets\u001b[0m \u001b[0;34m=\u001b[0m \u001b[0mget_subpackets\u001b[0m\u001b[0;34m(\u001b[0m\u001b[0mbin_string\u001b[0m\u001b[0;34m,\u001b[0m \u001b[0msubpacket\u001b[0m\u001b[0;34m)\u001b[0m\u001b[0;34m\u001b[0m\u001b[0;34m\u001b[0m\u001b[0m\n\u001b[0m\u001b[1;32m     36\u001b[0m                     \u001b[0mlast_sub\u001b[0m \u001b[0;34m=\u001b[0m \u001b[0msub_subpackets\u001b[0m\u001b[0;34m[\u001b[0m\u001b[0;34m-\u001b[0m\u001b[0;36m1\u001b[0m\u001b[0;34m]\u001b[0m\u001b[0;34m\u001b[0m\u001b[0;34m\u001b[0m\u001b[0m\n\u001b[1;32m     37\u001b[0m                     \u001b[0;32mif\u001b[0m \u001b[0;34m\"subpackets_end\"\u001b[0m \u001b[0;32min\u001b[0m \u001b[0mlast_sub\u001b[0m\u001b[0;34m.\u001b[0m\u001b[0mkeys\u001b[0m\u001b[0;34m(\u001b[0m\u001b[0;34m)\u001b[0m\u001b[0;34m:\u001b[0m\u001b[0;34m\u001b[0m\u001b[0;34m\u001b[0m\u001b[0m\n",
      "\u001b[0;32m<ipython-input-292-9037ad335b71>\u001b[0m in \u001b[0;36mget_subpackets\u001b[0;34m(bin_string, packet)\u001b[0m\n\u001b[1;32m      9\u001b[0m             \u001b[0msubpacket_total\u001b[0m \u001b[0;34m=\u001b[0m \u001b[0;36m1000000\u001b[0m \u001b[0;31m# placeholder\u001b[0m\u001b[0;34m\u001b[0m\u001b[0;34m\u001b[0m\u001b[0m\n\u001b[1;32m     10\u001b[0m         \u001b[0;32melse\u001b[0m\u001b[0;34m:\u001b[0m\u001b[0;34m\u001b[0m\u001b[0;34m\u001b[0m\u001b[0m\n\u001b[0;32m---> 11\u001b[0;31m             \u001b[0msubpacket_total\u001b[0m \u001b[0;34m=\u001b[0m \u001b[0mpacket\u001b[0m\u001b[0;34m[\u001b[0m\u001b[0;34m\"num_subpackets\"\u001b[0m\u001b[0;34m]\u001b[0m\u001b[0;34m\u001b[0m\u001b[0;34m\u001b[0m\u001b[0m\n\u001b[0m\u001b[1;32m     12\u001b[0m             \u001b[0msubpacket_length\u001b[0m \u001b[0;34m=\u001b[0m \u001b[0;36m1000000\u001b[0m \u001b[0;31m# placeholder\u001b[0m\u001b[0;34m\u001b[0m\u001b[0;34m\u001b[0m\u001b[0m\n\u001b[1;32m     13\u001b[0m \u001b[0;34m\u001b[0m\u001b[0m\n",
      "\u001b[0;31mKeyError\u001b[0m: 'num_subpackets'"
     ]
    }
   ],
   "source": [
    "t6_packets = get_all_packets(test6)\n",
    "sum_version_numbers(t6_packets)"
   ]
  },
  {
   "cell_type": "code",
   "execution_count": 298,
   "id": "de20d944-1177-401c-99af-97785757bed0",
   "metadata": {},
   "outputs": [
    {
     "ename": "UnboundLocalError",
     "evalue": "local variable 'last_sub_end' referenced before assignment",
     "output_type": "error",
     "traceback": [
      "\u001b[0;31m---------------------------------------------------------------------------\u001b[0m",
      "\u001b[0;31mUnboundLocalError\u001b[0m                         Traceback (most recent call last)",
      "\u001b[0;32m<ipython-input-298-a52672af586f>\u001b[0m in \u001b[0;36m<module>\u001b[0;34m\u001b[0m\n\u001b[0;32m----> 1\u001b[0;31m \u001b[0mt7_packets\u001b[0m \u001b[0;34m=\u001b[0m \u001b[0mget_all_packets\u001b[0m\u001b[0;34m(\u001b[0m\u001b[0mtest7\u001b[0m\u001b[0;34m)\u001b[0m\u001b[0;34m\u001b[0m\u001b[0;34m\u001b[0m\u001b[0m\n\u001b[0m\u001b[1;32m      2\u001b[0m \u001b[0msum_version_numbers\u001b[0m\u001b[0;34m(\u001b[0m\u001b[0mt7_packets\u001b[0m\u001b[0;34m)\u001b[0m\u001b[0;34m\u001b[0m\u001b[0;34m\u001b[0m\u001b[0m\n",
      "\u001b[0;32m<ipython-input-293-6c12c3c97e66>\u001b[0m in \u001b[0;36mget_all_packets\u001b[0;34m(hex_string)\u001b[0m\n\u001b[1;32m      4\u001b[0m     \u001b[0mfirst_packet\u001b[0m \u001b[0;34m=\u001b[0m \u001b[0mget_packet_header\u001b[0m\u001b[0;34m(\u001b[0m\u001b[0mbin_string\u001b[0m\u001b[0;34m,\u001b[0m \u001b[0;36m0\u001b[0m\u001b[0;34m)\u001b[0m\u001b[0;34m\u001b[0m\u001b[0;34m\u001b[0m\u001b[0m\n\u001b[1;32m      5\u001b[0m     \u001b[0mpackets\u001b[0m\u001b[0;34m.\u001b[0m\u001b[0mappend\u001b[0m\u001b[0;34m(\u001b[0m\u001b[0mfirst_packet\u001b[0m\u001b[0;34m)\u001b[0m\u001b[0;34m\u001b[0m\u001b[0;34m\u001b[0m\u001b[0m\n\u001b[0;32m----> 6\u001b[0;31m     \u001b[0mnext_packets\u001b[0m \u001b[0;34m=\u001b[0m \u001b[0mget_subpackets\u001b[0m\u001b[0;34m(\u001b[0m\u001b[0mbin_string\u001b[0m\u001b[0;34m,\u001b[0m \u001b[0mfirst_packet\u001b[0m\u001b[0;34m)\u001b[0m\u001b[0;34m\u001b[0m\u001b[0;34m\u001b[0m\u001b[0m\n\u001b[0m\u001b[1;32m      7\u001b[0m     \u001b[0mpackets\u001b[0m\u001b[0;34m.\u001b[0m\u001b[0mextend\u001b[0m\u001b[0;34m(\u001b[0m\u001b[0mnext_packets\u001b[0m\u001b[0;34m)\u001b[0m\u001b[0;34m\u001b[0m\u001b[0;34m\u001b[0m\u001b[0m\n\u001b[1;32m      8\u001b[0m     \u001b[0;32mreturn\u001b[0m \u001b[0mpackets\u001b[0m\u001b[0;34m\u001b[0m\u001b[0;34m\u001b[0m\u001b[0m\n",
      "\u001b[0;32m<ipython-input-292-9037ad335b71>\u001b[0m in \u001b[0;36mget_subpackets\u001b[0;34m(bin_string, packet)\u001b[0m\n\u001b[1;32m     40\u001b[0m                         \u001b[0mlast_sub_end\u001b[0m \u001b[0;34m=\u001b[0m \u001b[0mlast_sub\u001b[0m\u001b[0;34m[\u001b[0m\u001b[0;34m\"packet_end\"\u001b[0m\u001b[0;34m]\u001b[0m\u001b[0;34m\u001b[0m\u001b[0;34m\u001b[0m\u001b[0m\n\u001b[1;32m     41\u001b[0m                     \u001b[0msubpackets_current_count\u001b[0m \u001b[0;34m+=\u001b[0m \u001b[0mlen\u001b[0m\u001b[0;34m(\u001b[0m\u001b[0msub_subpackets\u001b[0m\u001b[0;34m)\u001b[0m\u001b[0;34m\u001b[0m\u001b[0;34m\u001b[0m\u001b[0m\n\u001b[0;32m---> 42\u001b[0;31m                     \u001b[0msubpackets_current_length\u001b[0m \u001b[0;34m+=\u001b[0m \u001b[0;34m(\u001b[0m\u001b[0mlast_sub_end\u001b[0m \u001b[0;34m-\u001b[0m \u001b[0msub_subpackets\u001b[0m\u001b[0;34m[\u001b[0m\u001b[0;36m0\u001b[0m\u001b[0;34m]\u001b[0m\u001b[0;34m[\u001b[0m\u001b[0;34m\"packet_start\"\u001b[0m\u001b[0;34m]\u001b[0m\u001b[0;34m)\u001b[0m\u001b[0;34m\u001b[0m\u001b[0;34m\u001b[0m\u001b[0m\n\u001b[0m\u001b[1;32m     43\u001b[0m                     \u001b[0msubpacket_start\u001b[0m \u001b[0;34m=\u001b[0m \u001b[0mlast_sub_end\u001b[0m\u001b[0;34m\u001b[0m\u001b[0;34m\u001b[0m\u001b[0m\n\u001b[1;32m     44\u001b[0m                     \u001b[0msubpackets\u001b[0m\u001b[0;34m.\u001b[0m\u001b[0mextend\u001b[0m\u001b[0;34m(\u001b[0m\u001b[0msub_subpackets\u001b[0m\u001b[0;34m)\u001b[0m\u001b[0;34m\u001b[0m\u001b[0;34m\u001b[0m\u001b[0m\n",
      "\u001b[0;31mUnboundLocalError\u001b[0m: local variable 'last_sub_end' referenced before assignment"
     ]
    }
   ],
   "source": [
    "t7_packets = get_all_packets(test7)\n",
    "sum_version_numbers(t7_packets)"
   ]
  },
  {
   "cell_type": "code",
   "execution_count": null,
   "id": "02aeab46-9774-43f1-9b7b-17137bafa978",
   "metadata": {},
   "outputs": [],
   "source": []
  }
 ],
 "metadata": {
  "kernelspec": {
   "display_name": "Python 3",
   "language": "python",
   "name": "python3"
  },
  "language_info": {
   "codemirror_mode": {
    "name": "ipython",
    "version": 3
   },
   "file_extension": ".py",
   "mimetype": "text/x-python",
   "name": "python",
   "nbconvert_exporter": "python",
   "pygments_lexer": "ipython3",
   "version": "3.8.8"
  }
 },
 "nbformat": 4,
 "nbformat_minor": 5
}
