{
 "cells": [
  {
   "cell_type": "markdown",
   "id": "008435fb-5d39-4723-83ca-4e646b455457",
   "metadata": {},
   "source": [
    "# AoC Day 16\n",
    "\n",
    "Jenna Jordan\n",
    "\n",
    "16 December 2021\n",
    "\n",
    "## Prompt\n",
    "\n",
    "--- Day 16: Packet Decoder ---\n",
    "\n",
    "As you leave the cave and reach open waters, you receive a transmission from the Elves back on the ship.\n",
    "\n",
    "The transmission was sent using the Buoyancy Interchange Transmission System (BITS), a method of packing numeric expressions into a binary sequence. Your submarine's computer has saved the transmission in hexadecimal (your puzzle input).\n",
    "\n",
    "The first step of decoding the message is to convert the hexadecimal representation into binary. Each character of hexadecimal corresponds to four bits of binary data:\n",
    "\n",
    "```\n",
    "0 = 0000\n",
    "1 = 0001\n",
    "2 = 0010\n",
    "3 = 0011\n",
    "4 = 0100\n",
    "5 = 0101\n",
    "6 = 0110\n",
    "7 = 0111\n",
    "8 = 1000\n",
    "9 = 1001\n",
    "A = 1010\n",
    "B = 1011\n",
    "C = 1100\n",
    "D = 1101\n",
    "E = 1110\n",
    "F = 1111\n",
    "```\n",
    "\n",
    "The BITS transmission contains a single packet at its outermost layer which itself contains many other packets. The hexadecimal representation of this packet might encode a few extra 0 bits at the end; these are not part of the transmission and should be ignored.\n",
    "\n",
    "Every packet begins with a standard header: the first three bits encode the packet version, and the next three bits encode the packet type ID. These two values are numbers; all numbers encoded in any packet are represented as binary with the most significant bit first. For example, a version encoded as the binary sequence 100 represents the number 4.\n",
    "\n",
    "Packets with type ID 4 represent a literal value. Literal value packets encode a single binary number. To do this, the binary number is padded with leading zeroes until its length is a multiple of four bits, and then it is broken into groups of four bits. Each group is prefixed by a 1 bit except the last group, which is prefixed by a 0 bit. These groups of five bits immediately follow the packet header. For example, the hexadecimal string `D2FE28` becomes:\n",
    "\n",
    "```\n",
    "110100101111111000101000\n",
    "VVVTTTAAAAABBBBBCCCCC\n",
    "```\n",
    "\n",
    "Below each bit is a label indicating its purpose:\n",
    "\n",
    "- The three bits labeled `V` (`110`) are the packet version, `6`.\n",
    "- The three bits labeled `T` (`100`) are the packet type ID, `4`, which means the packet is a literal value.\n",
    "- The five bits labeled `A` (`10111`) start with a `1` (not the last group, keep reading) and contain the first four bits of the number, 0111.\n",
    "- The five bits labeled `B` (`11110`) start with a `1` (not the last group, keep reading) and contain four more bits of the number, `1110`.\n",
    "- The five bits labeled `C` (`00101`) start with a `0` (last group, end of packet) and contain the last four bits of the number, `0101`.\n",
    "- The three unlabeled 0 bits at the end are extra due to the hexadecimal representation and should be ignored.\n",
    "\n",
    "So, this packet represents a literal value with binary representation `011111100101`, which is `2021` in decimal.\n",
    "\n",
    "Every other type of packet (any packet with a type ID other than 4) represent an operator that performs some calculation on one or more sub-packets contained within. Right now, the specific operations aren't important; focus on parsing the hierarchy of sub-packets.\n",
    "\n",
    "An operator packet contains one or more packets. To indicate which subsequent binary data represents its sub-packets, an operator packet can use one of two modes indicated by the bit immediately after the packet header; this is called the length type ID:\n",
    "\n",
    "- If the length type ID is 0, then the next 15 bits are a number that represents the total length in bits of the sub-packets contained by this packet.\n",
    "- If the length type ID is 1, then the next 11 bits are a number that represents the number of sub-packets immediately contained by this packet.\n",
    "\n",
    "Finally, after the length type ID bit and the 15-bit or 11-bit field, the sub-packets appear.\n",
    "\n",
    "For example, here is an operator packet (hexadecimal string `38006F45291200`) with length type ID `0` that contains two sub-packets:\n",
    "\n",
    "```\n",
    "00111000000000000110111101000101001010010001001000000000\n",
    "VVVTTTILLLLLLLLLLLLLLLAAAAAAAAAAABBBBBBBBBBBBBBBB\n",
    "```\n",
    "\n",
    "- The three bits labeled V (001) are the packet version, 1.\n",
    "- The three bits labeled T (110) are the packet type ID, 6, which means the packet is an operator.\n",
    "- The bit labeled I (0) is the length type ID, which indicates that the length is a 15-bit number representing the number of bits in the sub-packets.\n",
    "- The 15 bits labeled L (000000000011011) contain the length of the sub-packets in bits, 27.\n",
    "- The 11 bits labeled A contain the first sub-packet, a literal value representing the number 10.\n",
    "- The 16 bits labeled B contain the second sub-packet, a literal value representing the number 20.\n",
    "\n",
    "After reading 11 and 16 bits of sub-packet data, the total length indicated in `L` (`27`) is reached, and so parsing of this packet stops.\n",
    "\n",
    "As another example, here is an operator packet (hexadecimal string `EE00D40C823060`) with length type ID 1 that contains three sub-packets:\n",
    "\n",
    "```\n",
    "11101110000000001101010000001100100000100011000001100000\n",
    "VVVTTTILLLLLLLLLLLAAAAAAAAAAABBBBBBBBBBBCCCCCCCCCCC\n",
    "```\n",
    "\n",
    "- The three bits labeled V (111) are the packet version, 7.\n",
    "- The three bits labeled T (011) are the packet type ID, 3, which means the packet is an operator.\n",
    "- The bit labeled I (1) is the length type ID, which indicates that the length is a 11-bit number representing the number of sub-packets.\n",
    "- The 11 bits labeled L (00000000011) contain the number of sub-packets, 3.\n",
    "- The 11 bits labeled A contain the first sub-packet, a literal value representing the number 1.\n",
    "- The 11 bits labeled B contain the second sub-packet, a literal value representing the number 2.\n",
    "- The 11 bits labeled C contain the third sub-packet, a literal value representing the number 3.\n",
    "\n",
    "After reading 3 complete sub-packets, the number of sub-packets indicated in L (3) is reached, and so parsing of this packet stops.\n",
    "\n",
    "For now, parse the hierarchy of the packets throughout the transmission and add up all of the version numbers.\n",
    "\n",
    "Here are a few more examples of hexadecimal-encoded transmissions:\n",
    "\n",
    "- `8A004A801A8002F478` represents an operator packet (version 4) which contains an operator packet (version 1) which contains an operator packet (version 5) which contains a literal value (version 6); this packet has a version sum of 16.\n",
    "- `620080001611562C8802118E34` represents an operator packet (version 3) which contains two sub-packets; each sub-packet is an operator packet that contains two literal values. This packet has a version sum of 12.\n",
    "- `C0015000016115A2E0802F182340` has the same structure as the previous example, but the outermost packet uses a different length type ID. This packet has a version sum of 23.\n",
    "- `A0016C880162017C3686B18A3D4780` is an operator packet that contains an operator packet that contains an operator packet that contains five literal values; it has a version sum of 31.\n",
    "\n",
    "Decode the structure of your hexadecimal-encoded BITS transmission; what do you get if you add up the version numbers in all packets?"
   ]
  },
  {
   "cell_type": "code",
   "execution_count": 45,
   "id": "d6748cea-a8be-48b5-9f8d-6d16a900b5e3",
   "metadata": {},
   "outputs": [],
   "source": [
    "# get input\n",
    "\n",
    "with open(\"inputs/day16.txt\") as file:\n",
    "    inputs = file.read().rstrip()\n",
    "\n",
    "test1 = 'D2FE28'\n",
    "test2 = '38006F45291200'\n",
    "test3 = 'EE00D40C823060'\n",
    "test4 = '8A004A801A8002F478'\n",
    "test5 = '620080001611562C8802118E34'\n",
    "test6 = 'C0015000016115A2E0802F182340'\n",
    "test7 = 'A0016C880162017C3686B18A3D4780'"
   ]
  },
  {
   "cell_type": "code",
   "execution_count": null,
   "id": "9269a159-3576-43de-b7b9-a1201f88dc07",
   "metadata": {},
   "outputs": [],
   "source": [
    "all_packets = []"
   ]
  },
  {
   "cell_type": "code",
   "execution_count": 64,
   "id": "de58c7b4-4ba1-4e13-9bf2-2ba08550d492",
   "metadata": {},
   "outputs": [],
   "source": [
    "def hex_to_binary(hex_string):\n",
    "    int_form = int(hex_string, base=16)\n",
    "    bin_form = bin(int_form)\n",
    "    bin_length = len(hex_string) * 4\n",
    "    return str(bin_form)[2:].zfill(bin_length)"
   ]
  },
  {
   "cell_type": "code",
   "execution_count": 78,
   "id": "8583f42a-1303-4cb0-ae13-e58a1615cb51",
   "metadata": {},
   "outputs": [],
   "source": [
    "def get_packet_header(bin_string, packet_start_index):\n",
    "    version = int(bin_string[packet_start_index : packet_start_index + 3], 2)\n",
    "    type_id = int(bin_string[packet_start_index + 3 : packet_start_index + 6], 2)\n",
    "    if type_id == 4:\n",
    "        return {\"version\": version, \"type\": \"literal\", \"packet_start\": packet_start_index}\n",
    "    else:\n",
    "        return {\"version\": version, \"type\": \"operator\", \"packet_start\": packet_start_index}"
   ]
  },
  {
   "cell_type": "code",
   "execution_count": 82,
   "id": "7a13dbe7-7e5e-4c4f-a9bb-f49e5c3f025a",
   "metadata": {},
   "outputs": [],
   "source": [
    "def get_literal_value(bin_string, packet: dict):\n",
    "    # remember to return length of packet\n",
    "    packet_start_index = packet[\"packet_start\"]\n",
    "    literal_start_index = packet_start_index + 6\n",
    "    last_chunk = False\n",
    "    literal_str = ''\n",
    "    while not last_chunk:\n",
    "        next_chunk = bin_string[literal_start_index:literal_start_index+5]\n",
    "        if next_chunk[0] == '0':\n",
    "            last_chunk = True\n",
    "        chunk_num = next_chunk[1:]\n",
    "        literal_str += str(chunk_num)\n",
    "        literal_start_index += 5\n",
    "    packet[\"literal_value\"] = int(literal_str, 2)\n",
    "    packet[\"packet_end\"] = literal_start_index\n",
    "    return packet"
   ]
  },
  {
   "cell_type": "code",
   "execution_count": 88,
   "id": "7a31ba0a-9c6e-4c0a-824d-b7bd935fdc01",
   "metadata": {},
   "outputs": [],
   "source": [
    "def get_operator_metadata(bin_string, packet: dict):\n",
    "    packet_start_index = packet[\"packet_start\"]\n",
    "    length_type_id = bin_string[packet_start_index + 6: packet_start_index + 7]\n",
    "    if length_type_id == '0':\n",
    "        # 15 bits\n",
    "        # total length in bits of the sub-packets\n",
    "        # we know number of bits, we don't know number of subpackets\n",
    "        sub_packet_info = bin_string[packet_start_index + 7 : packet_start_index + 7 + 15]\n",
    "        packet[\"subpackets_length\"] = int(sub_packet_info, 2)\n",
    "        packet[\"subpackets_start\"] = packet_start_index + 7 + 15\n",
    "        packet[\"subpackets_end\"] = packet_start_index + 7 + 15 + int(sub_packet_info, 2)\n",
    "    elif length_type_id == '1':\n",
    "        # 11 bits\n",
    "        # number of sub-packets\n",
    "        # we know number of subpackets, we don't know number of bits\n",
    "        sub_packet_info = bin_string[packet_start_index + 7 : packet_start_index + 7 + 11]\n",
    "        packet[\"num_subpackets\"] = int(sub_packet_info, 2)\n",
    "        packet[\"subpackets_start\"] = packet_start_index + 7 + 11\n",
    "    return packet"
   ]
  },
  {
   "cell_type": "code",
   "execution_count": null,
   "id": "733ab8b9-370c-40b8-8063-127fbc3cccae",
   "metadata": {},
   "outputs": [],
   "source": [
    "def get_subpackets(bin_string, packet: dict):\n",
    "    subpackets = []\n",
    "    \n",
    "    if \"subpackets_end\" in subpacket.keys():\n",
    "        subpacket_length = packet[\"subpackets_length\"]\n",
    "        subpacket_total = 100 # placeholder\n",
    "    else:\n",
    "        subpacket_total = packet[\"num_subpackets\"]\n",
    "        subpacket_length = 100 # placeholder\n",
    "    \n",
    "    subpacket_start = packet[\"subpackets_start\"]\n",
    "    subpackets_current_length = 0\n",
    "    subpackets_current_count = 0\n",
    "    while (subpackets_current_length < subpackets_current_length) or (subpackets_current_count < subpacket_total):\n",
    "        subpacket = get_packet_header(bin_string, subpacket_start)\n",
    "        if subpacket[\"type\"] == \"literal\":\n",
    "            subpacket = get_literal_value(bin_string, subpacket)\n",
    "            subpacket_end = subpacket[\"packet_end\"]\n",
    "            subpackets_current_length += (subpacket_end - subpacket_start)\n",
    "            subpackets_current_count += 1\n",
    "        elif subpacket[\"type\"] == \"operator\":\n",
    "            subpacket = get_operator_metadata(bin_string, subpacket)\n",
    "            subpackets_current_count += 1\n",
    "            if \"subpackets_end\" in subpacket.keys():\n",
    "                subpacket_end = subpacket[\"subpackets_end\"]\n",
    "                subpackets_current_length += (subpacket_end - subpacket_start)\n",
    "            else:\n",
    "                pass\n",
    "        subpacket_start += subpackets_current_length\n",
    "        subpackets.append(subpacket)"
   ]
  },
  {
   "cell_type": "code",
   "execution_count": 89,
   "id": "0d682b48-1cad-43ca-8967-b161c0728135",
   "metadata": {},
   "outputs": [],
   "source": [
    "test2_packet = get_packet_header(test2_bin, 0)"
   ]
  },
  {
   "cell_type": "code",
   "execution_count": 90,
   "id": "30639c94-e0ee-42cb-becb-a0f3f0a060d3",
   "metadata": {},
   "outputs": [
    {
     "data": {
      "text/plain": [
       "{'version': 1,\n",
       " 'type': 'operator',\n",
       " 'packet_start': 0,\n",
       " 'subpackets_length': 27,\n",
       " 'subpackets_start': 22,\n",
       " 'subpackets_end': 49}"
      ]
     },
     "execution_count": 90,
     "metadata": {},
     "output_type": "execute_result"
    }
   ],
   "source": [
    "get_operator_metadata(test2_bin, test2_packet)"
   ]
  },
  {
   "cell_type": "code",
   "execution_count": 70,
   "id": "f5794770-e044-490c-9a6f-3ec94cb251f1",
   "metadata": {},
   "outputs": [],
   "source": [
    "test1_bin = hex_to_binary(test1)\n",
    "test2_bin = hex_to_binary(test2)\n",
    "test3_bin = hex_to_binary(test3)\n",
    "test4_bin = hex_to_binary(test4)\n",
    "test5_bin = hex_to_binary(test5)\n",
    "test6_bin = hex_to_binary(test6)\n",
    "test7_bin = hex_to_binary(test7)"
   ]
  },
  {
   "cell_type": "code",
   "execution_count": 75,
   "id": "c8f83ff1-eeb3-4733-9547-bbcdb6314a43",
   "metadata": {},
   "outputs": [
    {
     "name": "stdout",
     "output_type": "stream",
     "text": [
      "6\n",
      "literal\n"
     ]
    }
   ],
   "source": [
    "get_packet_header(test1_bin)"
   ]
  },
  {
   "cell_type": "code",
   "execution_count": null,
   "id": "3a94acc5-934a-4163-9d73-f285102d7b95",
   "metadata": {},
   "outputs": [],
   "source": []
  }
 ],
 "metadata": {
  "kernelspec": {
   "display_name": "Python 3",
   "language": "python",
   "name": "python3"
  },
  "language_info": {
   "codemirror_mode": {
    "name": "ipython",
    "version": 3
   },
   "file_extension": ".py",
   "mimetype": "text/x-python",
   "name": "python",
   "nbconvert_exporter": "python",
   "pygments_lexer": "ipython3",
   "version": "3.8.8"
  }
 },
 "nbformat": 4,
 "nbformat_minor": 5
}
