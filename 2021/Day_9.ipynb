{
 "cells": [
  {
   "cell_type": "markdown",
   "id": "b2f54997-67ff-4770-a7a1-5c7d4578e86f",
   "metadata": {},
   "source": [
    "# AoC Day 9\n",
    "\n",
    "Jenna Jordan\n",
    "\n",
    "9 December 2021\n",
    "\n",
    "## Prompt\n",
    "\n",
    "--- Day 9: Smoke Basin ---\n",
    "\n",
    "These caves seem to be lava tubes. Parts are even still volcanically active; small hydrothermal vents release smoke into the caves that slowly settles like rain.\n",
    "\n",
    "If you can model how the smoke flows through the caves, you might be able to avoid it and be that much safer. The submarine generates a heightmap of the floor of the nearby caves for you (your puzzle input).\n",
    "\n",
    "Smoke flows to the lowest point of the area it's in. For example, consider the following heightmap:\n",
    "\n",
    "```\n",
    "2199943210\n",
    "3987894921\n",
    "9856789892\n",
    "8767896789\n",
    "9899965678\n",
    "```\n",
    "\n",
    "Each number corresponds to the height of a particular location, where 9 is the highest and 0 is the lowest a location can be.\n",
    "\n",
    "Your first goal is to find the low points - the locations that are lower than any of its adjacent locations. Most locations have four adjacent locations (up, down, left, and right); locations on the edge or corner of the map have three or two adjacent locations, respectively. (Diagonal locations do not count as adjacent.)\n",
    "\n",
    "In the above example, there are four low points, all highlighted: two are in the first row (a 1 and a 0), one is in the third row (a 5), and one is in the bottom row (also a 5). All other locations on the heightmap have some lower adjacent location, and so are not low points.\n",
    "\n",
    "The risk level of a low point is 1 plus its height. In the above example, the risk levels of the low points are 2, 1, 6, and 6. The sum of the risk levels of all low points in the heightmap is therefore 15.\n",
    "\n",
    "Find all of the low points on your heightmap. What is the sum of the risk levels of all low points on your heightmap?"
   ]
  },
  {
   "cell_type": "code",
   "execution_count": 1,
   "id": "97a5d2d1-f5ac-4b29-aef2-6e3cf53fe908",
   "metadata": {},
   "outputs": [],
   "source": [
    "# get input\n",
    "\n",
    "with open(\"inputs/day9.txt\") as file:\n",
    "    inputs = file.read().splitlines()\n",
    "\n",
    "test_inputs = [\"2199943210\",\"3987894921\",\"9856789892\",\"8767896789\",\"9899965678\"]"
   ]
  },
  {
   "cell_type": "code",
   "execution_count": 2,
   "id": "9617b156-f51d-490d-bbb5-abb5e62d6676",
   "metadata": {},
   "outputs": [],
   "source": [
    "def gridify(inputs):\n",
    "    grid = []\n",
    "    for line in inputs:\n",
    "        grid.append([int(n) for n in list(line)])\n",
    "    return grid"
   ]
  },
  {
   "cell_type": "code",
   "execution_count": 3,
   "id": "b1c3c2d7-5cb1-4897-b96f-786b2199db13",
   "metadata": {},
   "outputs": [],
   "source": [
    "test_grid = gridify(test_inputs)"
   ]
  },
  {
   "cell_type": "code",
   "execution_count": 4,
   "id": "9f740dda-5de5-4140-8f82-d03fac85b8c9",
   "metadata": {},
   "outputs": [
    {
     "data": {
      "text/plain": [
       "[[2, 1, 9, 9, 9, 4, 3, 2, 1, 0],\n",
       " [3, 9, 8, 7, 8, 9, 4, 9, 2, 1],\n",
       " [9, 8, 5, 6, 7, 8, 9, 8, 9, 2],\n",
       " [8, 7, 6, 7, 8, 9, 6, 7, 8, 9],\n",
       " [9, 8, 9, 9, 9, 6, 5, 6, 7, 8]]"
      ]
     },
     "execution_count": 4,
     "metadata": {},
     "output_type": "execute_result"
    }
   ],
   "source": [
    "test_grid"
   ]
  },
  {
   "cell_type": "code",
   "execution_count": 5,
   "id": "da3a6cfc-a6cb-43ac-a591-310f360d4d6c",
   "metadata": {},
   "outputs": [],
   "source": [
    "def test_for_lower_adjacency(grid, position):\n",
    "    \"Will return FALSE if position is a low point\"\n",
    "    # position = (row, column)\n",
    "    has_lower_adjacency = False\n",
    "    row_max = len(grid) - 1\n",
    "    column_max = len(grid[0]) - 1\n",
    "    pos_value = grid[position[0]][position[1]]\n",
    "    if position[0] > 0:\n",
    "        up_value = grid[position[0]-1][position[1]]\n",
    "        if up_value <= pos_value:\n",
    "            has_lower_adjacency = True\n",
    "    if position[0] < row_max:\n",
    "        down_value = grid[position[0]+1][position[1]]\n",
    "        if down_value <= pos_value:\n",
    "            has_lower_adjacency = True\n",
    "    if position[1] > 0:\n",
    "        left_value = grid[position[0]][position[1]-1]\n",
    "        if left_value <= pos_value:\n",
    "            has_lower_adjacency = True\n",
    "    if position[1] < column_max:\n",
    "        right_value = grid[position[0]][position[1]+1]\n",
    "        if right_value <= pos_value:\n",
    "            has_lower_adjacency = True\n",
    "    return has_lower_adjacency"
   ]
  },
  {
   "cell_type": "code",
   "execution_count": 6,
   "id": "e3559100-9e96-4bef-a4d5-5f75c1ef97d9",
   "metadata": {},
   "outputs": [
    {
     "data": {
      "text/plain": [
       "True"
      ]
     },
     "execution_count": 6,
     "metadata": {},
     "output_type": "execute_result"
    }
   ],
   "source": [
    "test_for_lower_adjacency(test_grid, (4,0))"
   ]
  },
  {
   "cell_type": "code",
   "execution_count": 7,
   "id": "11b1e1d8-c82f-48ed-a46c-8491dda545b9",
   "metadata": {},
   "outputs": [],
   "source": [
    "def find_low_points(grid):\n",
    "    low_points = []\n",
    "    positions = []\n",
    "    for row in range(len(grid)):\n",
    "        for column in range(len(grid[0])):\n",
    "            pos = (row, column)\n",
    "            positions.append(pos)\n",
    "    for pos in positions:\n",
    "        has_lower_adjacent = test_for_lower_adjacency(grid, pos)\n",
    "        if not has_lower_adjacent:\n",
    "            low_points.append(pos)\n",
    "    return low_points "
   ]
  },
  {
   "cell_type": "code",
   "execution_count": 8,
   "id": "37b2ff0f-3de9-4da4-9d7b-9d926763ef83",
   "metadata": {},
   "outputs": [
    {
     "data": {
      "text/plain": [
       "[(0, 1), (0, 9), (2, 2), (4, 6)]"
      ]
     },
     "execution_count": 8,
     "metadata": {},
     "output_type": "execute_result"
    }
   ],
   "source": [
    "find_low_points(test_grid)"
   ]
  },
  {
   "cell_type": "code",
   "execution_count": 9,
   "id": "0ae4e884-9987-401a-ae0a-2e1ae9fa5dc9",
   "metadata": {},
   "outputs": [],
   "source": [
    "def calculate_total_risk(grid, low_points):\n",
    "    total_risk = 0\n",
    "    for pos in low_points:\n",
    "        val = grid[pos[0]][pos[1]]\n",
    "        total_risk += val + 1\n",
    "    return total_risk"
   ]
  },
  {
   "cell_type": "code",
   "execution_count": 10,
   "id": "bb70ec5e-4cc2-4e0e-b51f-5cda3a780b60",
   "metadata": {},
   "outputs": [
    {
     "data": {
      "text/plain": [
       "15"
      ]
     },
     "execution_count": 10,
     "metadata": {},
     "output_type": "execute_result"
    }
   ],
   "source": [
    "test_low_points = find_low_points(test_grid)\n",
    "calculate_total_risk(test_grid, test_low_points)"
   ]
  },
  {
   "cell_type": "code",
   "execution_count": 11,
   "id": "cd6bb67d-3c16-43cf-97fa-dc819f41be25",
   "metadata": {},
   "outputs": [
    {
     "data": {
      "text/plain": [
       "600"
      ]
     },
     "execution_count": 11,
     "metadata": {},
     "output_type": "execute_result"
    }
   ],
   "source": [
    "grid = gridify(inputs)\n",
    "low_points = find_low_points(grid)\n",
    "calculate_total_risk(grid, low_points)"
   ]
  },
  {
   "cell_type": "markdown",
   "id": "bfbad174-b6bd-4c28-ba29-244fd6d17844",
   "metadata": {},
   "source": [
    "### Part 1 Solution\n",
    "\n",
    "600 - CORRRECT\n",
    "\n",
    "At first I submitted 1640, which was too high. The error was that it was counting a point as the lowest even if it was equal to an adjacent point. This was difficult to resolve b/c there was no equivalent case in the test example."
   ]
  },
  {
   "cell_type": "markdown",
   "id": "20897663-f8ba-4484-93d4-d2f63895812f",
   "metadata": {},
   "source": [
    "--- Part Two ---\n",
    "\n",
    "Next, you need to find the largest basins so you know what areas are most important to avoid.\n",
    "\n",
    "A basin is all locations that eventually flow downward to a single low point. Therefore, every low point has a basin, although some basins are very small. Locations of height 9 do not count as being in any basin, and all other locations will always be part of exactly one basin.\n",
    "\n",
    "The size of a basin is the number of locations within the basin, including the low point. The example above has four basins.\n",
    "\n",
    "The top-left basin, size 3:\n",
    "\n",
    "```\n",
    "2199943210\n",
    "3987894921\n",
    "9856789892\n",
    "8767896789\n",
    "9899965678\n",
    "```\n",
    "\n",
    "The top-right basin, size 9:\n",
    "\n",
    "```\n",
    "2199943210\n",
    "3987894921\n",
    "9856789892\n",
    "8767896789\n",
    "9899965678\n",
    "```\n",
    "\n",
    "The middle basin, size 14:\n",
    "\n",
    "```\n",
    "2199943210\n",
    "3987894921\n",
    "9856789892\n",
    "8767896789\n",
    "9899965678\n",
    "```\n",
    "\n",
    "The bottom-right basin, size 9:\n",
    "\n",
    "```\n",
    "2199943210\n",
    "3987894921\n",
    "9856789892\n",
    "8767896789\n",
    "9899965678\n",
    "```\n",
    "\n",
    "Find the three largest basins and multiply their sizes together. In the above example, this is 9 * 14 * 9 = 1134.\n",
    "\n",
    "What do you get if you multiply together the sizes of the three largest basins?"
   ]
  },
  {
   "cell_type": "code",
   "execution_count": null,
   "id": "c7a88773-c96f-47fc-b551-21b30fd8e51c",
   "metadata": {},
   "outputs": [],
   "source": [
    "def find_next_basin_position(positions:list):\n",
    "    \n",
    "    if stop_condition:\n",
    "        return\n",
    "    else:\n",
    "        find_next_basin_position(positions)"
   ]
  }
 ],
 "metadata": {
  "kernelspec": {
   "display_name": "Python 3",
   "language": "python",
   "name": "python3"
  },
  "language_info": {
   "codemirror_mode": {
    "name": "ipython",
    "version": 3
   },
   "file_extension": ".py",
   "mimetype": "text/x-python",
   "name": "python",
   "nbconvert_exporter": "python",
   "pygments_lexer": "ipython3",
   "version": "3.8.8"
  }
 },
 "nbformat": 4,
 "nbformat_minor": 5
}
