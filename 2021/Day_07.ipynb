{
 "cells": [
  {
   "cell_type": "markdown",
   "id": "d016cc60-1972-48fd-8468-01a22a0c9fee",
   "metadata": {},
   "source": [
    "# AoC Day 7\n",
    "\n",
    "Jenna Jordan\n",
    "\n",
    "7 December 2021\n",
    "\n",
    "## Prompt\n",
    "\n",
    "--- Day 7: The Treachery of Whales ---\n",
    "\n",
    "A giant whale has decided your submarine is its next meal, and it's much faster than you are. There's nowhere to run!\n",
    "\n",
    "Suddenly, a swarm of crabs (each in its own tiny submarine - it's too deep for them otherwise) zooms in to rescue you! They seem to be preparing to blast a hole in the ocean floor; sensors indicate a massive underground cave system just beyond where they're aiming!\n",
    "\n",
    "The crab submarines all need to be aligned before they'll have enough power to blast a large enough hole for your submarine to get through. However, it doesn't look like they'll be aligned before the whale catches you! Maybe you can help?\n",
    "\n",
    "There's one major catch - crab submarines can only move horizontally.\n",
    "\n",
    "You quickly make a list of the horizontal position of each crab (your puzzle input). Crab submarines have limited fuel, so you need to find a way to make all of their horizontal positions match while requiring them to spend as little fuel as possible.\n",
    "\n",
    "For example, consider the following horizontal positions:\n",
    "\n",
    "`16,1,2,0,4,2,7,1,2,14`\n",
    "\n",
    "This means there's a crab with horizontal position 16, a crab with horizontal position 1, and so on.\n",
    "\n",
    "Each change of 1 step in horizontal position of a single crab costs 1 fuel. You could choose any horizontal position to align them all on, but the one that costs the least fuel is horizontal position 2:\n",
    "\n",
    "- Move from 16 to 2: 14 fuel\n",
    "- Move from 1 to 2: 1 fuel\n",
    "- Move from 2 to 2: 0 fuel\n",
    "- Move from 0 to 2: 2 fuel\n",
    "- Move from 4 to 2: 2 fuel\n",
    "- Move from 2 to 2: 0 fuel\n",
    "- Move from 7 to 2: 5 fuel\n",
    "- Move from 1 to 2: 1 fuel\n",
    "- Move from 2 to 2: 0 fuel\n",
    "- Move from 14 to 2: 12 fuel\n",
    "\n",
    "This costs a total of 37 fuel. This is the cheapest possible outcome; more expensive outcomes include aligning at position 1 (41 fuel), position 3 (39 fuel), or position 10 (71 fuel).\n",
    "\n",
    "Determine the horizontal position that the crabs can align to using the least fuel possible. How much fuel must they spend to align to that position?"
   ]
  },
  {
   "cell_type": "code",
   "execution_count": 13,
   "id": "fb187803-9b70-4b38-bedd-fe60b94400a3",
   "metadata": {},
   "outputs": [],
   "source": [
    "test_crabs = [16,1,2,0,4,2,7,1,2,14]"
   ]
  },
  {
   "cell_type": "code",
   "execution_count": 1,
   "id": "c37ee272-110c-4bcd-b733-f43fae27cbdd",
   "metadata": {},
   "outputs": [],
   "source": [
    "import math"
   ]
  },
  {
   "cell_type": "code",
   "execution_count": 2,
   "id": "7ee857e1-93a2-4a6e-97e5-c77471fa2d12",
   "metadata": {},
   "outputs": [],
   "source": [
    "# get input\n",
    "\n",
    "with open(\"inputs/day7.txt\") as file:\n",
    "    inputs = file.read()\n",
    "    inputs = inputs.rstrip()\n",
    "\n",
    "crabs = [int(c) for c in inputs.split(\",\")]"
   ]
  },
  {
   "cell_type": "code",
   "execution_count": 3,
   "id": "ece06945-4492-4c30-910a-1d858b8a4a67",
   "metadata": {},
   "outputs": [
    {
     "data": {
      "text/plain": [
       "(0, 1994)"
      ]
     },
     "execution_count": 3,
     "metadata": {},
     "output_type": "execute_result"
    }
   ],
   "source": [
    "min(crabs), max(crabs)"
   ]
  },
  {
   "cell_type": "code",
   "execution_count": 4,
   "id": "0fae0018-7a8c-4fb5-a31d-c3de3c2c2ba1",
   "metadata": {},
   "outputs": [],
   "source": [
    "def calculate_fuel(crab_list, target_position):\n",
    "    fuel_cost = 0\n",
    "    for crab in crab_list:\n",
    "        fuel = abs(crab - target_position)\n",
    "        fuel_cost += fuel\n",
    "    return fuel_cost"
   ]
  },
  {
   "cell_type": "code",
   "execution_count": 9,
   "id": "30d42a8a-a22a-4539-9a57-5e3ba79fb1e0",
   "metadata": {},
   "outputs": [],
   "source": [
    "def naive_calculation(crab_list):\n",
    "    min_fuel_cost = math.inf\n",
    "    optimal_position = math.inf\n",
    "    for position in range(min(crab_list), max(crab_list)+1):\n",
    "        fuel_cost = calculate_fuel(crab_list, position)\n",
    "        if fuel_cost < min_fuel_cost:\n",
    "            min_fuel_cost = fuel_cost\n",
    "            optimal_position = position\n",
    "    return min_fuel_cost, optimal_position"
   ]
  },
  {
   "cell_type": "code",
   "execution_count": 14,
   "id": "62574145-90d5-4fd5-ae08-4c462a060dd3",
   "metadata": {},
   "outputs": [
    {
     "data": {
      "text/plain": [
       "(37, 2)"
      ]
     },
     "execution_count": 14,
     "metadata": {},
     "output_type": "execute_result"
    }
   ],
   "source": [
    "naive_calculation(test_crabs)"
   ]
  },
  {
   "cell_type": "code",
   "execution_count": 15,
   "id": "42946ec1-33d9-4d9a-8fad-77279bdf0c81",
   "metadata": {},
   "outputs": [
    {
     "data": {
      "text/plain": [
       "(347449, 347)"
      ]
     },
     "execution_count": 15,
     "metadata": {},
     "output_type": "execute_result"
    }
   ],
   "source": [
    "naive_calculation(crabs)"
   ]
  },
  {
   "cell_type": "markdown",
   "id": "2d0a3f1f-2a62-4195-ba07-5d8a432c546a",
   "metadata": {},
   "source": [
    "### Part 1 Solution\n",
    "\n",
    "347449 - CORRECT!"
   ]
  },
  {
   "cell_type": "markdown",
   "id": "ffeb6ff2-732a-4de4-8ad8-157fe2cd663d",
   "metadata": {},
   "source": [
    "--- Part Two ---\n",
    "\n",
    "The crabs don't seem interested in your proposed solution. Perhaps you misunderstand crab engineering?\n",
    "\n",
    "As it turns out, crab submarine engines don't burn fuel at a constant rate. Instead, each change of 1 step in horizontal position costs 1 more unit of fuel than the last: the first step costs 1, the second step costs 2, the third step costs 3, and so on.\n",
    "\n",
    "As each crab moves, moving further becomes more expensive. This changes the best horizontal position to align them all on; in the example above, this becomes 5:\n",
    "\n",
    "- Move from 16 to 5: 66 fuel\n",
    "- Move from 1 to 5: 10 fuel\n",
    "- Move from 2 to 5: 6 fuel\n",
    "- Move from 0 to 5: 15 fuel\n",
    "- Move from 4 to 5: 1 fuel\n",
    "- Move from 2 to 5: 6 fuel\n",
    "- Move from 7 to 5: 3 fuel\n",
    "- Move from 1 to 5: 10 fuel\n",
    "- Move from 2 to 5: 6 fuel\n",
    "- Move from 14 to 5: 45 fuel\n",
    "\n",
    "This costs a total of 168 fuel. This is the new cheapest possible outcome; the old alignment position (2) now costs 206 fuel instead.\n",
    "\n",
    "Determine the horizontal position that the crabs can align to using the least fuel possible so they can make you an escape route! How much fuel must they spend to align to that position?"
   ]
  },
  {
   "cell_type": "code",
   "execution_count": 21,
   "id": "15a25006-71b6-4cc9-a5d5-58550a036bdf",
   "metadata": {},
   "outputs": [],
   "source": [
    "def calculate_fuel_revised(crab_list, target_position):\n",
    "    fuel_cost = 0\n",
    "    for crab in crab_list:\n",
    "        n = abs(crab - target_position)\n",
    "        fuel = n*(n+1)/2\n",
    "        fuel_cost += fuel\n",
    "    return fuel_cost"
   ]
  },
  {
   "cell_type": "code",
   "execution_count": 24,
   "id": "9af011c5-187c-490c-b76b-1e878e2cf446",
   "metadata": {},
   "outputs": [],
   "source": [
    "def naive_calculation_revised(crab_list):\n",
    "    min_fuel_cost = math.inf\n",
    "    optimal_position = math.inf\n",
    "    for position in range(min(crab_list), max(crab_list)+1):\n",
    "        fuel_cost = calculate_fuel_revised(crab_list, position)\n",
    "        if fuel_cost < min_fuel_cost:\n",
    "            min_fuel_cost = fuel_cost\n",
    "            optimal_position = position\n",
    "    return int(min_fuel_cost), optimal_position"
   ]
  },
  {
   "cell_type": "code",
   "execution_count": 25,
   "id": "a13d6bac-15e9-4b65-bfef-fb18031add52",
   "metadata": {},
   "outputs": [
    {
     "data": {
      "text/plain": [
       "(168, 5)"
      ]
     },
     "execution_count": 25,
     "metadata": {},
     "output_type": "execute_result"
    }
   ],
   "source": [
    "naive_calculation_revised(test_crabs)"
   ]
  },
  {
   "cell_type": "code",
   "execution_count": 26,
   "id": "c89466ec-22c1-4cc1-a157-aa0a4a145c6a",
   "metadata": {},
   "outputs": [
    {
     "data": {
      "text/plain": [
       "(98039527, 486)"
      ]
     },
     "execution_count": 26,
     "metadata": {},
     "output_type": "execute_result"
    }
   ],
   "source": [
    "naive_calculation_revised(crabs)"
   ]
  },
  {
   "cell_type": "markdown",
   "id": "f6f8b66d-c322-4c75-b7fe-d36b764cbb64",
   "metadata": {},
   "source": [
    "### Part 2 Solution\n",
    "\n",
    "98039527 - CORRECT!"
   ]
  },
  {
   "cell_type": "code",
   "execution_count": null,
   "id": "5cdfc7b7-a645-45f9-9b56-e1fd461028f9",
   "metadata": {},
   "outputs": [],
   "source": []
  }
 ],
 "metadata": {
  "kernelspec": {
   "display_name": "Python 3",
   "language": "python",
   "name": "python3"
  },
  "language_info": {
   "codemirror_mode": {
    "name": "ipython",
    "version": 3
   },
   "file_extension": ".py",
   "mimetype": "text/x-python",
   "name": "python",
   "nbconvert_exporter": "python",
   "pygments_lexer": "ipython3",
   "version": "3.8.8"
  }
 },
 "nbformat": 4,
 "nbformat_minor": 5
}
