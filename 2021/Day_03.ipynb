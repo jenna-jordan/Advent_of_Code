{
 "cells": [
  {
   "cell_type": "markdown",
   "id": "2c20882a-953a-42c8-bdfd-9b2acc853503",
   "metadata": {},
   "source": [
    "# AoC Day 3\n",
    "\n",
    "Jenna Jordan\n",
    "\n",
    "3 December 2021\n",
    "\n",
    "## Prompt\n",
    "\n",
    "--- Day 3: Binary Diagnostic ---\n",
    "\n",
    "The submarine has been making some odd creaking noises, so you ask it to produce a diagnostic report just in case.\n",
    "\n",
    "### Part 1\n",
    "\n",
    "The diagnostic report (your puzzle input) consists of a list of binary numbers which, when decoded properly, can tell you many useful things about the conditions of the submarine. The first parameter to check is the power consumption.\n",
    "\n",
    "You need to use the binary numbers in the diagnostic report to generate two new binary numbers (called the gamma rate and the epsilon rate). The power consumption can then be found by multiplying the gamma rate by the epsilon rate.\n",
    "\n",
    "Each bit in the gamma rate can be determined by finding the most common bit in the corresponding position of all numbers in the diagnostic report. For example, given the following diagnostic report:\n",
    "\n",
    "```\n",
    "00100\n",
    "11110\n",
    "10110\n",
    "10111\n",
    "10101\n",
    "01111\n",
    "00111\n",
    "11100\n",
    "10000\n",
    "11001\n",
    "00010\n",
    "01010\n",
    "```\n",
    "\n",
    "Considering only the first bit of each number, there are five 0 bits and seven 1 bits. Since the most common bit is 1, the first bit of the gamma rate is 1.\n",
    "\n",
    "The most common second bit of the numbers in the diagnostic report is 0, so the second bit of the gamma rate is 0.\n",
    "\n",
    "The most common value of the third, fourth, and fifth bits are 1, 1, and 0, respectively, and so the final three bits of the gamma rate are 110.\n",
    "\n",
    "So, the gamma rate is the binary number 10110, or 22 in decimal.\n",
    "\n",
    "The epsilon rate is calculated in a similar way; rather than use the most common bit, the least common bit from each position is used. So, the epsilon rate is 01001, or 9 in decimal. Multiplying the gamma rate (22) by the epsilon rate (9) produces the power consumption, 198.\n",
    "\n",
    "Use the binary numbers in your diagnostic report to calculate the gamma rate and epsilon rate, then multiply them together. What is the power consumption of the submarine? (Be sure to represent your answer in decimal, not binary.)"
   ]
  },
  {
   "cell_type": "code",
   "execution_count": 1,
   "id": "f4f286c5-65b9-497c-9dbe-70b47e19e03c",
   "metadata": {},
   "outputs": [],
   "source": [
    "# get input\n",
    "\n",
    "with open(\"inputs/day3.txt\") as file:\n",
    "    inputs = file.read().splitlines()"
   ]
  },
  {
   "cell_type": "code",
   "execution_count": 2,
   "id": "8ca189a7-5df7-4fd8-852e-48e3b7b0945a",
   "metadata": {},
   "outputs": [
    {
     "data": {
      "text/plain": [
       "['111011001010',\n",
       " '010011101110',\n",
       " '110001001010',\n",
       " '001101011101',\n",
       " '110100000011']"
      ]
     },
     "execution_count": 2,
     "metadata": {},
     "output_type": "execute_result"
    }
   ],
   "source": [
    "inputs[0:5]"
   ]
  },
  {
   "cell_type": "code",
   "execution_count": 3,
   "id": "115a71dc-9afb-4474-bdb9-330e5e3b07e7",
   "metadata": {},
   "outputs": [
    {
     "data": {
      "text/plain": [
       "12"
      ]
     },
     "execution_count": 3,
     "metadata": {},
     "output_type": "execute_result"
    }
   ],
   "source": [
    "len(inputs[0])"
   ]
  },
  {
   "cell_type": "code",
   "execution_count": 4,
   "id": "3649f45a-3a95-4c6c-84eb-7fe9d825e6d8",
   "metadata": {},
   "outputs": [
    {
     "name": "stdout",
     "output_type": "stream",
     "text": [
      "1025636\n"
     ]
    }
   ],
   "source": [
    "pos_list = list(inputs[0])\n",
    "\n",
    "for i in inputs[1:]:\n",
    "    for pos, bit in enumerate(i):\n",
    "        pos_list[pos] += bit\n",
    "\n",
    "gamma = ''\n",
    "epsilon = ''\n",
    "for pos in pos_list:\n",
    "    count_0 = 0\n",
    "    count_1 = 0\n",
    "    for char in pos:\n",
    "        if char == '1':\n",
    "            count_1 += 1\n",
    "        elif char == '0':\n",
    "            count_0 += 1\n",
    "    if count_0 > count_1:\n",
    "        gamma += '0'\n",
    "        epsilon += '1'\n",
    "    else:\n",
    "        gamma += '1'\n",
    "        epsilon += '0'\n",
    "    \n",
    "power_consumption = int(gamma, base=2) * int(epsilon, base=2)\n",
    "print(power_consumption)"
   ]
  },
  {
   "cell_type": "markdown",
   "id": "1c082b10-904c-4cef-bc2a-cf38224513c4",
   "metadata": {},
   "source": [
    "#### Part 1 Solution\n",
    "\n",
    "1025636 - Correct!"
   ]
  },
  {
   "cell_type": "markdown",
   "id": "6fc0687b-e5c3-4738-9fca-f2056ab3dfe2",
   "metadata": {},
   "source": [
    "### Part 2\n",
    "\n",
    "--- Part Two ---\n",
    "\n",
    "Next, you should verify the life support rating, which can be determined by multiplying the oxygen generator rating by the CO2 scrubber rating.\n",
    "\n",
    "Both the oxygen generator rating and the CO2 scrubber rating are values that can be found in your diagnostic report - finding them is the tricky part. Both values are located using a similar process that involves filtering out values until only one remains. Before searching for either rating value, start with the full list of binary numbers from your diagnostic report and consider just the first bit of those numbers. Then:\n",
    "\n",
    "- Keep only numbers selected by the bit criteria for the type of rating value for which you are searching. Discard numbers which do not match the bit criteria.\n",
    "- If you only have one number left, stop; this is the rating value for which you are searching.\n",
    "- Otherwise, repeat the process, considering the next bit to the right.\n",
    "\n",
    "The bit criteria depends on which type of rating value you want to find:\n",
    "\n",
    "- To find oxygen generator rating, determine the most common value (0 or 1) in the current bit position, and keep only numbers with that bit in that position. If 0 and 1 are equally common, keep values with a 1 in the position being considered.\n",
    "- To find CO2 scrubber rating, determine the least common value (0 or 1) in the current bit position, and keep only numbers with that bit in that position. If 0 and 1 are equally common, keep values with a 0 in the position being considered.\n",
    "\n",
    "\n",
    "```\n",
    "00100\n",
    "11110\n",
    "10110\n",
    "10111\n",
    "10101\n",
    "01111\n",
    "00111\n",
    "11100\n",
    "10000\n",
    "11001\n",
    "00010\n",
    "01010\n",
    "```\n",
    "\n",
    "For example, to determine the oxygen generator rating value using the same example diagnostic report from above:\n",
    "\n",
    "- Start with all 12 numbers and consider only the first bit of each number. There are more 1 bits (7) than 0 bits (5), so keep only the 7 numbers with a 1 in the first position: 11110, 10110, 10111, 10101, 11100, 10000, and 11001.\n",
    "- Then, consider the second bit of the 7 remaining numbers: there are more 0 bits (4) than 1 bits (3), so keep only the 4 numbers with a 0 in the second position: 10110, 10111, 10101, and 10000.\n",
    "- In the third position, three of the four numbers have a 1, so keep those three: 10110, 10111, and 10101.\n",
    "- In the fourth position, two of the three numbers have a 1, so keep those two: 10110 and 10111.\n",
    "- In the fifth position, there are an equal number of 0 bits and 1 bits (one each). So, to find the oxygen generator rating, keep the number with a 1 in that position: 10111.\n",
    "- As there is only one number left, stop; the oxygen generator rating is 10111, or 23 in decimal.\n",
    "\n",
    "Then, to determine the CO2 scrubber rating value from the same example above:\n",
    "\n",
    "- Start again with all 12 numbers and consider only the first bit of each number. There are fewer 0 bits (5) than 1 bits (7), so keep only the 5 numbers with a 0 in the first position: 00100, 01111, 00111, 00010, and 01010.\n",
    "- Then, consider the second bit of the 5 remaining numbers: there are fewer 1 bits (2) than 0 bits (3), so keep only the 2 numbers with a 1 in the second position: 01111 and 01010.\n",
    "- In the third position, there are an equal number of 0 bits and 1 bits (one each). So, to find the CO2 scrubber rating, keep the number with a 0 in that position: 01010.\n",
    "- As there is only one number left, stop; the CO2 scrubber rating is 01010, or 10 in decimal.\n",
    "\n",
    "Finally, to find the life support rating, multiply the oxygen generator rating (23) by the CO2 scrubber rating (10) to get 230.\n",
    "\n",
    "Use the binary numbers in your diagnostic report to calculate the oxygen generator rating and CO2 scrubber rating, then multiply them together. What is the life support rating of the submarine? (Be sure to represent your answer in decimal, not binary.)"
   ]
  },
  {
   "cell_type": "code",
   "execution_count": 5,
   "id": "b75069aa-38f2-4f9b-b217-42ab80e36ddb",
   "metadata": {},
   "outputs": [],
   "source": [
    "from collections import Counter\n",
    "\n",
    "def find_most_common_char(input_list, position, if_tie):\n",
    "    all_chars_for_position = []\n",
    "    for elem in input_list:\n",
    "        all_chars_for_position.append(elem[position])\n",
    "    c = Counter(all_chars_for_position)\n",
    "    most_common_results = c.most_common(2)\n",
    "    if len(most_common_results) < 2:\n",
    "        most_common_char, most_common_count = c.most_common(2)[0]\n",
    "        return most_common_char\n",
    "    most_common_char, most_common_count = c.most_common(2)[0]\n",
    "    second_common_char, second_common_count = c.most_common(2)[1]\n",
    "    if most_common_count > second_common_count:\n",
    "        return most_common_char\n",
    "    else:\n",
    "        return if_tie\n",
    "\n",
    "def find_last_remaining_number(input_list, rating_type):\n",
    "    given_list = input_list.copy()\n",
    "    for position in range(len(given_list[0])):\n",
    "        top_char = find_most_common_char(given_list, position, if_tie=\"1\")\n",
    "        for number in given_list:\n",
    "            if rating_type == \"O2 Generator\":\n",
    "                if number[position] != top_char:\n",
    "                    given_list = [value for value in given_list if value != number]\n",
    "            elif rating_type == \"CO2 Scrubber\":\n",
    "                if number[position] == top_char:\n",
    "                    given_list = [value for value in given_list if value != number]\n",
    "        if len(given_list) == 1:\n",
    "            return given_list[0]"
   ]
  },
  {
   "cell_type": "code",
   "execution_count": 6,
   "id": "fcf8dd67-43db-4509-b21b-6e75c3f30a0c",
   "metadata": {},
   "outputs": [
    {
     "name": "stdout",
     "output_type": "stream",
     "text": [
      "110000010001\n"
     ]
    }
   ],
   "source": [
    "o2_generator_value = find_last_remaining_number(inputs, \"O2 Generator\")\n",
    "print(o2_generator_value)"
   ]
  },
  {
   "cell_type": "code",
   "execution_count": 7,
   "id": "29ba7b46-0f49-42a7-bd73-239ddeb79df4",
   "metadata": {},
   "outputs": [
    {
     "name": "stdout",
     "output_type": "stream",
     "text": [
      "000100000001\n"
     ]
    }
   ],
   "source": [
    "co2_scrubber_value = find_last_remaining_number(inputs, \"CO2 Scrubber\")\n",
    "print(co2_scrubber_value)"
   ]
  },
  {
   "cell_type": "code",
   "execution_count": 8,
   "id": "76b90505-febb-4a7b-9c9c-ea8d55741516",
   "metadata": {},
   "outputs": [
    {
     "name": "stdout",
     "output_type": "stream",
     "text": [
      "793873\n"
     ]
    }
   ],
   "source": [
    "life_support = int(o2_generator_value, base=2) * int(co2_scrubber_value, base=2)\n",
    "print(life_support)"
   ]
  },
  {
   "cell_type": "markdown",
   "id": "1ec72d9f-39e6-44b4-a75d-6000eac5c510",
   "metadata": {},
   "source": [
    "#### Part 2 Solution\n",
    "\n",
    "793873 - CORRECT!\n",
    "\n",
    "At first I submitted 821674 - then I realized that instead of having the tie be conditional, the tie should always be \"1\". With that f\n",
    "\n",
    "821674 - WRONG!\n",
    "\n",
    "idk what's going wrong here."
   ]
  }
 ],
 "metadata": {
  "kernelspec": {
   "display_name": "Python 3",
   "language": "python",
   "name": "python3"
  },
  "language_info": {
   "codemirror_mode": {
    "name": "ipython",
    "version": 3
   },
   "file_extension": ".py",
   "mimetype": "text/x-python",
   "name": "python",
   "nbconvert_exporter": "python",
   "pygments_lexer": "ipython3",
   "version": "3.8.8"
  }
 },
 "nbformat": 4,
 "nbformat_minor": 5
}
