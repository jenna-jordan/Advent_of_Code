{
 "cells": [
  {
   "cell_type": "markdown",
   "id": "7cfa2c80-b8cd-499f-a095-f5c70cc7daf9",
   "metadata": {},
   "source": [
    "# AoC Day 10\n",
    "\n",
    "Jenna Jordan\n",
    "\n",
    "10 December 2021\n",
    "\n",
    "## Prompt\n",
    "\n",
    "--- Day 10: Syntax Scoring ---\n",
    "\n",
    "You ask the submarine to determine the best route out of the deep-sea cave, but it only replies:\n",
    "\n",
    "`Syntax error in navigation subsystem on line: all of them`\n",
    "\n",
    "All of them?! The damage is worse than you thought. You bring up a copy of the navigation subsystem (your puzzle input).\n",
    "\n",
    "The navigation subsystem syntax is made of several lines containing chunks. There are one or more chunks on each line, and chunks contain zero or more other chunks. Adjacent chunks are not separated by any delimiter; if one chunk stops, the next chunk (if any) can immediately start. Every chunk must open and close with one of four legal pairs of matching characters:\n",
    "\n",
    "- If a chunk opens with `(`, it must close with `)`.\n",
    "- If a chunk opens with `[`, it must close with `]`.\n",
    "- If a chunk opens with `{`, it must close with `}`.\n",
    "- If a chunk opens with `<`, it must close with `>`.\n",
    "\n",
    "So, `()` is a legal chunk that contains no other chunks, as is `[]`. More complex but valid chunks include `([])`, `{()()()}`, `<([{}])>`, `[<>({}){}[([])<>]]`, and even `(((((((((())))))))))`.\n",
    "\n",
    "Some lines are incomplete, but others are corrupted. Find and discard the corrupted lines first.\n",
    "\n",
    "A corrupted line is one where a chunk closes with the wrong character - that is, where the characters it opens and closes with do not form one of the four legal pairs listed above.\n",
    "\n",
    "Examples of corrupted chunks include `(]`, `{()()()>`, `(((()))}`, and `<([]){()}[{}])`. Such a chunk can appear anywhere within a line, and its presence causes the whole line to be considered corrupted.\n",
    "\n",
    "For example, consider the following navigation subsystem:\n",
    "\n",
    "```\n",
    "[({(<(())[]>[[{[]{<()<>>\n",
    "[(()[<>])]({[<{<<[]>>(\n",
    "{([(<{}[<>[]}>{[]{[(<()>\n",
    "(((({<>}<{<{<>}{[]{[]{}\n",
    "[[<[([]))<([[{}[[()]]]\n",
    "[{[{({}]{}}([{[{{{}}([]\n",
    "{<[[]]>}<{[{[{[]{()[[[]\n",
    "[<(<(<(<{}))><([]([]()\n",
    "<{([([[(<>()){}]>(<<{{\n",
    "<{([{{}}[<[[[<>{}]]]>[]]\n",
    "```\n",
    "\n",
    "Some of the lines aren't corrupted, just incomplete; you can ignore these lines for now. The remaining five lines are corrupted:\n",
    "\n",
    "- `{([(<{}[<>[]}>{[]{[(<()>` - Expected `]`, but found `}` instead.\n",
    "- `[[<[([]))<([[{}[[()]]]` - Expected `]`, but found `)` instead.\n",
    "- `[{[{({}]{}}([{[{{{}}([]` - Expected `)`, but found `]` instead.\n",
    "- `[<(<(<(<{}))><([]([]()` - Expected `>`, but found `)` instead.\n",
    "- `<{([([[(<>()){}]>(<<{{` - Expected `]`, but found `>` instead.\n",
    "\n",
    "Stop at the first incorrect closing character on each corrupted line.\n",
    "\n",
    "Did you know that syntax checkers actually have contests to see who can get the high score for syntax errors in a file? It's true! To calculate the syntax error score for a line, take the first illegal character on the line and look it up in the following table:\n",
    "\n",
    "- `)`: 3 points.\n",
    "- `]`: 57 points.\n",
    "- `}`: 1197 points.\n",
    "- `>`: 25137 points.\n",
    "\n",
    "In the above example, an illegal ) was found twice (2*3 = 6 points), an illegal ] was found once (57 points), an illegal } was found once (1197 points), and an illegal > was found once (25137 points). So, the total syntax error score for this file is 6+57+1197+25137 = 26397 points!\n",
    "\n",
    "Find the first illegal character in each corrupted line of the navigation subsystem. What is the total syntax error score for those errors?"
   ]
  },
  {
   "cell_type": "code",
   "execution_count": 1,
   "id": "4f621b9c-d5ee-44b6-b1a3-1ec46d7c53cf",
   "metadata": {},
   "outputs": [],
   "source": [
    "# get input\n",
    "\n",
    "with open(\"inputs/day10.txt\") as file:\n",
    "    inputs = file.read().splitlines()"
   ]
  },
  {
   "cell_type": "code",
   "execution_count": 2,
   "id": "adb2f408-d11a-4d89-873d-d3d73af871d3",
   "metadata": {},
   "outputs": [],
   "source": [
    "test_inputs = [\n",
    "\"[({(<(())[]>[[{[]{<()<>>\",\n",
    "\"[(()[<>])]({[<{<<[]>>(\",\n",
    "\"{([(<{}[<>[]}>{[]{[(<()>\",\n",
    "\"(((({<>}<{<{<>}{[]{[]{}\",\n",
    "\"[[<[([]))<([[{}[[()]]]\",\n",
    "\"[{[{({}]{}}([{[{{{}}([]\",\n",
    "\"{<[[]]>}<{[{[{[]{()[[[]\",\n",
    "\"[<(<(<(<{}))><([]([]()\",\n",
    "\"<{([([[(<>()){}]>(<<{{\",\n",
    "\"<{([{{}}[<[[[<>{}]]]>[]]\"\n",
    "]"
   ]
  },
  {
   "cell_type": "code",
   "execution_count": 3,
   "id": "47e97a86-7456-48b6-9da9-19075106ad23",
   "metadata": {},
   "outputs": [],
   "source": [
    "def eliminate_smallest_chunks(line):\n",
    "    return line.replace(\"()\",\"\").replace(\"[]\",\"\").replace(\"{}\",\"\").replace(\"<>\",\"\")"
   ]
  },
  {
   "cell_type": "code",
   "execution_count": 4,
   "id": "dad56963-c8e6-4362-a587-8da36828d199",
   "metadata": {},
   "outputs": [],
   "source": [
    "def get_simplified_line(line):\n",
    "    num_chars = len(line)\n",
    "    line = eliminate_smallest_chunks(line)\n",
    "    while len(line) < num_chars:\n",
    "        num_chars = len(line)\n",
    "        line = eliminate_smallest_chunks(line)\n",
    "    \n",
    "    return line"
   ]
  },
  {
   "cell_type": "code",
   "execution_count": 5,
   "id": "8b3c5576-9283-428c-837c-2d8a1c85a729",
   "metadata": {},
   "outputs": [],
   "source": [
    "def score_corrupt_line(line):\n",
    "    simplified_line = get_simplified_line(line)\n",
    "    \n",
    "    for char in simplified_line:\n",
    "        if char == \")\":\n",
    "            return 3\n",
    "        elif char == \"]\":\n",
    "            return 57\n",
    "        elif char == \"}\":\n",
    "            return 1197\n",
    "        elif char == \">\":\n",
    "            return 25137\n",
    "    \n",
    "    return 0"
   ]
  },
  {
   "cell_type": "code",
   "execution_count": 6,
   "id": "28e65e9f-3302-4140-9df1-15035f122d3d",
   "metadata": {},
   "outputs": [],
   "source": [
    "def calculate_total_syntax_score(lines):\n",
    "    score = 0\n",
    "    for line in lines:\n",
    "        score += score_corrupt_line(line)\n",
    "    return score"
   ]
  },
  {
   "cell_type": "code",
   "execution_count": 7,
   "id": "3fe154b0-732c-4101-bdbe-337a41c5b62e",
   "metadata": {},
   "outputs": [
    {
     "data": {
      "text/plain": [
       "26397"
      ]
     },
     "execution_count": 7,
     "metadata": {},
     "output_type": "execute_result"
    }
   ],
   "source": [
    "calculate_total_syntax_score(test_inputs)"
   ]
  },
  {
   "cell_type": "code",
   "execution_count": 8,
   "id": "5be3b3a5-9d0c-494e-83f6-1bba82e21b73",
   "metadata": {},
   "outputs": [
    {
     "data": {
      "text/plain": [
       "358737"
      ]
     },
     "execution_count": 8,
     "metadata": {},
     "output_type": "execute_result"
    }
   ],
   "source": [
    "calculate_total_syntax_score(inputs)"
   ]
  },
  {
   "cell_type": "markdown",
   "id": "789967c9-5e1d-46d4-b9ed-e901385e3549",
   "metadata": {},
   "source": [
    "### Part 1 Solution\n",
    "\n",
    "358737 - CORRECT!"
   ]
  },
  {
   "cell_type": "markdown",
   "id": "db007b11-6afa-46b0-b2ba-c4e434cdb372",
   "metadata": {},
   "source": [
    "--- Part Two ---\n",
    "\n",
    "Now, discard the corrupted lines. The remaining lines are incomplete.\n",
    "\n",
    "Incomplete lines don't have any incorrect characters - instead, they're missing some closing characters at the end of the line. To repair the navigation subsystem, you just need to figure out the sequence of closing characters that complete all open chunks in the line.\n",
    "\n",
    "You can only use closing characters `()`, `]`, `}`, or `>`), and you must add them in the correct order so that only legal pairs are formed and all chunks end up closed.\n",
    "\n",
    "In the example above, there are five incomplete lines:\n",
    "\n",
    "- `[({(<(())[]>[[{[]{<()<>>` - Complete by adding `}}]])})]`.\n",
    "- `[(()[<>])]({[<{<<[]>>(` - Complete by adding `)}>]})`.\n",
    "- `(((({<>}<{<{<>}{[]{[]{}` - Complete by adding `}}>}>))))`.\n",
    "- `{<[[]]>}<{[{[{[]{()[[[]` - Complete by adding `]]}}]}]}>`.\n",
    "- `<{([{{}}[<[[[<>{}]]]>[]]` - Complete by adding `])}>`.\n",
    "\n",
    "Did you know that autocomplete tools also have contests? It's true! The score is determined by considering the completion string character-by-character. Start with a total score of 0. Then, for each character, multiply the total score by 5 and then increase the total score by the point value given for the character in the following table:\n",
    "\n",
    "- `)`: 1 point.\n",
    "- `]`: 2 points.\n",
    "- `}`: 3 points.\n",
    "- `>`: 4 points.\n",
    "\n",
    "So, the last completion string above - ])}> - would be scored as follows:\n",
    "\n",
    "- Start with a total score of 0.\n",
    "- Multiply the total score by 5 to get 0, then add the value of `]` (2) to get a new total score of 2.\n",
    "- Multiply the total score by 5 to get 10, then add the value of `)` (1) to get a new total score of 11.\n",
    "- Multiply the total score by 5 to get 55, then add the value of `}` (3) to get a new total score of 58.\n",
    "- Multiply the total score by 5 to get 290, then add the value of `>` (4) to get a new total score of 294.\n",
    "\n",
    "The five lines' completion strings have total scores as follows:\n",
    "\n",
    "- `}}]])})]` - 288957 total points.\n",
    "- `)}>]})` - 5566 total points.\n",
    "- `}}>}>))))` - 1480781 total points.\n",
    "- `]]}}]}]}>` - 995444 total points.\n",
    "- `])}>` - 294 total points.\n",
    "\n",
    "Autocomplete tools are an odd bunch: the winner is found by sorting all of the scores and then taking the middle score. (There will always be an odd number of scores to consider.) In this example, the middle score is 288957 because there are the same number of scores smaller and larger than it.\n",
    "\n",
    "Find the completion string for each incomplete line, score the completion strings, and sort the scores. What is the middle score?"
   ]
  },
  {
   "cell_type": "code",
   "execution_count": 9,
   "id": "faf9f642-b433-4b54-8d29-69a10cdb72f5",
   "metadata": {},
   "outputs": [],
   "source": [
    "import statistics"
   ]
  },
  {
   "cell_type": "code",
   "execution_count": 10,
   "id": "3953ce8d-0935-4c7a-90f6-d7a3606c70bd",
   "metadata": {},
   "outputs": [],
   "source": [
    "def get_incomplete_lines(all_lines):\n",
    "    incomplete_lines = []\n",
    "    for line in all_lines:\n",
    "        if score_corrupt_line(line) == 0:\n",
    "            incomplete_lines.append(line)\n",
    "    return incomplete_lines"
   ]
  },
  {
   "cell_type": "code",
   "execution_count": 11,
   "id": "92ac1d16-c2b0-4136-ba4e-bf3ae6091262",
   "metadata": {},
   "outputs": [],
   "source": [
    "def complete_line(incomplete_line):\n",
    "    line_ending = ''\n",
    "    simplified_line = get_simplified_line(incomplete_line)\n",
    "    \n",
    "    for char in simplified_line[::-1]:\n",
    "        if char == '(':\n",
    "            line_ending += ')'\n",
    "        elif char == '[':\n",
    "            line_ending += ']'\n",
    "        elif char == '{':\n",
    "            line_ending += '}'\n",
    "        elif char == '<':\n",
    "            line_ending += '>'\n",
    "    \n",
    "    return line_ending"
   ]
  },
  {
   "cell_type": "code",
   "execution_count": 12,
   "id": "06b298e6-96aa-4910-b266-4d9650e27d93",
   "metadata": {},
   "outputs": [],
   "source": [
    "def score_line_completions(line_ending):\n",
    "    score = 0\n",
    "    for char in line_ending:\n",
    "        score *= 5\n",
    "        if char == \")\":\n",
    "            score += 1\n",
    "        elif char == \"]\":\n",
    "            score += 2\n",
    "        elif char == \"}\":\n",
    "            score += 3\n",
    "        elif char == \">\":\n",
    "            score += 4\n",
    "    return score"
   ]
  },
  {
   "cell_type": "code",
   "execution_count": 13,
   "id": "d9b72c6f-35fc-42cf-90f7-e5b222b1e4fe",
   "metadata": {},
   "outputs": [],
   "source": [
    "def find_middle_score(input_lines):\n",
    "    line_scores = []\n",
    "    incomplete_lines = get_incomplete_lines(input_lines)\n",
    "    for line in incomplete_lines:\n",
    "        line_ending = complete_line(line)\n",
    "        line_score = score_line_completions(line_ending)\n",
    "        line_scores.append(line_score)\n",
    "    return statistics.median(line_scores)"
   ]
  },
  {
   "cell_type": "code",
   "execution_count": 14,
   "id": "d8a01979-a913-4ca5-b480-50aa012c7359",
   "metadata": {},
   "outputs": [
    {
     "data": {
      "text/plain": [
       "288957"
      ]
     },
     "execution_count": 14,
     "metadata": {},
     "output_type": "execute_result"
    }
   ],
   "source": [
    "find_middle_score(test_inputs)"
   ]
  },
  {
   "cell_type": "code",
   "execution_count": 15,
   "id": "44050c6e-159f-4ee6-93b2-b3fb36bac6c9",
   "metadata": {},
   "outputs": [
    {
     "data": {
      "text/plain": [
       "4329504793"
      ]
     },
     "execution_count": 15,
     "metadata": {},
     "output_type": "execute_result"
    }
   ],
   "source": [
    "find_middle_score(inputs)"
   ]
  },
  {
   "cell_type": "markdown",
   "id": "d5c02394-51f5-481a-9766-76a86b55852a",
   "metadata": {},
   "source": [
    "### Part 2 Solution\n",
    "\n",
    "4329504793 - CORRECT"
   ]
  }
 ],
 "metadata": {
  "kernelspec": {
   "display_name": "Python 3",
   "language": "python",
   "name": "python3"
  },
  "language_info": {
   "codemirror_mode": {
    "name": "ipython",
    "version": 3
   },
   "file_extension": ".py",
   "mimetype": "text/x-python",
   "name": "python",
   "nbconvert_exporter": "python",
   "pygments_lexer": "ipython3",
   "version": "3.8.8"
  }
 },
 "nbformat": 4,
 "nbformat_minor": 5
}
