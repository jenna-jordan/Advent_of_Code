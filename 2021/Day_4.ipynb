{
 "cells": [
  {
   "cell_type": "markdown",
   "id": "bb90e762-196f-464b-8f6d-ee39a8132f00",
   "metadata": {},
   "source": [
    "# AoC Day 4\n",
    "\n",
    "Jenna Jordan\n",
    "\n",
    "4 December 2021\n",
    "\n",
    "## Prompt\n",
    "\n",
    "--- Day 4: Giant Squid ---\n",
    "\n",
    "You're already almost 1.5km (almost a mile) below the surface of the ocean, already so deep that you can't see any sunlight. What you can see, however, is a giant squid that has attached itself to the outside of your submarine.\n",
    "\n",
    "Maybe it wants to play bingo?\n",
    "\n",
    "Bingo is played on a set of boards each consisting of a 5x5 grid of numbers. Numbers are chosen at random, and the chosen number is marked on all boards on which it appears. (Numbers may not appear on all boards.) If all numbers in any row or any column of a board are marked, that board wins. (Diagonals don't count.)\n",
    "\n",
    "The submarine has a bingo subsystem to help passengers (currently, you and the giant squid) pass the time. It automatically generates a random order in which to draw numbers and a random set of boards (your puzzle input). For example:\n",
    "\n",
    "```\n",
    "7,4,9,5,11,17,23,2,0,14,21,24,10,16,13,6,15,25,12,22,18,20,8,19,3,26,1\n",
    "\n",
    "22 13 17 11  0\n",
    " 8  2 23  4 24\n",
    "21  9 14 16  7\n",
    " 6 10  3 18  5\n",
    " 1 12 20 15 19\n",
    "\n",
    " 3 15  0  2 22\n",
    " 9 18 13 17  5\n",
    "19  8  7 25 23\n",
    "20 11 10 24  4\n",
    "14 21 16 12  6\n",
    "\n",
    "14 21 17 24  4\n",
    "10 16 15  9 19\n",
    "18  8 23 26 20\n",
    "22 11 13  6  5\n",
    " 2  0 12  3  7\n",
    "```\n",
    "\n",
    "After the first five numbers are drawn (7, 4, 9, 5, and 11), there are no winners, but the boards are marked as follows (shown here adjacent to each other to save space):\n",
    "\n",
    "```\n",
    "22 13 17 11  0         3 15  0  2 22        14 21 17 24  4\n",
    " 8  2 23  4 24         9 18 13 17  5        10 16 15  9 19\n",
    "21  9 14 16  7        19  8  7 25 23        18  8 23 26 20\n",
    " 6 10  3 18  5        20 11 10 24  4        22 11 13  6  5\n",
    " 1 12 20 15 19        14 21 16 12  6         2  0 12  3  7\n",
    "```\n",
    "After the next six numbers are drawn (17, 23, 2, 0, 14, and 21), there are still no winners:\n",
    "\n",
    "```\n",
    "22 13 17 11  0         3 15  0  2 22        14 21 17 24  4\n",
    " 8  2 23  4 24         9 18 13 17  5        10 16 15  9 19\n",
    "21  9 14 16  7        19  8  7 25 23        18  8 23 26 20\n",
    " 6 10  3 18  5        20 11 10 24  4        22 11 13  6  5\n",
    " 1 12 20 15 19        14 21 16 12  6         2  0 12  3  7\n",
    "```\n",
    "\n",
    "Finally, 24 is drawn:\n",
    "\n",
    "```\n",
    "22 13 17 11  0         3 15  0  2 22        14 21 17 24  4\n",
    " 8  2 23  4 24         9 18 13 17  5        10 16 15  9 19\n",
    "21  9 14 16  7        19  8  7 25 23        18  8 23 26 20\n",
    " 6 10  3 18  5        20 11 10 24  4        22 11 13  6  5\n",
    " 1 12 20 15 19        14 21 16 12  6         2  0 12  3  7\n",
    "```\n",
    "\n",
    "At this point, the third board wins because it has at least one complete row or column of marked numbers (in this case, the entire top row is marked: 14 21 17 24 4).\n",
    "\n",
    "## Part 1\n",
    "\n",
    "The score of the winning board can now be calculated. Start by finding the sum of all unmarked numbers on that board; in this case, the sum is 188. Then, multiply that sum by the number that was just called when the board won, 24, to get the final score, 188 * 24 = 4512.\n",
    "\n",
    "To guarantee victory against the giant squid, figure out which board will win first. What will your final score be if you choose that board?"
   ]
  },
  {
   "cell_type": "code",
   "execution_count": 1,
   "id": "f8e59b4b-74ca-46c6-9bd7-b352b255a088",
   "metadata": {},
   "outputs": [],
   "source": [
    "# get input\n",
    "import copy\n",
    "\n",
    "with open(\"inputs/day4.txt\") as file:\n",
    "    num_line = file.readline()\n",
    "    num_list = num_line.rstrip().split(\",\")\n",
    "    boards_lines = file.readlines()\n",
    "\n",
    "boards_list = []\n",
    "board_counter = 0\n",
    "for line in boards_lines:\n",
    "    line = line.rstrip()\n",
    "    if line == '':\n",
    "        boards_list.append([])\n",
    "        board_counter += 1\n",
    "    else:\n",
    "        line_numbers = line.split()\n",
    "        marked_line_numbers = []\n",
    "        for num in line_numbers:\n",
    "            marked_line_numbers.append((num,0))\n",
    "        boards_list[board_counter-1].append(marked_line_numbers)\n",
    "\n",
    "boards_list_part2 = copy.deepcopy(boards_list)"
   ]
  },
  {
   "cell_type": "code",
   "execution_count": 2,
   "id": "dce74220-a06e-400b-a387-47eea14abbf8",
   "metadata": {},
   "outputs": [],
   "source": [
    "def mark_bingo_board(called_number, board):\n",
    "    for row_num, row in enumerate(board):\n",
    "        for spot_num, spot in enumerate(row):\n",
    "            num, mark = spot\n",
    "            if num == called_number:\n",
    "                board[row_num][spot_num] = (num,1)"
   ]
  },
  {
   "cell_type": "code",
   "execution_count": 3,
   "id": "6a36a299-11fa-4738-8464-6b1480ae3698",
   "metadata": {},
   "outputs": [],
   "source": [
    "def test_for_victory(board):\n",
    "    for row in board:\n",
    "        row_sum = 0\n",
    "        for spot in row:\n",
    "            num, mark = spot\n",
    "            row_sum += mark\n",
    "        if row_sum == 5:\n",
    "            return True\n",
    "    for c in range(len(board[0])):\n",
    "        column_sum = 0\n",
    "        for row in board:\n",
    "            num, mark = row[c]\n",
    "            column_sum += mark\n",
    "        if column_sum == 5:\n",
    "            return True\n",
    "    \n",
    "    return False       "
   ]
  },
  {
   "cell_type": "code",
   "execution_count": 4,
   "id": "303c2c42-21b3-4a49-b7c9-8c2f6d4c7573",
   "metadata": {},
   "outputs": [],
   "source": [
    "def calculate_final_score(board, winning_number):\n",
    "    unmarked_nums = 0\n",
    "    for row in board:\n",
    "        for spot in row:\n",
    "            num, mark = spot\n",
    "            if mark == 0:\n",
    "                unmarked_nums += int(num)\n",
    "    return unmarked_nums * int(winning_number)"
   ]
  },
  {
   "cell_type": "code",
   "execution_count": 5,
   "id": "6f763d8c-eac8-4ca5-86d9-ed4d4ccdd78d",
   "metadata": {},
   "outputs": [
    {
     "name": "stdout",
     "output_type": "stream",
     "text": [
      "82440\n"
     ]
    }
   ],
   "source": [
    "victory = False\n",
    "for called_num in num_list:\n",
    "    if victory:\n",
    "        break\n",
    "    for board in boards_list:\n",
    "        mark_bingo_board(called_num, board)\n",
    "        victory = test_for_victory(board)\n",
    "        if victory:\n",
    "            final_score = calculate_final_score(board, called_num)\n",
    "            break\n",
    "\n",
    "print(final_score)"
   ]
  },
  {
   "cell_type": "markdown",
   "id": "d3284a95-ee29-4e9e-92d6-cca0e797a33a",
   "metadata": {},
   "source": [
    "### Part 1 Solution\n",
    "\n",
    "82440 - CORRECT!"
   ]
  },
  {
   "cell_type": "markdown",
   "id": "2c00a83a-27ed-4d16-a54a-1d0c1cd6e4f4",
   "metadata": {},
   "source": [
    "## Part 2\n",
    "--- Part Two ---\n",
    "\n",
    "On the other hand, it might be wise to try a different strategy: let the giant squid win.\n",
    "\n",
    "You aren't sure how many bingo boards a giant squid could play at once, so rather than waste time counting its arms, the safe thing to do is to figure out which board will win last and choose that one. That way, no matter which boards it picks, it will win for sure.\n",
    "\n",
    "In the above example, the second board is the last to win, which happens after 13 is eventually called and its middle column is completely marked. If you were to keep playing until this point, the second board would have a sum of unmarked numbers equal to 148 for a final score of 148 * 13 = 1924.\n",
    "\n",
    "Figure out which board will win last. Once it wins, what would its final score be?"
   ]
  },
  {
   "cell_type": "code",
   "execution_count": 6,
   "id": "3ee7f7dd-d8b9-4952-b3af-b6551e613efe",
   "metadata": {},
   "outputs": [
    {
     "name": "stdout",
     "output_type": "stream",
     "text": [
      "20774\n"
     ]
    }
   ],
   "source": [
    "last_victory = False\n",
    "win_tracker = {}\n",
    "for called_num in num_list:\n",
    "    if last_victory:\n",
    "        break\n",
    "    for board_num, board in enumerate(boards_list_part2):\n",
    "        mark_bingo_board(called_num, board)\n",
    "        victory = test_for_victory(board)\n",
    "        if victory:\n",
    "            win_tracker[board_num] = True\n",
    "            if all(win_tracker.values()):\n",
    "                last_victory = True\n",
    "        else:\n",
    "            win_tracker[board_num] = False\n",
    "        if last_victory:\n",
    "            final_score = calculate_final_score(board, called_num)\n",
    "            break\n",
    "\n",
    "print(final_score)"
   ]
  },
  {
   "cell_type": "markdown",
   "id": "539edf84-611a-45d0-b348-4a94078e849c",
   "metadata": {},
   "source": [
    "## Part 2 Solution\n",
    "\n",
    "20774 - CORRECT!\n",
    "\n",
    "(on second attempt)\n",
    "\n",
    "At first submitted:\n",
    "\n",
    "10365 - WRONG: had a win count and did not account for boards winning again after first win"
   ]
  },
  {
   "cell_type": "code",
   "execution_count": null,
   "id": "c9cd75c0-b262-4d12-b114-761da643d5ab",
   "metadata": {},
   "outputs": [],
   "source": []
  }
 ],
 "metadata": {
  "kernelspec": {
   "display_name": "Python 3",
   "language": "python",
   "name": "python3"
  },
  "language_info": {
   "codemirror_mode": {
    "name": "ipython",
    "version": 3
   },
   "file_extension": ".py",
   "mimetype": "text/x-python",
   "name": "python",
   "nbconvert_exporter": "python",
   "pygments_lexer": "ipython3",
   "version": "3.8.8"
  }
 },
 "nbformat": 4,
 "nbformat_minor": 5
}
